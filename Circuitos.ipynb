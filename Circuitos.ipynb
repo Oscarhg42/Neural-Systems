{
 "cells": [
  {
   "cell_type": "markdown",
   "metadata": {},
   "source": [
    "## Ejemplos de Redes Neuronales"
   ]
  },
  {
   "cell_type": "markdown",
   "metadata": {},
   "source": [
    "Partiendo del modelo descrito en la Introducción, se puede pasar a ilustrar ejemplos con los modelos desarrollados. Como ya se explicó previamente, en numerosos lugares en el cerebro dos células interactúan, una inhibitoria y la otra excitatoria, en tal forma que una dispara una rápida ráfaga de potenciales de acción seguido por  un pulso bajo disparado por la otra. Por tanto, dos escalas de tiempo están envueltas. Los modelos que describimos a continuación reproducen dichos fenómenos."
   ]
  },
  {
   "cell_type": "markdown",
   "metadata": {},
   "source": [
    "### Circuito Thalamocortical"
   ]
  },
  {
   "cell_type": "markdown",
   "metadata": {},
   "source": [
    "Muchas señalas de entrada al cerebro son procesados en el thalamus, el cual ordena las señales para su posterior procesamiento en otras estructuras cerebrales como son la corteza entorhinal en el hippocampus (Una descripción más detallada de este sistema neuronal se puede encontrar [aquí](http://www.scholarpedia.org/article/Models_of_thalamocortical_system)). Ésto envuelve un circuito entre células excitatorias e inhibitorias en una estructura paralela llamada el complejo reticular. Las células thalamicas disparan repidamente, y el complejo reticular dispara lentamente. La red para este sistema se presenta en el siguiente diagrama.\n",
    "\n",
    "$$\\sigma\\rightarrow^{+}TH\\mbox{  }^{-}\\leftrightarrow^{+}RC\\rightarrow^{+}NC$$\n",
    "\n",
    "Ahora bien, para modelar el flujo de estímulos en la dirección $\\sigma\\rightarrow^{+}TH\\rightarrow^{+}RC\\rightarrow^{+}NC$ podemos simularlo con las siguientes expresiones:\n",
    "\n",
    "$$\\dot{x}=5.0(1+\\sigma+\\cos x-\\cos y)\\cdot\\cdot\\cdot\\cdot\\cdot\\cdot\\cdot\\cdot\\cdot\\cdot\\cdot\\cdot\\cdot\\cdot\\cdot\\cdot(A)$$\n",
    "\n",
    "$$\\dot{y}=0.04(1+\\cos y+10\\cos x)\\cdot\\cdot\\cdot\\cdot\\cdot\\cdot\\cdot\\cdot\\cdot\\cdot\\cdot\\cdot\\cdot\\cdot\\cdot\\cdot(B)$$\n",
    "\n"
   ]
  },
  {
   "cell_type": "markdown",
   "metadata": {},
   "source": [
    "Necesitaremos algunas paqueterías:"
   ]
  },
  {
   "cell_type": "code",
   "execution_count": 1,
   "metadata": {
    "collapsed": false
   },
   "outputs": [
    {
     "name": "stderr",
     "output_type": "stream",
     "text": [
      "WARNING: Union(args...) is deprecated, use Union{args...} instead.\n",
      " in depwarn at deprecated.jl:73\n",
      " in call at deprecated.jl:50\n",
      " [inlined code] from /home/topillo/.julia/v0.4/TaylorSeries/src/Taylor1.jl:127\n",
      " in anonymous at no file:0\n",
      " in include at ./boot.jl:261\n",
      " in include_from_node1 at ./loading.jl:304\n",
      " in include at ./boot.jl:261\n",
      " in include_from_node1 at ./loading.jl:304\n",
      " in require at ./loading.jl:243\n",
      " in include_string at loading.jl:266\n",
      " in execute_request_0x535c5df2 at /home/topillo/.julia/v0.4/IJulia/src/execute_request.jl:177\n",
      " in eventloop at /home/topillo/.julia/v0.4/IJulia/src/IJulia.jl:141\n",
      " in anonymous at task.jl:447\n",
      "while loading /home/topillo/.julia/v0.4/TaylorSeries/src/Taylor1.jl, in expression starting on line 143\n",
      "WARNING: Union(args...) is deprecated, use Union{args...} instead.\n",
      " in depwarn at deprecated.jl:73\n",
      " in call at deprecated.jl:50\n",
      " [inlined code] from /home/topillo/.julia/v0.4/TaylorSeries/src/Taylor1.jl:127\n",
      " in anonymous at no file:0\n",
      " in include at ./boot.jl:261\n",
      " in include_from_node1 at ./loading.jl:304\n",
      " in include at ./boot.jl:261\n",
      " in include_from_node1 at ./loading.jl:304\n",
      " in require at ./loading.jl:243\n",
      " in include_string at loading.jl:266\n",
      " in execute_request_0x535c5df2 at /home/topillo/.julia/v0.4/IJulia/src/execute_request.jl:177\n",
      " in eventloop at /home/topillo/.julia/v0.4/IJulia/src/IJulia.jl:141\n",
      " in anonymous at task.jl:447\n",
      "while loading /home/topillo/.julia/v0.4/TaylorSeries/src/Taylor1.jl, in expression starting on line 152\n",
      "WARNING: Union(args...) is deprecated, use Union{args...} instead.\n",
      " in depwarn at deprecated.jl:73\n",
      " in call at deprecated.jl:50\n",
      " [inlined code] from /home/topillo/.julia/v0.4/TaylorSeries/src/Taylor1.jl:127\n",
      " in anonymous at no file:0\n",
      " in include at ./boot.jl:261\n",
      " in include_from_node1 at ./loading.jl:304\n",
      " in include at ./boot.jl:261\n",
      " in include_from_node1 at ./loading.jl:304\n",
      " in require at ./loading.jl:243\n",
      " in include_string at loading.jl:266\n",
      " in execute_request_0x535c5df2 at /home/topillo/.julia/v0.4/IJulia/src/execute_request.jl:177\n",
      " in eventloop at /home/topillo/.julia/v0.4/IJulia/src/IJulia.jl:141\n",
      " in anonymous at task.jl:447\n",
      "while loading /home/topillo/.julia/v0.4/TaylorSeries/src/Taylor1.jl, in expression starting on line 143\n",
      "WARNING: Union(args...) is deprecated, use Union{args...} instead.\n",
      " in depwarn at deprecated.jl:73\n",
      " in call at deprecated.jl:50\n",
      " [inlined code] from /home/topillo/.julia/v0.4/TaylorSeries/src/Taylor1.jl:127\n",
      " in anonymous at no file:0\n",
      " in include at ./boot.jl:261\n",
      " in include_from_node1 at ./loading.jl:304\n",
      " in include at ./boot.jl:261\n",
      " in include_from_node1 at ./loading.jl:304\n",
      " in require at ./loading.jl:243\n",
      " in include_string at loading.jl:266\n",
      " in execute_request_0x535c5df2 at /home/topillo/.julia/v0.4/IJulia/src/execute_request.jl:177\n",
      " in eventloop at /home/topillo/.julia/v0.4/IJulia/src/IJulia.jl:141\n",
      " in anonymous at task.jl:447\n",
      "while loading /home/topillo/.julia/v0.4/TaylorSeries/src/Taylor1.jl, in expression starting on line 152\n",
      "WARNING: Union(args...) is deprecated, use Union{args...} instead.\n",
      " in depwarn at deprecated.jl:73\n",
      " in call at deprecated.jl:50\n",
      " in include at ./boot.jl:261\n",
      " in include_from_node1 at ./loading.jl:304\n",
      " in include at ./boot.jl:261\n",
      " in include_from_node1 at ./loading.jl:304\n",
      " in require at ./loading.jl:243\n",
      " in include_string at loading.jl:266\n",
      " in execute_request_0x535c5df2 at /home/topillo/.julia/v0.4/IJulia/src/execute_request.jl:177\n",
      " in eventloop at /home/topillo/.julia/v0.4/IJulia/src/IJulia.jl:141\n",
      " in anonymous at task.jl:447\n",
      "while loading /home/topillo/.julia/v0.4/TaylorSeries/src/Taylor1.jl, in expression starting on line 167\n",
      "WARNING: Union(args...) is deprecated, use Union{args...} instead.\n",
      " in depwarn at deprecated.jl:73\n",
      " in call at deprecated.jl:50\n",
      " in include at ./boot.jl:261\n",
      " in include_from_node1 at ./loading.jl:304\n",
      " in include at ./boot.jl:261\n",
      " in include_from_node1 at ./loading.jl:304\n",
      " in require at ./loading.jl:243\n",
      " in include_string at loading.jl:266\n",
      " in execute_request_0x535c5df2 at /home/topillo/.julia/v0.4/IJulia/src/execute_request.jl:177\n",
      " in eventloop at /home/topillo/.julia/v0.4/IJulia/src/IJulia.jl:141\n",
      " in anonymous at task.jl:447\n",
      "while loading /home/topillo/.julia/v0.4/TaylorSeries/src/Taylor1.jl, in expression starting on line 175\n",
      "WARNING: Base.String is deprecated, use AbstractString instead.\n",
      "  likely near /home/topillo/.julia/v0.4/TaylorSeries/src/parameters.jl:42\n",
      "WARNING: Base.String is deprecated, use AbstractString instead.\n",
      "  likely near /home/topillo/.julia/v0.4/TaylorSeries/src/parameters.jl:47\n",
      "WARNING: Base.String is deprecated, use AbstractString instead.\n",
      "  likely near /home/topillo/.julia/v0.4/TaylorSeries/src/parameters.jl:47\n",
      "WARNING: Base.String is deprecated, use AbstractString instead.\n",
      "  likely near /home/topillo/.julia/v0.4/TaylorSeries/src/parameters.jl:47\n",
      "WARNING: Base.String is deprecated, use AbstractString instead.\n",
      "  likely near /home/topillo/.julia/v0.4/TaylorSeries/src/parameters.jl:434\n",
      "WARNING: Base.String is deprecated, use AbstractString instead.\n",
      "  likely near /home/topillo/.julia/v0.4/TaylorSeries/src/parameters.jl:78\n",
      "WARNING: Base.String is deprecated, use AbstractString instead.\n",
      "  likely near /home/topillo/.julia/v0.4/TaylorSeries/src/parameters.jl:78\n",
      "WARNING: Base.String is deprecated, use AbstractString instead.\n",
      "  likely near /home/topillo/.julia/v0.4/TaylorSeries/src/parameters.jl:78\n",
      "WARNING: Base.String is deprecated, use AbstractString instead.\n",
      "  likely near /home/topillo/.julia/v0.4/TaylorSeries/src/parameters.jl:89\n",
      "WARNING: Base.String is deprecated, use AbstractString instead.\n",
      "  likely near /home/topillo/.julia/v0.4/TaylorSeries/src/parameters.jl:89\n",
      "WARNING: Base.String is deprecated, use AbstractString instead.\n",
      "  likely near /home/topillo/.julia/v0.4/TaylorSeries/src/parameters.jl:89\n",
      "WARNING: Union(args...) is deprecated, use Union{args...} instead.\n",
      " in depwarn at deprecated.jl:73\n",
      " in call at deprecated.jl:50\n",
      " in include at ./boot.jl:261\n",
      " in include_from_node1 at ./loading.jl:304\n",
      " in include at ./boot.jl:261\n",
      " in include_from_node1 at ./loading.jl:304\n",
      " in require at ./loading.jl:243\n",
      " in include_string at loading.jl:266\n",
      " in execute_request_0x535c5df2 at /home/topillo/.julia/v0.4/IJulia/src/execute_request.jl:177\n",
      " in eventloop at /home/topillo/.julia/v0.4/IJulia/src/IJulia.jl:141\n",
      " in anonymous at task.jl:447\n",
      "while loading /home/topillo/.julia/v0.4/TaylorSeries/src/TaylorN.jl, in expression starting on line 129\n",
      "WARNING: Union(args...) is deprecated, use Union{args...} instead.\n",
      " in depwarn at deprecated.jl:73\n",
      " in call at deprecated.jl:50\n",
      " [inlined code] from /home/topillo/.julia/v0.4/TaylorSeries/src/TaylorN.jl:311\n",
      " in anonymous at no file:0\n",
      " in include at ./boot.jl:261\n",
      " in include_from_node1 at ./loading.jl:304\n",
      " in include at ./boot.jl:261\n",
      " in include_from_node1 at ./loading.jl:304\n",
      " in require at ./loading.jl:243\n",
      " in include_string at loading.jl:266\n",
      " in execute_request_0x535c5df2 at /home/topillo/.julia/v0.4/IJulia/src/execute_request.jl:177\n",
      " in eventloop at /home/topillo/.julia/v0.4/IJulia/src/IJulia.jl:141\n",
      " in anonymous at task.jl:447\n",
      "while loading /home/topillo/.julia/v0.4/TaylorSeries/src/TaylorN.jl, in expression starting on line 312\n",
      "WARNING: Union(args...) is deprecated, use Union{args...} instead.\n",
      " in depwarn at deprecated.jl:73\n",
      " in call at deprecated.jl:50\n",
      " [inlined code] from /home/topillo/.julia/v0.4/TaylorSeries/src/TaylorN.jl:311\n",
      " in anonymous at no file:0\n",
      " in include at ./boot.jl:261\n",
      " in include_from_node1 at ./loading.jl:304\n",
      " in include at ./boot.jl:261\n",
      " in include_from_node1 at ./loading.jl:304\n",
      " in require at ./loading.jl:243\n",
      " in include_string at loading.jl:266\n",
      " in execute_request_0x535c5df2 at /home/topillo/.julia/v0.4/IJulia/src/execute_request.jl:177\n",
      " in eventloop at /home/topillo/.julia/v0.4/IJulia/src/IJulia.jl:141\n",
      " in anonymous at task.jl:447\n",
      "while loading /home/topillo/.julia/v0.4/TaylorSeries/src/TaylorN.jl, in expression starting on line 322\n",
      "WARNING: Union(args...) is deprecated, use Union{args...} instead.\n",
      " in depwarn at deprecated.jl:73\n",
      " in call at deprecated.jl:50\n",
      " [inlined code] from /home/topillo/.julia/v0.4/TaylorSeries/src/TaylorN.jl:311\n",
      " in anonymous at no file:0\n",
      " in include at ./boot.jl:261\n",
      " in include_from_node1 at ./loading.jl:304\n",
      " in include at ./boot.jl:261\n",
      " in include_from_node1 at ./loading.jl:304\n",
      " in require at ./loading.jl:243\n",
      " in include_string at loading.jl:266\n",
      " in execute_request_0x535c5df2 at /home/topillo/.julia/v0.4/IJulia/src/execute_request.jl:177\n",
      " in eventloop at /home/topillo/.julia/v0.4/IJulia/src/IJulia.jl:141\n",
      " in anonymous at task.jl:447\n",
      "while loading /home/topillo/.julia/v0.4/TaylorSeries/src/TaylorN.jl, in expression starting on line 312\n",
      "WARNING: Union(args...) is deprecated, use Union{args...} instead.\n",
      " in depwarn at deprecated.jl:73\n",
      " in call at deprecated.jl:50\n",
      " [inlined code] from /home/topillo/.julia/v0.4/TaylorSeries/src/TaylorN.jl:311\n",
      " in anonymous at no file:0\n",
      " in include at ./boot.jl:261\n",
      " in include_from_node1 at ./loading.jl:304\n",
      " in include at ./boot.jl:261\n",
      " in include_from_node1 at ./loading.jl:304\n",
      " in require at ./loading.jl:243\n",
      " in include_string at loading.jl:266\n",
      " in execute_request_0x535c5df2 at /home/topillo/.julia/v0.4/IJulia/src/execute_request.jl:177\n",
      " in eventloop at /home/topillo/.julia/v0.4/IJulia/src/IJulia.jl:141\n",
      " in anonymous at task.jl:447\n",
      "while loading /home/topillo/.julia/v0.4/TaylorSeries/src/TaylorN.jl, in expression starting on line 322\n",
      "WARNING: Union(args...) is deprecated, use Union{args...} instead.\n",
      " in depwarn at deprecated.jl:73\n",
      " in call at deprecated.jl:50\n",
      " in include at ./boot.jl:261\n",
      " in include_from_node1 at ./loading.jl:304\n",
      " in include at ./boot.jl:261\n",
      " in include_from_node1 at ./loading.jl:304\n",
      " in require at ./loading.jl:243\n",
      " in include_string at loading.jl:266\n",
      " in execute_request_0x535c5df2 at /home/topillo/.julia/v0.4/IJulia/src/execute_request.jl:177\n",
      " in eventloop at /home/topillo/.julia/v0.4/IJulia/src/IJulia.jl:141\n",
      " in anonymous at task.jl:447\n",
      "while loading /home/topillo/.julia/v0.4/TaylorSeries/src/TaylorN.jl, in expression starting on line 369\n",
      "WARNING: Union(args...) is deprecated, use Union{args...} instead.\n",
      " in depwarn at deprecated.jl:73\n",
      " in call at deprecated.jl:50\n",
      " in include at ./boot.jl:261\n",
      " in include_from_node1 at ./loading.jl:304\n",
      " in include at ./boot.jl:261\n",
      " in include_from_node1 at ./loading.jl:304\n",
      " in require at ./loading.jl:243\n",
      " in include_string at loading.jl:266\n",
      " in execute_request_0x535c5df2 at /home/topillo/.julia/v0.4/IJulia/src/execute_request.jl:177\n",
      " in eventloop at /home/topillo/.julia/v0.4/IJulia/src/IJulia.jl:141\n",
      " in anonymous at task.jl:447\n",
      "while loading /home/topillo/.julia/v0.4/TaylorSeries/src/TaylorN.jl, in expression starting on line 378\n",
      "WARNING: Union(args...) is deprecated, use Union{args...} instead.\n",
      " in depwarn at deprecated.jl:73\n",
      " in call at deprecated.jl:50\n",
      " in include at ./boot.jl:261\n",
      " in include_from_node1 at ./loading.jl:304\n",
      " in include at ./boot.jl:261\n",
      " in include_from_node1 at ./loading.jl:304\n",
      " in require at ./loading.jl:243\n",
      " in include_string at loading.jl:266\n",
      " in execute_request_0x535c5df2 at /home/topillo/.julia/v0.4/IJulia/src/execute_request.jl:177\n",
      " in eventloop at /home/topillo/.julia/v0.4/IJulia/src/IJulia.jl:141\n",
      " in anonymous at task.jl:447\n",
      "while loading /home/topillo/.julia/v0.4/TaylorSeries/src/TaylorN.jl, in expression starting on line 383\n",
      "WARNING: Union(args...) is deprecated, use Union{args...} instead.\n",
      " in depwarn at deprecated.jl:73\n",
      " in call at deprecated.jl:50\n",
      " in include at ./boot.jl:261\n",
      " in include_from_node1 at ./loading.jl:304\n",
      " in include at ./boot.jl:261\n",
      " in include_from_node1 at ./loading.jl:304\n",
      " in require at ./loading.jl:243\n",
      " in include_string at loading.jl:266\n",
      " in execute_request_0x535c5df2 at /home/topillo/.julia/v0.4/IJulia/src/execute_request.jl:177\n",
      " in eventloop at /home/topillo/.julia/v0.4/IJulia/src/IJulia.jl:141\n",
      " in anonymous at task.jl:447\n",
      "while loading /home/topillo/.julia/v0.4/TaylorSeries/src/TaylorN.jl, in expression starting on line 392\n",
      "WARNING: Union(args...) is deprecated, use Union{args...} instead.\n",
      " in depwarn at deprecated.jl:73\n",
      " in call at deprecated.jl:50\n",
      " in include at ./boot.jl:261\n",
      " in include_from_node1 at ./loading.jl:304\n",
      " in include at ./boot.jl:261\n",
      " in include_from_node1 at ./loading.jl:304\n",
      " in require at ./loading.jl:243\n",
      " in include_string at loading.jl:266\n",
      " in execute_request_0x535c5df2 at /home/topillo/.julia/v0.4/IJulia/src/execute_request.jl:177\n",
      " in eventloop at /home/topillo/.julia/v0.4/IJulia/src/IJulia.jl:141\n",
      " in anonymous at task.jl:447\n",
      "while loading /home/topillo/.julia/v0.4/TaylorSeries/src/TaylorN.jl, in expression starting on line 845\n",
      "WARNING: Union(args...) is deprecated, use Union{args...} instead.\n",
      " in depwarn at deprecated.jl:73\n",
      " in call at deprecated.jl:50\n",
      " in include at ./boot.jl:261\n",
      " in include_from_node1 at ./loading.jl:304\n",
      " in include at ./boot.jl:261\n",
      " in include_from_node1 at ./loading.jl:304\n",
      " in require at ./loading.jl:243\n",
      " in include_string at loading.jl:266\n",
      " in execute_request_0x535c5df2 at /home/topillo/.julia/v0.4/IJulia/src/execute_request.jl:177\n",
      " in eventloop at /home/topillo/.julia/v0.4/IJulia/src/IJulia.jl:141\n",
      " in anonymous at task.jl:447\n",
      "while loading /home/topillo/.julia/v0.4/TaylorSeries/src/TaylorN.jl, in expression starting on line 860\n",
      "WARNING: Union(args...) is deprecated, use Union{args...} instead.\n",
      " in depwarn at deprecated.jl:73\n",
      " in call at deprecated.jl:50\n",
      " in include at ./boot.jl:261\n",
      " in include_from_node1 at ./loading.jl:304\n",
      " in include at ./boot.jl:261\n",
      " in include_from_node1 at ./loading.jl:304\n",
      " in require at ./loading.jl:243\n",
      " in include_string at loading.jl:266\n",
      " in execute_request_0x535c5df2 at /home/topillo/.julia/v0.4/IJulia/src/execute_request.jl:177\n",
      " in eventloop at /home/topillo/.julia/v0.4/IJulia/src/IJulia.jl:141\n",
      " in anonymous at task.jl:447\n",
      "while loading /home/topillo/.julia/v0.4/TaylorSeries/src/TaylorN.jl, in expression starting on line 879\n",
      "WARNING: Union(args...) is deprecated, use Union{args...} instead.\n",
      " in depwarn at deprecated.jl:73\n",
      " in call at deprecated.jl:50\n",
      " in include at ./boot.jl:261\n",
      " in include_from_node1 at ./loading.jl:304\n",
      " in include at ./boot.jl:261\n",
      " in include_from_node1 at ./loading.jl:304\n",
      " in require at ./loading.jl:243\n",
      " in include_string at loading.jl:266\n",
      " in execute_request_0x535c5df2 at /home/topillo/.julia/v0.4/IJulia/src/execute_request.jl:177\n",
      " in eventloop at /home/topillo/.julia/v0.4/IJulia/src/IJulia.jl:141\n",
      " in anonymous at task.jl:447\n",
      "while loading /home/topillo/.julia/v0.4/TaylorSeries/src/TaylorN.jl, in expression starting on line 914\n",
      "WARNING: Union(args...) is deprecated, use Union{args...} instead.\n"
     ]
    }
   ],
   "source": [
    "using TaylorSeries"
   ]
  },
  {
   "cell_type": "code",
   "execution_count": 2,
   "metadata": {
    "collapsed": false
   },
   "outputs": [
    {
     "name": "stdout",
     "output_type": "stream",
     "text": [
      "0."
     ]
    },
    {
     "name": "stderr",
     "output_type": "stream",
     "text": [
      " in depwarn at deprecated.jl:73\n",
      " in call at deprecated.jl:50\n",
      " in include at ./boot.jl:261\n",
      " in include_from_node1 at ./loading.jl:304\n",
      " in include at ./boot.jl:261\n",
      " in include_from_node1 at ./loading.jl:304\n",
      " in require at ./loading.jl:243\n",
      " in include_string at loading.jl:266\n",
      " in execute_request_0x535c5df2 at /home/topillo/.julia/v0.4/IJulia/src/execute_request.jl:177\n",
      " in eventloop at /home/topillo/.julia/v0.4/IJulia/src/IJulia.jl:141\n",
      " in anonymous at task.jl:447\n",
      "while loading /home/topillo/.julia/v0.4/TaylorSeries/src/printing.jl, in expression starting on line 149\n",
      "WARNING: Union(args...) is deprecated, use Union{args...} instead.\n",
      " in depwarn at deprecated.jl:73\n",
      " in call at deprecated.jl:50\n",
      " in include at ./boot.jl:261\n",
      " in include_from_node1 at ./loading.jl:304\n",
      " in include at ./boot.jl:261\n",
      " in include_from_node1 at ./loading.jl:304\n",
      " in require at ./loading.jl:243\n",
      " in include_string at loading.jl:266\n",
      " in execute_request_0x535c5df2 at /home/topillo/.julia/v0.4/IJulia/src/execute_request.jl:177\n",
      " in eventloop at /home/topillo/.julia/v0.4/IJulia/src/IJulia.jl:141\n",
      " in anonymous at task.jl:447\n",
      "while loading /home/topillo/.julia/v0.4/TaylorSeries/src/printing.jl, in expression starting on line 154\n"
     ]
    }
   ],
   "source": [
    "println(VERSION)\n",
    "\n",
    "using Compat"
   ]
  },
  {
   "cell_type": "code",
   "execution_count": 3,
   "metadata": {
    "collapsed": false
   },
   "outputs": [],
   "source": [
    "using PyPlot"
   ]
  },
  {
   "cell_type": "markdown",
   "metadata": {},
   "source": [
    "Lo siguiente será resolver las ecuaciones anteriores usando el método de Integración de Taylor, para lo cual conviene desarrollar las funciones que serán de gran ayuda, no sólo en este momento sino también más adelante. Como se estudió en clase: necesitamos establecer condiciones iniciales $x(t_{0})$ y $y(t_{0})$, las cuales emplearemos para obtener cada término de la expansión de Taylor de forma recursiva, usando:\n",
    "\n",
    "$$x_{n+1}=\\frac{f_{n}(x)}{n+1}\\cdot\\cdot\\cdot\\cdot\\cdot\\cdot\\cdot\\cdot\\cdot\\cdot\\cdot\\cdot\\cdot\\cdot\\cdot\\cdot\\cdot\\cdot(1)$$\n",
    "\n",
    "donde $f_{n}(x)$ es el $n$-ésimo coeficiente de $f(x)$, siendo $\\dot{x}=f(x)$. De igual forma, $x_{n}$ es el $n$-ésimo coeficiente para la variable $x(t)$, alrededor de $x_{0}=x(t_{0})$\n",
    "\n",
    "Por otro lado, como ya sabemos, los últimos dos términos de la expansión son usados para determinar el tamaño de paso $h$ para la integración junto con el valor de $\\epsilon$, es decir:\n",
    "\n",
    "$$h=min\\left[\\left(\\frac{\\epsilon}{|x_{k-1}|} \\right)^{1/(k-1)},\\left(\\frac{\\epsilon}{|x_{k}|} \\right)^{1/k}\\right]$$\n",
    "\n",
    "donde $k$ es el orden del polinomio de Taylor.\n",
    "\n",
    "Por tanto, debemos construir la función de paso para el método de Taylor, la cual estará dada por:"
   ]
  },
  {
   "cell_type": "code",
   "execution_count": 4,
   "metadata": {
    "collapsed": false,
    "scrolled": true
   },
   "outputs": [
    {
     "name": "stdout",
     "output_type": "stream",
     "text": [
      "4.1\n"
     ]
    },
    {
     "data": {
      "text/plain": [
       "paso (generic function with 1 method)"
      ]
     },
     "execution_count": 4,
     "metadata": {},
     "output_type": "execute_result"
    }
   ],
   "source": [
    "# Función paso: determina el tamaño de paso para la integración\n",
    "# por método de Taylor.\n",
    "function paso{T<:Real}(x::Taylor1{T}, epsilon::Float64)# Se introduce un polinomio de Taylor y el epsilon\n",
    "    k = x.order# Orden del polinomio\n",
    "    h = 1.0# Iniciamos h\n",
    "    for i in [k-1, k]# Iteramos solo para los dos primeros términos del polinomio\n",
    "        aux = abs( x.coeffs[i+1] )\n",
    "        h = min(h, (epsilon/aux)^(1.0/i))# Nos quedamos con el mínimo\n",
    "    end\n",
    "    return h # La función devuelve h\n",
    "end"
   ]
  },
  {
   "cell_type": "markdown",
   "metadata": {},
   "source": [
    "Igualmente se requiere de una función que determine los coeficientes en cada paso, usaremos la función evaluador:"
   ]
  },
  {
   "cell_type": "code",
   "execution_count": 5,
   "metadata": {
    "collapsed": false
   },
   "outputs": [
    {
     "data": {
      "text/plain": [
       "evaluador (generic function with 1 method)"
      ]
     },
     "execution_count": 5,
     "metadata": {},
     "output_type": "execute_result"
    }
   ],
   "source": [
    "# Función evaluador: Determina los coeficientes después de cada paso.\n",
    "function evaluador{T<:Real}( Eqs::Function, vec0::Array{T,1}, N::Int, epsilon::Float64, σ)# La función solicita las ecuaciones\n",
    "    # a resolver, un arreglo de condiciones iniciales, N que indica el máximo coeficiente de expansión y la epsilón.\n",
    "    \n",
    "    n = length(vec0)# Definimos algunas cantidades de utilidad\n",
    "    vec1T = Eqs(vec0, N, σ)# Resolvemos las ecuaciones con las condiciones iniciales\n",
    "    \n",
    "    # Obtenemos h para cada serie usando la función paso\n",
    "    hh = vec0\n",
    "    for i in eachindex(vec1T)\n",
    "        hh[i] = paso(vec1T[i], epsilon)\n",
    "    end\n",
    "    \n",
    "    # Tomamos el mínimo de los h's\n",
    "    hfin = hh[1]\n",
    "    for i in eachindex(hh)\n",
    "        hfin = min(hfin,hh[i])\n",
    "    end\n",
    "    \n",
    "    # Se determinan los valores del nuevo arreglo\n",
    "    for i=1:n\n",
    "        vec0[i] = evaluate(vec1T[i], hfin)\n",
    "    end\n",
    "    \n",
    "    return hfin, vec0# Devolvemos los resultados\n",
    "end"
   ]
  },
  {
   "cell_type": "markdown",
   "metadata": {},
   "source": [
    "La función anterior es suficiente para poder empezar a trabajar con el método de Integración de Taylor para resolver el sistema de ecuaciones dierenciales anterior. Lo siguiente es darle condiciones iniciales a nuestro problema, en particular asumiremos un estado de reposo en el sistema, es decir: $x(0)=0$ y $y(0)=0$. Usaremos una función para escribir las condiciones iniciales, ésto permitirá cambiarlas a nuestro justo para ejemplificar más casos:"
   ]
  },
  {
   "cell_type": "code",
   "execution_count": 6,
   "metadata": {
    "collapsed": false
   },
   "outputs": [
    {
     "data": {
      "text/plain": [
       "Cond0 (generic function with 1 method)"
      ]
     },
     "execution_count": 6,
     "metadata": {},
     "output_type": "execute_result"
    }
   ],
   "source": [
    "# Función Cond0: devuelve las condiciones iniciales.\n",
    "function Cond0{T<:Real}(α::T, β::T)# El usuario puede introducir las condiciones iniciales que desee\n",
    "    x0  = α\n",
    "    y0  = β\n",
    "    return x0, y0# Y la función, claro, devolverá tales condiciones iniciales\n",
    "end"
   ]
  },
  {
   "cell_type": "markdown",
   "metadata": {},
   "source": [
    "Paso siguiente, necesitamos una función que obtenga el polinomio de Taylor usando la ecuación de recurrencia (1), a continuación se presenta tal función:"
   ]
  },
  {
   "cell_type": "code",
   "execution_count": 7,
   "metadata": {
    "collapsed": false
   },
   "outputs": [
    {
     "data": {
      "text/plain": [
       "ThalaFun (generic function with 1 method)"
      ]
     },
     "execution_count": 7,
     "metadata": {},
     "output_type": "execute_result"
    }
   ],
   "source": [
    "# Función ThalaFun: determina los coeficientes de la series de Taylor según las ecuaciones (A) y (B).\n",
    "function ThalaFun{T<:Real}(vec::Array{T,1} , N::Int, σ) # La función pide un arreglo con los puntos alrededor\n",
    "    # de los cuales se obtendrán las series, el máximo coeficiente N del polinomio de Taylor y σ\n",
    "    xT = Taylor1(vec[1], N)# Los primeros términos de la serie x0 y y0 \n",
    "    yT = Taylor1(vec[2], N)\n",
    "\n",
    "    for k = 0:N-1\n",
    "        knext = k+1\n",
    "        # Las siguientes series contienen los coeficientes hasta k\n",
    "        # los cuales son necesarios en las ecuaciones de recurrencia\n",
    "        # para obtener el coeficiente k+1\n",
    "        xTt = Taylor1( xT.coeffs[1:k+1], k)\n",
    "        yTt = Taylor1( yT.coeffs[1:k+1], k)\n",
    "        # Las ecuaciones de movimiento, determinadas por (A) y (B)\n",
    "        Dx = 5.0*(1.0+σ+cos(xTt)-cos(yTt))\n",
    "        Dy = 0.04*(1.0+cos(yTt)+10.0*cos(xTt))\n",
    "        # Los términos k+1 están determinados por (1)\n",
    "        xT.coeffs[knext+1]  = Dx.coeffs[knext] / knext\n",
    "        yT.coeffs[knext+1]  = Dy.coeffs[knext] / knext\n",
    "    end\n",
    "    # Se devuelven los resultados\n",
    "    return Taylor1[xT, yT]\n",
    "end"
   ]
  },
  {
   "cell_type": "markdown",
   "metadata": {},
   "source": [
    "Con lo anterior podemos pasar a realizar la integración con el método de Taylor, ésto es:"
   ]
  },
  {
   "cell_type": "code",
   "execution_count": 8,
   "metadata": {
    "collapsed": false
   },
   "outputs": [
    {
     "data": {
      "text/plain": [
       "Integrador1 (generic function with 1 method)"
      ]
     },
     "execution_count": 8,
     "metadata": {},
     "output_type": "execute_result"
    }
   ],
   "source": [
    "# Función Integrador1: contiene las ecuaciones a resolver usando el método de integración de Taylor\n",
    "function Integrador1( α::Float64, β::Float64, t_max::Float64, Eqs::Function, epsilon::Float64, N::Int )\n",
    "    # Usará las funciones antes desarrolladas, este función pide un tiempo máximo de operación, las ecuaciones\n",
    "    # a resolver, el epsilón y el orden del polinomio de Taylor\n",
    "    t0 = 0.0# Iniciamos el tiempo\n",
    "    x0, y0 = Cond0(α, β)# Condiciones iniciales\n",
    "    \n",
    "    σ = 0.5 # Probaremos con un valor de 0.5 para sigma\n",
    "    \n",
    "    tV, xV, yV = Float64[], Float64[], Float64[]# Aquí se ubicarán los resultados\n",
    "    push!(tV, t0)\n",
    "    push!(xV, x0)# COlocamos condiciones iniciales\n",
    "    push!(yV, y0)\n",
    "\n",
    "    # Resolvemos para cada tiempo\n",
    "    dt = 1.0# Paso inicial\n",
    "    while t0 < t_max && dt>1.0e-8# Condiciones de paro\n",
    "        \n",
    "        dt, res = evaluador( Eqs, [x0, y0], N, epsilon, σ )# Resolvemos\n",
    "        t0 += dt# A t0 se le suma el tamaño de paso\n",
    "        push!(tV,t0)\n",
    "        push!(xV,res[1])# Los resultados se guardan\n",
    "        push!(yV,res[2])\n",
    "        x0, y0 = res[1], res[2]# Nuevas condiciones iniciales\n",
    "    end\n",
    "\n",
    "    return tV, xV, yV# Devuelve los resultados\n",
    "end"
   ]
  },
  {
   "cell_type": "markdown",
   "metadata": {},
   "source": [
    "Con esto último tenemos lo necesario para resolver nuestro sistema de ecuaciones, manos a la obra:"
   ]
  },
  {
   "cell_type": "code",
   "execution_count": 9,
   "metadata": {
    "collapsed": false
   },
   "outputs": [],
   "source": [
    "Tres,Xres,Yres=Integrador1(-π,-π,300.0,ThalaFun,10.0^(-10),20);"
   ]
  },
  {
   "cell_type": "markdown",
   "metadata": {},
   "source": [
    "Hasta este punto hemos logrado resolver el sistema de ecuaciones diferenciales, ahora estudiemos nuestros resultados. Sin embargo para poder dar una mejor interpretación de ellos conviene mostrar el coseno de $x$ y $y$ como una función del tiempo, es decir mostraremos $\\cos x(t)$ y $\\cos y(t)$. Entonces:"
   ]
  },
  {
   "cell_type": "code",
   "execution_count": 10,
   "metadata": {
    "collapsed": true
   },
   "outputs": [],
   "source": [
    "cosX = Xres\n",
    "cosY = Yres\n",
    "for i in eachindex(Xres)\n",
    "    cosX[i] = cos(Xres[i])\n",
    "    cosY[i] = cos(Yres[i])\n",
    "end"
   ]
  },
  {
   "cell_type": "markdown",
   "metadata": {},
   "source": [
    "Grafiquemos:"
   ]
  },
  {
   "cell_type": "code",
   "execution_count": 11,
   "metadata": {
    "collapsed": false
   },
   "outputs": [
    {
     "data": {
      "image/png": "[encoded data removed]",
      "text/plain": [
       "PyPlot.Figure(PyObject <matplotlib.figure.Figure object at 0x8848676c>)"
      ]
     },
     "metadata": {},
     "output_type": "display_data"
    }
   ],
   "source": [
    "plot(Tres,cosX)\n",
    "xlim([0.0,300.0])\n",
    "xlabel(L\"$t$\")\n",
    "ylabel(L\"$\\cos(x(t))$\")\n",
    "show()"
   ]
  },
  {
   "cell_type": "code",
   "execution_count": 12,
   "metadata": {
    "collapsed": false
   },
   "outputs": [
    {
     "data": {
      "image/png": "[encoded data removed]",
      "text/plain": [
       "PyPlot.Figure(PyObject <matplotlib.figure.Figure object at 0x86ccdf2c>)"
      ]
     },
     "metadata": {},
     "output_type": "display_data"
    }
   ],
   "source": [
    "plot(Tres,cosY)\n",
    "xlim([0.0,300.0])\n",
    "xlabel(L\"$t$\")\n",
    "ylabel(L\"$\\cos(y(t))$\")\n",
    "show()"
   ]
  },
  {
   "cell_type": "markdown",
   "metadata": {},
   "source": [
    "En base a lo anterior, se puede proponer que el cerebro enfoca la atención en los estímulos más persistentes usando un circuito en el thalamus. Para darle un enfoque más general simulamos un circuito electrónico construido con el oscilador de atoll, en el cual se tendrán diferentes señales llegando al thalamus.\n",
    "\n",
    "Cuando estímulos de varias intensidad llegan al thalamus, este sólo parará le estímulos más demandantes a la neocorteza para su posterior procesamiento. Una ceálula del thalamus excita una célula del complejo reitucular, la cual retroalimenta inhibiciones a las células thalamicas en tal forma que ráfadas repetitivas son observadas como en el modelo de atoll. En la Figura anterior, la ctividad del par efectivamente inhibe otras células RC cercanas, y éste excita una sola estrcutura neocortical. En el caso de la red completa, se tiene un complejo como el de la siguiente forma:"
   ]
  },
  {
   "cell_type": "markdown",
   "metadata": {},
   "source": [
    "Las fases de los voltajes son denotados por $x_{i}$ y $y_{i}$, donde $i={1,2,3,....,N}$, para las células TH y RC, respectivamente. Las fases de las proyecciones neocorticales son $z_{i}$. Un modelo para esta red se puede describir con las ecuaciones:\n",
    "\n",
    "$$x_{i}=5(1+cos x_{i}-\\cos_{+}y_{i}+\\sigma_{i}(t))\\cdot\\cdot\\cdot\\cdot\\cdot\\cdot\\cdot\\cdot\\cdot\\cdot\\cdot(C)$$\n",
    "\n",
    "$$y_{i}=0.04(1+cos y_{i}+\\tanh(2\\cos_{+}x_{i}-10L(t)))\\cdot\\cdot\\cdot\\cdot\\cdot\\cdot\\cdot\\cdot\\cdot\\cdot\\cdot(D)$$\n",
    "\n",
    "$$z_{i}=10(0.1+cos z_{i}-\\cos_{+}y_{i})\\cdot\\cdot\\cdot\\cdot\\cdot\\cdot\\cdot\\cdot\\cdot\\cdot\\cdot(E)$$"
   ]
  },
  {
   "cell_type": "markdown",
   "metadata": {},
   "source": [
    "Donde $L$ considera la inhibición lateral en el complejo reticular. Siendo $a_{+}=(a+|a|)/2$ es la parte positiva de $a$. Las constatens en esta red son escojidas para tener una razón de escalas de timepo de aproximadamente 100:1. Términos positivos son unos excitatorios y las negativos son inhibitorios. \n",
    "\n",
    "En una aproximación se puede considerar:\n",
    "\n",
    "$$L(t)=\\frac{1}{N}\\sum_{k=1}^{N}\\cos_{+}y_{k}$$\n",
    "\n",
    "el cual representa la inhibición lateral en el complejo reticular. En este programa, desarrollamos un sistema de tres neuronas usando las funciones anteriores, sólo es necesario definir la función que considere todas las variables junto con una función de condiciones iniciales, en eset caso se introducirá un arreglo de condiciones iniciales, el cual se escribirá de la siguiente forma:"
   ]
  },
  {
   "cell_type": "code",
   "execution_count": 13,
   "metadata": {
    "collapsed": false
   },
   "outputs": [],
   "source": [
    "# Arreglo de condiciones iniciales.\n",
    "CondTC = [-π,-π,-π,-π,-π,-π,-π,-π,-π,-π,-π,-π,-π,-π,-π,-π,-π,-π,-π,-π,-π,-π,-π,-π,-π,-π,-π];"
   ]
  },
  {
   "cell_type": "markdown",
   "metadata": {},
   "source": [
    "Para facilitar, creamos una función que determine $a_{+}$ para un Taylor, se tendrá:"
   ]
  },
  {
   "cell_type": "code",
   "execution_count": 14,
   "metadata": {
    "collapsed": false
   },
   "outputs": [
    {
     "data": {
      "text/plain": [
       "d (generic function with 1 method)"
      ]
     },
     "execution_count": 14,
     "metadata": {},
     "output_type": "execute_result"
    }
   ],
   "source": [
    "# Función d: determina la parte positiva de una función.\n",
    "function d{T<:Real}(x::Taylor1{T}) # La función pide un Taylor\n",
    "    res=(x+((x^2)^0.5))/2.0\n",
    "    return res\n",
    "end    "
   ]
  },
  {
   "cell_type": "markdown",
   "metadata": {},
   "source": [
    "Ya que la paquetería a emplear no tiene definida la función $\\tanh$ nos conviene escribirla en términos de exponenciales, creamos la función que calcula la $\\tanh$, se tendrá:"
   ]
  },
  {
   "cell_type": "code",
   "execution_count": 15,
   "metadata": {
    "collapsed": false
   },
   "outputs": [
    {
     "data": {
      "text/plain": [
       "tanh1 (generic function with 1 method)"
      ]
     },
     "execution_count": 15,
     "metadata": {},
     "output_type": "execute_result"
    }
   ],
   "source": [
    "# Función tanh1: Determina la tanh para un Taylor\n",
    "function tanh1{T<:Real}(x::Taylor1{T}) # La función pide un Taylor\n",
    "    ap1 = exp(2.0*(x))\n",
    "    res1 = (ap1-1.0)/(ap1+1.0)\n",
    "    return res1\n",
    "end    "
   ]
  },
  {
   "cell_type": "markdown",
   "metadata": {},
   "source": [
    "Lo siguiente es definir la función que incluya las ecuaciones anteriores:"
   ]
  },
  {
   "cell_type": "code",
   "execution_count": 16,
   "metadata": {
    "collapsed": false
   },
   "outputs": [
    {
     "data": {
      "text/plain": [
       "ThalaFunCom (generic function with 1 method)"
      ]
     },
     "execution_count": 16,
     "metadata": {},
     "output_type": "execute_result"
    }
   ],
   "source": [
    "# Función ThalaFunCom: determina los coeficientes de la series de Taylor según las ecuaciones de las células\n",
    "# TH y RC.\n",
    "function ThalaFunCom{T<:Real}(vec::Array{T,1} , N::Int, σ) # La función pide un arreglo con los puntos alrededor\n",
    "    # de los cuales se obtendrán las series, el máximo coeficiente N del polinomio de Taylor y σ\n",
    "    x1T = Taylor1(vec[1], N)# Los primeros términos de la serie x0i, y0i y z0i\n",
    "    y1T = Taylor1(vec[2], N)\n",
    "    z1T = Taylor1(vec[3], N)\n",
    "    x2T = Taylor1(vec[4], N)\n",
    "    y2T = Taylor1(vec[5], N)\n",
    "    z2T = Taylor1(vec[6], N)\n",
    "    x3T = Taylor1(vec[7], N)\n",
    "    y3T = Taylor1(vec[8], N)\n",
    "    z3T = Taylor1(vec[9], N)\n",
    "    x4T = Taylor1(vec[10], N)# Los primeros términos de la serie x0i, y0i y z0i\n",
    "    y4T = Taylor1(vec[11], N)\n",
    "    z4T = Taylor1(vec[12], N)\n",
    "    x5T = Taylor1(vec[13], N)\n",
    "    y5T = Taylor1(vec[14], N)\n",
    "    z5T = Taylor1(vec[15], N)\n",
    "    x6T = Taylor1(vec[16], N)\n",
    "    y6T = Taylor1(vec[17], N)\n",
    "    z6T = Taylor1(vec[18], N)\n",
    "    x7T = Taylor1(vec[19], N)# Los primeros términos de la serie x0i, y0i y z0i\n",
    "    y7T = Taylor1(vec[20], N)\n",
    "    z7T = Taylor1(vec[21], N)\n",
    "    x8T = Taylor1(vec[22], N)\n",
    "    y8T = Taylor1(vec[23], N)\n",
    "    z8T = Taylor1(vec[24], N)\n",
    "    x9T = Taylor1(vec[25], N)\n",
    "    y9T = Taylor1(vec[26], N)\n",
    "    z9T = Taylor1(vec[27], N)\n",
    "    for k = 0:N-1\n",
    "        knext = k+1\n",
    "        # Las siguientes series contienen los coeficientes hasta k\n",
    "        # los cuales son necesarios en las ecuaciones de recurrencia\n",
    "        # para obtener el coeficiente k+1\n",
    "        x1Tt = Taylor1( x1T.coeffs[1:k+1], k)\n",
    "        y1Tt = Taylor1( y1T.coeffs[1:k+1], k)\n",
    "        z1Tt = Taylor1( z1T.coeffs[1:k+1], k)\n",
    "        x2Tt = Taylor1( x2T.coeffs[1:k+1], k)\n",
    "        y2Tt = Taylor1( y2T.coeffs[1:k+1], k)\n",
    "        z2Tt = Taylor1( z2T.coeffs[1:k+1], k)\n",
    "        x3Tt = Taylor1( x3T.coeffs[1:k+1], k)\n",
    "        y3Tt = Taylor1( y3T.coeffs[1:k+1], k)\n",
    "        z3Tt = Taylor1( z3T.coeffs[1:k+1], k)\n",
    "        x4Tt = Taylor1( x4T.coeffs[1:k+1], k)\n",
    "        y4Tt = Taylor1( y4T.coeffs[1:k+1], k)\n",
    "        z4Tt = Taylor1( z4T.coeffs[1:k+1], k)\n",
    "        x5Tt = Taylor1( x5T.coeffs[1:k+1], k)\n",
    "        y5Tt = Taylor1( y5T.coeffs[1:k+1], k)\n",
    "        z5Tt = Taylor1( z5T.coeffs[1:k+1], k)\n",
    "        x6Tt = Taylor1( x6T.coeffs[1:k+1], k)\n",
    "        y6Tt = Taylor1( y6T.coeffs[1:k+1], k)\n",
    "        z6Tt = Taylor1( z6T.coeffs[1:k+1], k)\n",
    "        x7Tt = Taylor1( x7T.coeffs[1:k+1], k)\n",
    "        y7Tt = Taylor1( y7T.coeffs[1:k+1], k)\n",
    "        z7Tt = Taylor1( z7T.coeffs[1:k+1], k)\n",
    "        x8Tt = Taylor1( x8T.coeffs[1:k+1], k)\n",
    "        y8Tt = Taylor1( y8T.coeffs[1:k+1], k)\n",
    "        z8Tt = Taylor1( z8T.coeffs[1:k+1], k)\n",
    "        x9Tt = Taylor1( x9T.coeffs[1:k+1], k)\n",
    "        y9Tt = Taylor1( y9T.coeffs[1:k+1], k)\n",
    "        z9Tt = Taylor1( z9T.coeffs[1:k+1], k)\n",
    "        # Las ecuaciones de movimiento, determinadas por (C), (D) y (E)\n",
    "        Lyi = (1.0/9.0)*(d(cos(y1Tt))+d(cos(y2Tt))+d(cos(y3Tt)))\n",
    "        Lyi = Lyi+(1.0/9.0)*(d(cos(y4Tt))+d(cos(y5Tt))+d(cos(y6Tt)))\n",
    "        Lyi = Lyi+(1.0/9.0)*(d(cos(y7Tt))+d(cos(y8Tt))+d(cos(y9Tt)))\n",
    "        Dx1 = 5.0*(1.0+cos(x1Tt)-d(cos(y1Tt))+σ[1])\n",
    "        Dy1 = 0.04*(1.0+cos(y1Tt)+tanh1(2.0*d(cos(x1Tt)-10.0*Lyi)))\n",
    "        Dz1 = 10.0*(0.1+cos(z1Tt)-d(cos(y1Tt)))\n",
    "        Dx2 = 5.0*(1.0+cos(x2Tt)-d(cos(y2Tt))+σ[2])\n",
    "        Dy2 = 0.04*(1.0+cos(y2Tt)+tanh1(2.0*d(cos(x2Tt)-10.0*Lyi)))\n",
    "        Dz2 = 10.0*(0.1+cos(z2Tt)-d(cos(y2Tt)))\n",
    "        Dx3 = 5.0*(1.0+cos(x3Tt)-d(cos(y3Tt))+σ[3])\n",
    "        Dy3 = 0.04*(1.0+cos(y3Tt)+tanh1(2.0*d(cos(x3Tt)-10.0*Lyi)))\n",
    "        Dz3 = 10.0*(0.1+cos(z3Tt)-d(cos(y3Tt)))\n",
    "        Dx4 = 5.0*(1.0+cos(x4Tt)-d(cos(y4Tt))+σ[4])\n",
    "        Dy4 = 0.04*(1.0+cos(y4Tt)+tanh1(2.0*d(cos(x4Tt)-10.0*Lyi)))\n",
    "        Dz4 = 10.0*(0.1+cos(z4Tt)-d(cos(y4Tt)))\n",
    "        Dx5 = 5.0*(1.0+cos(x5Tt)-d(cos(y5Tt))+σ[5])\n",
    "        Dy5 = 0.04*(1.0+cos(y5Tt)+tanh1(2.0*d(cos(x5Tt)-10.0*Lyi)))\n",
    "        Dz5 = 10.0*(0.1+cos(z5Tt)-d(cos(y5Tt)))\n",
    "        Dx6 = 5.0*(1.0+cos(x6Tt)-d(cos(y6Tt))+σ[6])\n",
    "        Dy6 = 0.04*(1.0+cos(y6Tt)+tanh1(2.0*d(cos(x6Tt)-10.0*Lyi)))\n",
    "        Dz6 = 10.0*(0.1+cos(z6Tt)-d(cos(y6Tt)))\n",
    "        Dx7 = 5.0*(1.0+cos(x7Tt)-d(cos(y7Tt))+σ[7])\n",
    "        Dy7 = 0.04*(1.0+cos(y7Tt)+tanh1(2.0*d(cos(x7Tt)-10.0*Lyi)))\n",
    "        Dz7 = 10.0*(0.1+cos(z7Tt)-d(cos(y7Tt)))\n",
    "        Dx8 = 5.0*(1.0+cos(x8Tt)-d(cos(y8Tt))+σ[8])\n",
    "        Dy8 = 0.04*(1.0+cos(y8Tt)+tanh1(2.0*d(cos(x8Tt)-10.0*Lyi)))\n",
    "        Dz8 = 10.0*(0.1+cos(z8Tt)-d(cos(y8Tt)))\n",
    "        Dx9 = 5.0*(1.0+cos(x9Tt)-d(cos(y9Tt))+σ[9])\n",
    "        Dy9 = 0.04*(1.0+cos(y9Tt)+tanh1(2.0*d(cos(x9Tt)-10.0*Lyi)))\n",
    "        Dz9 = 10.0*(0.1+cos(z9Tt)-d(cos(y9Tt)))\n",
    "        # Los términos k+1 están determinados por (1)\n",
    "        x1T.coeffs[knext+1]  = Dx1.coeffs[knext] / knext\n",
    "        y1T.coeffs[knext+1]  = Dy1.coeffs[knext] / knext\n",
    "        z1T.coeffs[knext+1]  = Dz1.coeffs[knext] / knext\n",
    "        x2T.coeffs[knext+1]  = Dx2.coeffs[knext] / knext\n",
    "        y2T.coeffs[knext+1]  = Dy2.coeffs[knext] / knext\n",
    "        z2T.coeffs[knext+1]  = Dz2.coeffs[knext] / knext\n",
    "        x3T.coeffs[knext+1]  = Dx3.coeffs[knext] / knext\n",
    "        y3T.coeffs[knext+1]  = Dy3.coeffs[knext] / knext\n",
    "        z3T.coeffs[knext+1]  = Dz3.coeffs[knext] / knext\n",
    "        x4T.coeffs[knext+1]  = Dx4.coeffs[knext] / knext\n",
    "        y4T.coeffs[knext+1]  = Dy4.coeffs[knext] / knext\n",
    "        z4T.coeffs[knext+1]  = Dz4.coeffs[knext] / knext\n",
    "        x5T.coeffs[knext+1]  = Dx5.coeffs[knext] / knext\n",
    "        y5T.coeffs[knext+1]  = Dy5.coeffs[knext] / knext\n",
    "        z5T.coeffs[knext+1]  = Dz5.coeffs[knext] / knext\n",
    "        x6T.coeffs[knext+1]  = Dx6.coeffs[knext] / knext\n",
    "        y6T.coeffs[knext+1]  = Dy6.coeffs[knext] / knext\n",
    "        z6T.coeffs[knext+1]  = Dz6.coeffs[knext] / knext\n",
    "        x7T.coeffs[knext+1]  = Dx7.coeffs[knext] / knext\n",
    "        y7T.coeffs[knext+1]  = Dy7.coeffs[knext] / knext\n",
    "        z7T.coeffs[knext+1]  = Dz7.coeffs[knext] / knext\n",
    "        x8T.coeffs[knext+1]  = Dx8.coeffs[knext] / knext\n",
    "        y8T.coeffs[knext+1]  = Dy8.coeffs[knext] / knext\n",
    "        z8T.coeffs[knext+1]  = Dz8.coeffs[knext] / knext\n",
    "        x9T.coeffs[knext+1]  = Dx9.coeffs[knext] / knext\n",
    "        y9T.coeffs[knext+1]  = Dy9.coeffs[knext] / knext\n",
    "        z9T.coeffs[knext+1]  = Dz9.coeffs[knext] / knext\n",
    "    end\n",
    "    # Se devuelven los resultados\n",
    "    return Taylor1[x1T,y1T,z1T,x2T,y2T,z2T,x3T,y3T,z3T,x4T,y4T,z4T,x5T,y5T,z5T,x6T,y6T,z6T,x7T,y7T,z7T,x8T,y8T,z8T,x9T,y9T,z9T]\n",
    "end"
   ]
  },
  {
   "cell_type": "markdown",
   "metadata": {},
   "source": [
    "Falta construir una función que realize la integración considerando los elementos anteriores:"
   ]
  },
  {
   "cell_type": "code",
   "execution_count": 30,
   "metadata": {
    "collapsed": false
   },
   "outputs": [
    {
     "data": {
      "text/plain": [
       "Integrador2 (generic function with 1 method)"
      ]
     },
     "execution_count": 30,
     "metadata": {},
     "output_type": "execute_result"
    }
   ],
   "source": [
    "# Función Integrador2: contiene las ecuaciones a resolver usando el método de integración de Taylor\n",
    "function Integrador2{T<:Real}( vec::Array{T,1}, t_max::Float64, Eqs::Function, epsilon::Float64, N::Int )\n",
    "    # Usará las funciones antes desarrolladas, este función pide un tiempo máximo de operación, las ecuaciones\n",
    "    # a resolver, el epsilón y el orden del polinomio de Taylor\n",
    "    t0 = 0.0# Iniciamos el tiempo\n",
    "    x10 = vec[1]\n",
    "    y10 = vec[2]\n",
    "    z10 = vec[3]\n",
    "    x20 = vec[4]\n",
    "    y20 = vec[5]\n",
    "    z20 = vec[6]\n",
    "    x30 = vec[7]\n",
    "    y30 = vec[8]\n",
    "    z30 = vec[9]\n",
    "    x40 = vec[10]\n",
    "    y40 = vec[11]\n",
    "    z40 = vec[12]\n",
    "    x50 = vec[13]\n",
    "    y50 = vec[14]\n",
    "    z50 = vec[15]\n",
    "    x60 = vec[16]\n",
    "    y60 = vec[17]\n",
    "    z60 = vec[18]\n",
    "    x70 = vec[19]\n",
    "    y70 = vec[20]\n",
    "    z70 = vec[21]\n",
    "    x80 = vec[22]\n",
    "    y80 = vec[23]\n",
    "    z80 = vec[24]\n",
    "    x90 = vec[25]\n",
    "    y90 = vec[26]\n",
    "    z90 = vec[27]\n",
    "    \n",
    "    σ = 10.0*[0.1,0.0,0.0,0.0,0.0,0.0,0.0,0.0,0.0]\n",
    "    \n",
    "    tV, x1V, y1V, z1V = Float64[], Float64[], Float64[], Float64[]# Aquí se ubicarán los resultados\n",
    "    x2V, y2V, z2V = Float64[], Float64[], Float64[]# Aquí se ubicarán los resultados\n",
    "    x3V, y3V, z3V = Float64[], Float64[], Float64[]# Aquí se ubicarán los resultados\n",
    "    x4V, y4V, z4V = Float64[], Float64[], Float64[]# Aquí se ubicarán los resultados\n",
    "    x5V, y5V, z5V = Float64[], Float64[], Float64[]# Aquí se ubicarán los resultados\n",
    "    x6V, y6V, z6V = Float64[], Float64[], Float64[]# Aquí se ubicarán los resultados\n",
    "    x7V, y7V, z7V = Float64[], Float64[], Float64[]# Aquí se ubicarán los resultados\n",
    "    x8V, y8V, z8V = Float64[], Float64[], Float64[]# Aquí se ubicarán los resultados\n",
    "    x9V, y9V, z9V = Float64[], Float64[], Float64[]# Aquí se ubicarán los resultados\n",
    "    push!(tV, t0)\n",
    "    push!(x1V, x10)# COlocamos condiciones iniciales\n",
    "    push!(y1V, y10)\n",
    "    push!(z1V, z10)\n",
    "    push!(x2V, x20)# COlocamos condiciones iniciales\n",
    "    push!(y2V, y20)\n",
    "    push!(z2V, z20)\n",
    "    push!(x3V, x30)# COlocamos condiciones iniciales\n",
    "    push!(y3V, y30)\n",
    "    push!(z3V, z30)\n",
    "    push!(x4V, x40)# COlocamos condiciones iniciales\n",
    "    push!(y4V, y40)\n",
    "    push!(z4V, z40)\n",
    "    push!(x5V, x50)# COlocamos condiciones iniciales\n",
    "    push!(y5V, y50)\n",
    "    push!(z5V, z50)\n",
    "    push!(x6V, x60)# COlocamos condiciones iniciales\n",
    "    push!(y6V, y60)\n",
    "    push!(z6V, z60)\n",
    "    push!(x7V, x70)# COlocamos condiciones iniciales\n",
    "    push!(y7V, y70)\n",
    "    push!(z7V, z70)\n",
    "    push!(x8V, x80)# COlocamos condiciones iniciales\n",
    "    push!(y8V, y80)\n",
    "    push!(z8V, z80)\n",
    "    push!(x9V, x90)# COlocamos condiciones iniciales\n",
    "    push!(y9V, y90)\n",
    "    push!(z9V, z90)\n",
    "\n",
    "    # Resolvemos para cada tiempo\n",
    "    dt = 1.0# Paso inicial\n",
    "    while t0 < t_max && dt>1.0e-8# Condiciones de paro\n",
    "        if 1000.0>t0 > 500.0\n",
    "            σ = (1.0/(10.0^0.5))*[0.1,0.0,0.3,0.0,0.0,0.0,0.0,0.0,0.0]\n",
    "        end\n",
    "        if 1500.0>t0 > 1000.0\n",
    "            σ = ((35.0^0.5)/10.0)*[0.1,0.0,0.3,0.0,0.5,0.0,0.0,0.0,0.0]\n",
    "        end\n",
    "        if 2000.0>t0 > 1500.0\n",
    "            σ = ((21.0^0.5)/5.0)*[0.1,0.0,0.3,0.0,0.5,0.0,0.7,0.0,0.0]\n",
    "        end\n",
    "        if t0 > 2000.0\n",
    "            σ = ((165.0^0.5)/10.0)*[0.1,0.0,0.3,0.0,0.5,0.0,0.7,0.0,0.9]\n",
    "        end\n",
    "        dt, res = evaluador(Eqs,[x10,y10,z10,x20,y20,z20,x30,y30,z30,x40,y40,z40,x50,y50,z50,x60,y60,z60,x70,y70,z70,x80,y80,z80,x90,y90,z90],N,epsilon,σ)# Resolvemos\n",
    "        t0 += dt# A t0 se le suma el tamaño de paso\n",
    "        push!(tV,t0)\n",
    "        push!(x1V,res[1])# Los resultados se guardan\n",
    "        push!(y1V,res[2])\n",
    "        push!(z1V,res[3])\n",
    "        push!(x2V,res[4])# Los resultados se guardan\n",
    "        push!(y2V,res[5])\n",
    "        push!(z2V,res[6])\n",
    "        push!(x3V,res[7])# Los resultados se guardan\n",
    "        push!(y3V,res[8])\n",
    "        push!(z3V,res[9])\n",
    "        push!(x4V,res[10])# Los resultados se guardan\n",
    "        push!(y4V,res[11])\n",
    "        push!(z4V,res[12])\n",
    "        push!(x5V,res[13])# Los resultados se guardan\n",
    "        push!(y5V,res[14])\n",
    "        push!(z5V,res[15])\n",
    "        push!(x6V,res[16])# Los resultados se guardan\n",
    "        push!(y6V,res[17])\n",
    "        push!(z6V,res[18])\n",
    "        push!(x7V,res[19])# Los resultados se guardan\n",
    "        push!(y7V,res[20])\n",
    "        push!(z7V,res[21])\n",
    "        push!(x8V,res[22])# Los resultados se guardan\n",
    "        push!(y8V,res[23])\n",
    "        push!(z8V,res[24])\n",
    "        push!(x9V,res[25])# Los resultados se guardan\n",
    "        push!(y9V,res[26])\n",
    "        push!(z9V,res[27])\n",
    "        x10, y10, z10 = res[1], res[2], res[3]\n",
    "        x20, y20, z20 = res[4], res[5], res[6]# Nuevas condiciones iniciales\n",
    "        x30, y30, z30 = res[7], res[8], res[9]\n",
    "        x40, y40, z40 = res[10], res[11], res[12]\n",
    "        x50, y50, z50 = res[13], res[14], res[15]# Nuevas condiciones iniciales\n",
    "        x60, y60, z60 = res[16], res[17], res[18]\n",
    "        x70, y70, z70 = res[19], res[20], res[21]\n",
    "        x80, y80, z80 = res[22], res[23], res[24]# Nuevas condiciones iniciales\n",
    "        x90, y90, z90 = res[25], res[26], res[27]\n",
    "    end\n",
    "\n",
    "    return tV,x1V,y1V,z1V,x2V,y2V,z2V,x3V,y3V,z3V,x4V,y4V,z4V,x5V,y5V,z5V,x6V,y6V,z6V,x7V,y7V,z7V,x8V,y8V,z8V,x9V,y9V,z9V\n",
    "end"
   ]
  },
  {
   "cell_type": "markdown",
   "metadata": {},
   "source": [
    "Con eso es suficiente para obtener resultados, corremos la función anterior:"
   ]
  },
  {
   "cell_type": "code",
   "execution_count": 31,
   "metadata": {
    "collapsed": false
   },
   "outputs": [],
   "source": [
    "resT,resX1,resY1,resZ1,resX2,resY2,resZ2,resX3,resY3,resZ3,resX4,resY4,resZ4,resX5,resY5,resZ5,resX6,resY6,resZ6,resX7,resY7,resZ7,resX8,resY8,resZ8,resX9,resY9,resZ9 = Integrador2(CondTC, 2500.0, ThalaFunCom, 10.0^(-10), 20);"
   ]
  },
  {
   "cell_type": "markdown",
   "metadata": {
    "collapsed": true
   },
   "source": [
    "Ya tenemos los resultados, sin embargo de estos solo nos interesa el coseno, entonces:"
   ]
  },
  {
   "cell_type": "code",
   "execution_count": 32,
   "metadata": {
    "collapsed": true
   },
   "outputs": [],
   "source": [
    "cosX1 = resX1\n",
    "cosY1 = resY1\n",
    "cosZ1 = resZ1\n",
    "cosX2 = resX2\n",
    "cosY2 = resY2\n",
    "cosZ2 = resZ2\n",
    "cosX3 = resX3\n",
    "cosY3 = resY3\n",
    "cosZ3 = resZ3\n",
    "cosX4 = resX4\n",
    "cosY4 = resY4\n",
    "cosZ4 = resZ4\n",
    "cosX5 = resX5\n",
    "cosY5 = resY5\n",
    "cosZ5 = resZ5\n",
    "cosX6 = resX6\n",
    "cosY6 = resY6\n",
    "cosZ6 = resZ6\n",
    "cosX7 = resX7\n",
    "cosY7 = resY7\n",
    "cosZ7 = resZ7\n",
    "cosX8 = resX8\n",
    "cosY8 = resY8\n",
    "cosZ8 = resZ8\n",
    "cosX9 = resX9\n",
    "cosY9 = resY9\n",
    "cosZ9 = resZ9\n",
    "for i in eachindex(resX1)\n",
    "    cosX1[i] = ((((cos(resX1[i]))^2)^0.5)+cos(resX1[i]))/2.0\n",
    "    cosY1[i] = 10.0+((((cos(resY1[i]))^2)^0.5)+cos(resY1[i]))/2.0\n",
    "    cosZ1[i] = 20.0+((((cos(resZ1[i]))^2)^0.5)+cos(resZ1[i]))/2.0\n",
    "    cosX2[i] = 1.0+((((cos(resX2[i]))^2)^0.5)+cos(resX2[i]))/2.0\n",
    "    cosY2[i] = 11.0+((((cos(resY2[i]))^2)^0.5)+cos(resY2[i]))/2.0\n",
    "    cosZ2[i] = 21.0+((((cos(resZ2[i]))^2)^0.5)+cos(resZ2[i]))/2.0\n",
    "    cosX3[i] = 2.0+((((cos(resX3[i]))^2)^0.5)+cos(resX3[i]))/2.0\n",
    "    cosY3[i] = 12.0+((((cos(resY3[i]))^2)^0.5)+cos(resY3[i]))/2.0\n",
    "    cosZ3[i] = 22.0+((((cos(resZ3[i]))^2)^0.5)+cos(resZ3[i]))/2.0\n",
    "    cosX4[i] = 3.0+((((cos(resX4[i]))^2)^0.5)+cos(resX4[i]))/2.0\n",
    "    cosY4[i] = 13.0+((((cos(resY4[i]))^2)^0.5)+cos(resY4[i]))/2.0\n",
    "    cosZ4[i] = 23.0+((((cos(resZ4[i]))^2)^0.5)+cos(resZ4[i]))/2.0\n",
    "    cosX5[i] = 4.0+((((cos(resX5[i]))^2)^0.5)+cos(resX5[i]))/2.0\n",
    "    cosY5[i] = 14.0+((((cos(resY5[i]))^2)^0.5)+cos(resY5[i]))/2.0\n",
    "    cosZ5[i] = 24.0+((((cos(resZ5[i]))^2)^0.5)+cos(resZ5[i]))/2.0\n",
    "    cosX6[i] = 5.0+((((cos(resX6[i]))^2)^0.5)+cos(resX6[i]))/2.0\n",
    "    cosY6[i] = 15.0+((((cos(resY6[i]))^2)^0.5)+cos(resY6[i]))/2.0\n",
    "    cosZ6[i] = 25.0+((((cos(resZ6[i]))^2)^0.5)+cos(resZ6[i]))/2.0\n",
    "    cosX7[i] = 6.0+((((cos(resX7[i]))^2)^0.5)+cos(resX7[i]))/2.0\n",
    "    cosY7[i] = 16.0+((((cos(resY7[i]))^2)^0.5)+cos(resY7[i]))/2.0\n",
    "    cosZ7[i] = 26.0+((((cos(resZ7[i]))^2)^0.5)+cos(resZ7[i]))/2.0\n",
    "    cosX8[i] = 7.0+((((cos(resX8[i]))^2)^0.5)+cos(resX8[i]))/2.0\n",
    "    cosY8[i] = 17.0+((((cos(resY8[i]))^2)^0.5)+cos(resY8[i]))/2.0\n",
    "    cosZ8[i] = 27.0+((((cos(resZ8[i]))^2)^0.5)+cos(resZ8[i]))/2.0\n",
    "    cosX9[i] = 8.0+((((cos(resX9[i]))^2)^0.5)+cos(resX9[i]))/2.0\n",
    "    cosY9[i] = 18.0+((((cos(resY9[i]))^2)^0.5)+cos(resY9[i]))/2.0\n",
    "    cosZ9[i] = 28.0+((((cos(resZ9[i]))^2)^0.5)+cos(resZ9[i]))/2.0\n",
    "end"
   ]
  },
  {
   "cell_type": "markdown",
   "metadata": {},
   "source": [
    "Veamos lo que se obtuvo:"
   ]
  },
  {
   "cell_type": "code",
   "execution_count": 33,
   "metadata": {
    "collapsed": false
   },
   "outputs": [
    {
     "data": {
      "image/png": "[encoded data removed]",
      "text/plain": [
       "PyPlot.Figure(PyObject <matplotlib.figure.Figure object at 0x86e402ec>)"
      ]
     },
     "metadata": {},
     "output_type": "display_data"
    }
   ],
   "source": [
    "plot(resT,cosX1,color=\"green\")\n",
    "plot(resT,cosX2,color=\"green\")\n",
    "plot(resT,cosX3,color=\"green\")\n",
    "plot(resT,cosX4,color=\"green\")\n",
    "plot(resT,cosX5,color=\"green\")\n",
    "plot(resT,cosX6,color=\"green\")\n",
    "plot(resT,cosX7,color=\"green\")\n",
    "plot(resT,cosX8,color=\"green\")\n",
    "plot(resT,cosX9,color=\"green\",label=L\"$\\cos(x_{i}(t))$\")\n",
    "plot(resT,cosY1,color=\"blue\")\n",
    "plot(resT,cosY2,color=\"blue\")\n",
    "plot(resT,cosY3,color=\"blue\")\n",
    "plot(resT,cosY4,color=\"blue\")\n",
    "plot(resT,cosY5,color=\"blue\")\n",
    "plot(resT,cosY6,color=\"blue\")\n",
    "plot(resT,cosY7,color=\"blue\")\n",
    "plot(resT,cosY8,color=\"blue\")\n",
    "plot(resT,cosY9,color=\"blue\",label=L\"$\\cos(y_{i}(t))$\")\n",
    "plot(resT,cosZ1,color=\"red\")\n",
    "plot(resT,cosZ2,color=\"red\")\n",
    "plot(resT,cosZ3,color=\"red\")\n",
    "plot(resT,cosZ4,color=\"red\")\n",
    "plot(resT,cosZ5,color=\"red\")\n",
    "plot(resT,cosZ6,color=\"red\")\n",
    "plot(resT,cosZ7,color=\"red\")\n",
    "plot(resT,cosZ8,color=\"red\")\n",
    "plot(resT,cosZ9,color=\"red\",label=L\"$\\cos(z_{i}(t))$\")\n",
    "legend(loc=2)\n",
    "xlabel(L\"$t$\")\n",
    "xlim([0.0,2500.0])\n",
    "show()"
   ]
  },
  {
   "cell_type": "markdown",
   "metadata": {
    "collapsed": true
   },
   "source": [
    "En la gráfica anterior presentamos la simulación del modelo thalamocortical basado en una red de 9 canales. Las líneas en color verde representan el $\\cos_{+}x_{i}(t)$, las líneas en color azul son $\\cos_{+}y_{i}(t)$ y las de rojo son $\\cos_{+}z_{i}(t)$. En un momento inicial $t=0$ se aplica un estímulo $\\sigma_{1}=0.1$. Posteriormente, a un tiempo $t=200$ se aplica un estímulo de mayor fecuencia ($\\sigma_{3}=0.3$). Donde solo este último estímulo pasa através de la neocorteza para tiempos mayores a 200. A un tiempo $t=400$, una frecuencia mayor es aplicada ($\\sigma_{5}=0.3$); a $t=600$ otro estímulo mayor es aplicado ($\\sigma_{3}=0.5$), etc. Podemos observar que en todos los casos solo los extímulos de mayor frecuencia son expresado en la neocorteza.\n",
    "\n",
    "Ésto último es una confirmación de lo antes mencionado: el cerebro enfoca la atención en los estímulos más persistentes, dejando de lado aquellos de menor amplitud."
   ]
  }
 ],
 "metadata": {
  "kernelspec": {
   "display_name": "Julia 0.4.0",
   "language": "julia",
   "name": "julia-0.4"
  },
  "language_info": {
   "file_extension": ".jl",
   "mimetype": "application/julia",
   "name": "julia",
   "version": "0.4.1"
  }
 },
 "nbformat": 4,
 "nbformat_minor": 0
}
