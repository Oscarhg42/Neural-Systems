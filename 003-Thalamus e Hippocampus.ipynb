{
 "cells": [
  {
   "cell_type": "markdown",
   "metadata": {},
   "source": [
    "#  Thalamus e Hippocampus"
   ]
  },
  {
   "cell_type": "markdown",
   "metadata": {},
   "source": [
    "Partiendo del modelo descrito en la introducción, se puede pasar a ilustrar ejemplos con los modelos desarrollados. Como ya se explicó previamente, en numerosos lugares en el cerebro dos células interactúan, una inhibitoria y la otra excitativa, en tal forma que una dispara una rápida ráfaga de potenciales de acción seguido por  un pulso bajo disparado por la otra. Por tanto, dos escalas de tiempo están envueltas. Los modelos que describimos a continuación reproducen dichos fenómenos."
   ]
  },
  {
   "cell_type": "markdown",
   "metadata": {},
   "source": [
    "## Circuito Thalamocortical"
   ]
  },
  {
   "cell_type": "markdown",
   "metadata": {},
   "source": [
    "Muchas señalas de entrada al cerebro son procesados en el Thalamus, el cual ordena las señales para su posterior procesamiento en otras estructuras cerebrales como son la corteza entorhinal en el hippocampus (Una descripción más detallada de este sistema neuronal se puede encontrar [aquí](http://www.scholarpedia.org/article/Models_of_thalamocortical_system)). Ésto envuelve un circuito entre células excitativas e inhibitorias en una estructura paralela llamada el complejo reticular. Las células thalamicas disparan rápidamente, y el complejo reticular dispara lentamente. La red para este sistema se presenta en el siguiente diagrama.\n",
    "\n",
    "$$\\sigma\\rightarrow^{+}TH\\mbox{  }^{-}\\leftrightarrow^{+}RC\\rightarrow^{+}NC$$\n",
    "\n",
    "Ahora bien, para modelar el flujo de estímulos podemos simularlo con las siguientes expresiones:\n",
    "\n",
    "$$\\dot{x}=5.0(1+\\sigma+\\cos x-\\cos y)\\cdot\\cdot\\cdot\\cdot\\cdot\\cdot\\cdot\\cdot\\cdot\\cdot\\cdot\\cdot\\cdot\\cdot\\cdot\\cdot(A)$$\n",
    "\n",
    "$$\\dot{y}=0.04(1+\\cos y+10\\cos x)\\cdot\\cdot\\cdot\\cdot\\cdot\\cdot\\cdot\\cdot\\cdot\\cdot\\cdot\\cdot\\cdot\\cdot\\cdot\\cdot(B)$$\n",
    "\n"
   ]
  },
  {
   "cell_type": "markdown",
   "metadata": {},
   "source": [
    "Necesitaremos algunas paqueterías:"
   ]
  },
  {
   "cell_type": "code",
   "execution_count": 6,
   "metadata": {
    "collapsed": false
   },
   "outputs": [],
   "source": [
    "using TaylorSeries"
   ]
  },
  {
   "cell_type": "code",
   "execution_count": 7,
   "metadata": {
    "collapsed": false
   },
   "outputs": [],
   "source": [
    "using Images, Colors, FixedPointNumbers"
   ]
  },
  {
   "cell_type": "code",
   "execution_count": 8,
   "metadata": {
    "collapsed": false
   },
   "outputs": [
    {
     "name": "stdout",
     "output_type": "stream",
     "text": [
      "0."
     ]
    }
   ],
   "source": [
    "println(VERSION)\n",
    "\n",
    "using Compat"
   ]
  },
  {
   "cell_type": "code",
   "execution_count": 9,
   "metadata": {
    "collapsed": false
   },
   "outputs": [],
   "source": [
    "using PyPlot"
   ]
  },
  {
   "cell_type": "markdown",
   "metadata": {},
   "source": [
    "Lo siguiente será resolver las ecuaciones anteriores usando el método de Integración de Taylor, para lo cual conviene desarrollar las funciones que serán de gran ayuda, no sólo en este momento sino también más adelante. Como se estudió en clase: necesitamos establecer condiciones iniciales $x(t_{0})$ y $y(t_{0})$, las cuales emplearemos para obtener cada término de la expansión de Taylor de forma recursiva, usando:\n",
    "\n",
    "$$x_{n+1}=\\frac{f_{n}(x)}{n+1}\\cdot\\cdot\\cdot\\cdot\\cdot\\cdot\\cdot\\cdot\\cdot\\cdot\\cdot\\cdot\\cdot\\cdot\\cdot\\cdot\\cdot\\cdot(1)$$\n",
    "\n",
    "donde $f_{n}(x)$ es el $n$-ésimo coeficiente de $f(x)$, siendo $\\dot{x}=f(x)$. De igual forma, $x_{n}$ es el $n$-ésimo coeficiente para la variable $x(t)$, alrededor de $x_{0}=x(t_{0})$.\n",
    "\n",
    "Por otro lado, como ya sabemos, los últimos dos términos de la expansión son usados para determinar el tamaño de paso $h$ para la integración junto con el valor de $\\epsilon$, es decir:\n",
    "\n",
    "$$h=min\\left[\\left(\\frac{\\epsilon}{|x_{k-1}|} \\right)^{1/(k-1)},\\left(\\frac{\\epsilon}{|x_{k}|} \\right)^{1/k}\\right]$$\n",
    "\n",
    "donde $k$ es el orden del polinomio de Taylor.\n",
    "\n",
    "Por tanto, debemos construir la función de paso para el método de Taylor, la cual estará dada por:"
   ]
  },
  {
   "cell_type": "code",
   "execution_count": 10,
   "metadata": {
    "collapsed": false,
    "scrolled": true
   },
   "outputs": [
    {
     "data": {
      "text/plain": [
       "paso (generic function with 1 method)"
      ]
     },
     "execution_count": 10,
     "metadata": {},
     "output_type": "execute_result"
    },
    {
     "name": "stdout",
     "output_type": "stream",
     "text": [
      "4.1\n"
     ]
    }
   ],
   "source": [
    "# Función paso: determina el tamaño de paso para la integración\n",
    "# por método de Taylor.\n",
    "function paso{T<:Real}(x::Taylor1{T}, epsilon::Float64)# Se introduce un polinomio de Taylor y el epsilon\n",
    "    k = x.order# Orden del polinomio\n",
    "    h = 1.0# Iniciamos h\n",
    "    for i in [k-1, k]# Iteramos solo para los dos primeros términos del polinomio\n",
    "        aux = abs( x.coeffs[i+1] )\n",
    "        h = min(h, (epsilon/aux)^(1.0/i))# Nos quedamos con el mínimo\n",
    "    end\n",
    "    return h # La función devuelve h\n",
    "end"
   ]
  },
  {
   "cell_type": "markdown",
   "metadata": {},
   "source": [
    "Igualmente, se requiere de una función que determine los coeficientes en cada paso, usaremos la función evaluador:"
   ]
  },
  {
   "cell_type": "code",
   "execution_count": 11,
   "metadata": {
    "collapsed": false
   },
   "outputs": [
    {
     "data": {
      "text/plain": [
       "evaluador (generic function with 1 method)"
      ]
     },
     "execution_count": 11,
     "metadata": {},
     "output_type": "execute_result"
    }
   ],
   "source": [
    "# Función evaluador: Determina los coeficientes después de cada paso.\n",
    "function evaluador{T<:Real}( Eqs::Function, vec0::Array{T,1}, N::Int, epsilon::Float64, σ, t)# La función solicita las ecuaciones\n",
    "    # a resolver, un arreglo de condiciones iniciales, N que indica el máximo coeficiente de expansión y la epsilón.\n",
    "    \n",
    "    n = length(vec0)# Definimos algunas cantidades de utilidad\n",
    "    vec1T = Eqs(vec0, N, σ, t)# Resolvemos las ecuaciones con las condiciones iniciales\n",
    "    \n",
    "    # Obtenemos h para cada serie usando la función paso\n",
    "    hh = vec0\n",
    "    for i in eachindex(vec1T)\n",
    "        hh[i] = paso(vec1T[i], epsilon)\n",
    "    end\n",
    "    \n",
    "    # Tomamos el mínimo de los h's\n",
    "    hfin = hh[1]\n",
    "    for i in eachindex(hh)\n",
    "        hfin = min(hfin,hh[i])\n",
    "    end\n",
    "    \n",
    "    # Se determinan los valores del nuevo arreglo\n",
    "    for i=1:n\n",
    "        vec0[i] = evaluate(vec1T[i], hfin)\n",
    "    end\n",
    "    \n",
    "    return hfin, vec0# Devolvemos los resultados\n",
    "end"
   ]
  },
  {
   "cell_type": "markdown",
   "metadata": {},
   "source": [
    "La función anterior es suficiente para poder empezar a trabajar con el método de Integración de Taylor para resolver el sistema de ecuaciones diferenciales anterior. Lo siguiente es darle condiciones iniciales a nuestro problema, en particular asumiremos un estado de reposo en el sistema, es decir: $x(0)=0$ y $y(0)=0$. Usaremos una función para escribir las condiciones iniciales, ésto permitirá cambiarlas a nuestro justo para ejemplificar más casos:"
   ]
  },
  {
   "cell_type": "code",
   "execution_count": 12,
   "metadata": {
    "collapsed": false
   },
   "outputs": [
    {
     "data": {
      "text/plain": [
       "Cond0 (generic function with 1 method)"
      ]
     },
     "execution_count": 12,
     "metadata": {},
     "output_type": "execute_result"
    }
   ],
   "source": [
    "# Función Cond0: devuelve las condiciones iniciales.\n",
    "function Cond0{T<:Real}(α::T, β::T)# El usuario puede introducir las condiciones iniciales que desee\n",
    "    x0  = α\n",
    "    y0  = β\n",
    "    return x0, y0# Y la función, claro, devolverá tales condiciones iniciales\n",
    "end"
   ]
  },
  {
   "cell_type": "markdown",
   "metadata": {},
   "source": [
    "Paso siguiente, necesitamos una función que obtenga el polinomio de Taylor usando la ecuación de recurrencia (1), a continuación se presenta tal función:"
   ]
  },
  {
   "cell_type": "code",
   "execution_count": 13,
   "metadata": {
    "collapsed": false
   },
   "outputs": [
    {
     "data": {
      "text/plain": [
       "ThalaFun (generic function with 1 method)"
      ]
     },
     "execution_count": 13,
     "metadata": {},
     "output_type": "execute_result"
    }
   ],
   "source": [
    "# Función ThalaFun: determina los coeficientes de la series de Taylor según las ecuaciones (A) y (B).\n",
    "function ThalaFun{T<:Real}(vec::Array{T,1} , N::Int, σ, t) # La función pide un arreglo con los puntos alrededor\n",
    "    # de los cuales se obtendrán las series, el máximo coeficiente N del polinomio de Taylor y σ\n",
    "    xT = Taylor1(vec[1], N)# Los primeros términos de la serie x0 y y0 \n",
    "    yT = Taylor1(vec[2], N)\n",
    "\n",
    "    for k = 0:N-1\n",
    "        knext = k+1\n",
    "        # Las siguientes series contienen los coeficientes hasta k\n",
    "        # los cuales son necesarios en las ecuaciones de recurrencia\n",
    "        # para obtener el coeficiente k+1\n",
    "        xTt = Taylor1( xT.coeffs[1:k+1], k)\n",
    "        yTt = Taylor1( yT.coeffs[1:k+1], k)\n",
    "        # Las ecuaciones de movimiento, determinadas por (A) y (B)\n",
    "        Dx = 5.0*(1.0+σ+cos(xTt)-cos(yTt))\n",
    "        Dy = 0.04*(1.0+cos(yTt)+10.0*cos(xTt))\n",
    "        # Los términos k+1 están determinados por (1)\n",
    "        xT.coeffs[knext+1]  = Dx.coeffs[knext] / knext\n",
    "        yT.coeffs[knext+1]  = Dy.coeffs[knext] / knext\n",
    "    end\n",
    "    # Se devuelven los resultados\n",
    "    return Taylor1[xT, yT]\n",
    "end"
   ]
  },
  {
   "cell_type": "markdown",
   "metadata": {},
   "source": [
    "Con lo anterior podemos pasar a realizar la integración con el método de Taylor, ésto es:"
   ]
  },
  {
   "cell_type": "code",
   "execution_count": 14,
   "metadata": {
    "collapsed": false
   },
   "outputs": [
    {
     "data": {
      "text/plain": [
       "Integrador1 (generic function with 1 method)"
      ]
     },
     "execution_count": 14,
     "metadata": {},
     "output_type": "execute_result"
    }
   ],
   "source": [
    "# Función Integrador1: contiene las ecuaciones a resolver usando el método de integración de Taylor\n",
    "function Integrador1( α::Float64, β::Float64, t_max::Float64, Eqs::Function, epsilon::Float64, N::Int )\n",
    "    # Usará las funciones antes desarrolladas, este función pide un tiempo máximo de operación, las ecuaciones\n",
    "    # a resolver, el epsilón y el orden del polinomio de Taylor\n",
    "    t0 = 0.0# Iniciamos el tiempo\n",
    "    x0, y0 = Cond0(α, β)# Condiciones iniciales\n",
    "    \n",
    "    σ = 0.5 # Probaremos con un valor de 0.5 para sigma\n",
    "    \n",
    "    tV, xV, yV = Float64[], Float64[], Float64[]# Aquí se ubicarán los resultados\n",
    "    push!(tV, t0)\n",
    "    push!(xV, x0)# COlocamos condiciones iniciales\n",
    "    push!(yV, y0)\n",
    "\n",
    "    # Resolvemos para cada tiempo\n",
    "    dt = 1.0# Paso inicial\n",
    "    while t0 < t_max && dt>1.0e-8# Condiciones de paro\n",
    "        \n",
    "        dt, res = evaluador( Eqs, [x0, y0], N, epsilon, σ ,t0)# Resolvemos\n",
    "        t0 += dt# A t0 se le suma el tamaño de paso\n",
    "        push!(tV,t0)\n",
    "        push!(xV,res[1])# Los resultados se guardan\n",
    "        push!(yV,res[2])\n",
    "        x0, y0 = res[1], res[2]# Nuevas condiciones iniciales\n",
    "    end\n",
    "\n",
    "    return tV, xV, yV# Devuelve los resultados\n",
    "end"
   ]
  },
  {
   "cell_type": "markdown",
   "metadata": {},
   "source": [
    "Con esto último tenemos lo necesario para resolver nuestro sistema de ecuaciones, manos a la obra:"
   ]
  },
  {
   "cell_type": "code",
   "execution_count": 15,
   "metadata": {
    "collapsed": false
   },
   "outputs": [],
   "source": [
    "Tres,Xres,Yres=Integrador1(0.0,0.0,300.0,ThalaFun,10.0^(-10),20);"
   ]
  },
  {
   "cell_type": "markdown",
   "metadata": {},
   "source": [
    "Hasta este punto hemos logrado resolver el sistema de ecuaciones diferenciales, ahora estudiemos nuestros resultados. Sin embargo para poder dar una mejor interpretación de ellos conviene mostrar el coseno de $x$ y $y$ como una función del tiempo, es decir mostraremos $\\cos x(t)$ y $\\cos y(t)$. Entonces:"
   ]
  },
  {
   "cell_type": "code",
   "execution_count": 16,
   "metadata": {
    "collapsed": false
   },
   "outputs": [],
   "source": [
    "cosX = Xres\n",
    "cosY = Yres\n",
    "for i in eachindex(Xres)\n",
    "    cosX[i] = cos(Xres[i])\n",
    "    cosY[i] = cos(Yres[i])\n",
    "end"
   ]
  },
  {
   "cell_type": "markdown",
   "metadata": {},
   "source": [
    "Grafiquemos:"
   ]
  },
  {
   "cell_type": "code",
   "execution_count": 17,
   "metadata": {
    "collapsed": false
   },
   "outputs": [
    {
     "data": {
      "image/png": "[encoded data removed]",
      "text/plain": [
       "PyPlot.Figure(PyObject <matplotlib.figure.Figure object at 0x87e0374c>)"
      ]
     },
     "metadata": {},
     "output_type": "display_data"
    }
   ],
   "source": [
    "plot(Tres,cosX)\n",
    "xlim([0.0,300.0])\n",
    "xlabel(L\"$t$\")\n",
    "ylabel(L\"$\\cos(x(t))$\")\n",
    "show()"
   ]
  },
  {
   "cell_type": "code",
   "execution_count": 18,
   "metadata": {
    "collapsed": false
   },
   "outputs": [
    {
     "data": {
      "image/png": "[encoded data removed]",
      "text/plain": [
       "PyPlot.Figure(PyObject <matplotlib.figure.Figure object at 0x86636f2c>)"
      ]
     },
     "metadata": {},
     "output_type": "display_data"
    }
   ],
   "source": [
    "plot(Tres,cosY)\n",
    "xlim([0.0,300.0])\n",
    "xlabel(L\"$t$\")\n",
    "ylabel(L\"$\\cos(y(t))$\")\n",
    "show()"
   ]
  },
  {
   "cell_type": "markdown",
   "metadata": {},
   "source": [
    "Con base en lo anterior, se puede proponer que el cerebro enfoca la atención en los estímulos más persistentes usando un circuito en el Thalamus. Para darle un enfoque más general simulamos un circuito electrónico construido con el oscilador de atoll, en el cual se tendrán diferentes señales llegando al Thalamus.\n",
    "\n",
    "Cuando estímulos de varias intensidad llegan al Thalamus, este sólo parará le estímulos más demandantes a la neocorteza para su posterior procesamiento. Una célula del Thalamus excita una célula del complejo reticular, la cual retroalimenta inhibiciones a las células thalamicas en tal forma que las ráfagas repetitivas son observadas como en el modelo de atoll. En la figura anterior, la actividad del par efectivamente inhibe otras células RC cercanas, y éste excita una sola estructura neocortical. En el caso de la red completa, se tiene un complejo como el de la siguiente forma:"
   ]
  },
  {
   "cell_type": "code",
   "execution_count": 19,
   "metadata": {
    "collapsed": false
   },
   "outputs": [
    {
     "data": {
      "image/png": "[encoded data removed]",
      "text/plain": [
       "RGB Images.Image with:\n",
       "  data: 395x313 Array{ColorTypes.RGB{FixedPointNumbers.UfixedBase{UInt8,8}},2}\n",
       "  properties:\n",
       "    spatialorder:  x y\n",
       "    pixelspacing:  1 1\n",
       "    IMcs: sRGB"
      ]
     },
     "execution_count": 19,
     "metadata": {},
     "output_type": "execute_result"
    }
   ],
   "source": [
    "img = Images.imread(\"red1.png\")"
   ]
  },
  {
   "cell_type": "markdown",
   "metadata": {},
   "source": [
    "Las fases de los voltajes son denotados por $x_{i}$ y $y_{i}$, donde $i={1,2,3,....,N}$, para las células TH y RC, respectivamente. Las fases de las proyecciones neocorticales son $z_{i}$. Un modelo para esta red se puede describir con las ecuaciones:\n",
    "\n",
    "$$\\dot{x_{i}}=5(1+cos x_{i}-\\cos_{+}y_{i}+\\sigma_{i}(t))\\cdot\\cdot\\cdot\\cdot\\cdot\\cdot\\cdot\\cdot\\cdot\\cdot\\cdot(C)$$\n",
    "\n",
    "$$\\dot{y_{i}}=0.04(1+cos y_{i}+\\tanh(2\\cos_{+}x_{i}-10L(t)))\\cdot\\cdot\\cdot\\cdot\\cdot\\cdot\\cdot\\cdot\\cdot\\cdot\\cdot(D)$$\n",
    "\n",
    "$$\\dot{z_{i}}=10(0.1+cos z_{i}-\\cos_{+}y_{i})\\cdot\\cdot\\cdot\\cdot\\cdot\\cdot\\cdot\\cdot\\cdot\\cdot\\cdot(E)$$"
   ]
  },
  {
   "cell_type": "markdown",
   "metadata": {},
   "source": [
    "Donde $L$ considera la inhibición lateral en el complejo reticular. Siendo $a_{+}=(a+|a|)/2$ es la parte positiva de $a$. Las constantes en esta red son escogidas para tener una razón de escalas de tiempo de aproximadamente 100:1. Términos positivos son unos excitativos y las negativos son inhibitorios. \n",
    "\n",
    "En una aproximación se puede considerar:\n",
    "\n",
    "$$L(t)=\\frac{1}{N}\\sum_{k=1}^{N}\\cos_{+}y_{k}$$\n",
    "\n",
    "el cual representa la inhibición lateral en el complejo reticular. En este programa, desarrollamos un sistema de tres neuronas usando las funciones anteriores, sólo es necesario definir la función que considere todas las variables junto con una función de condiciones iniciales, en este caso se introducirá un arreglo de condiciones iniciales, el cual se escribirá de la siguiente forma:"
   ]
  },
  {
   "cell_type": "code",
   "execution_count": 20,
   "metadata": {
    "collapsed": false
   },
   "outputs": [],
   "source": [
    "# Arreglo de condiciones iniciales.\n",
    "CondTC1 = [0.0,0.0,0.0,0.0,0.0,0.0,0.0,0.0,0.0,0.0,0.0,0.0,0.0,0.0,0.0,0.0,0.0,0.0,0.0,0.0,0.0,0.0,0.0,0.0,0.0,0.0,0.0];\n",
    "CondTC2 = [π/2.0,0.0,π/2.0,π/2.0,0.0,π/2.0,π/2.0,0.0,π/2.0,π/2.0,0.0,π/2.0,π/2.0,0.0,π/2.0,π/2.0,0.0,π/2.0,π/2.0,0.0,π/2.0,π/2.0,0.0,π/2.0,π/2.0,0.0,π/2.0];\n",
    "CondTC3 = [0.0,0.0,π/2.0,0.0,0.0,π/2.0,0.0,0.0,π/2.0,0.0,0.0,π/2.0,0.0,0.0,π/2.0,0.0,0.0,π/2.0,0.0,0.0,π/2.0,0.0,0.0,π/2.0,0.0,0.0,π/2.0];"
   ]
  },
  {
   "cell_type": "markdown",
   "metadata": {},
   "source": [
    "Para facilitar, creamos una función que determine $a_{+}$ para un Taylor, se tendrá:"
   ]
  },
  {
   "cell_type": "code",
   "execution_count": 21,
   "metadata": {
    "collapsed": false
   },
   "outputs": [
    {
     "data": {
      "text/plain": [
       "d (generic function with 1 method)"
      ]
     },
     "execution_count": 21,
     "metadata": {},
     "output_type": "execute_result"
    }
   ],
   "source": [
    "# Función d: determina la parte positiva de una función.\n",
    "function d{T<:Real}(x::Taylor1{T}) # La función pide un Taylor\n",
    "    res=(x+((x^2)^0.5))/2.0\n",
    "    return res\n",
    "end    "
   ]
  },
  {
   "cell_type": "markdown",
   "metadata": {},
   "source": [
    "Ya que la paquetería a emplear no tiene definida la función $\\tanh$ nos conviene escribirla en términos de exponenciales, creamos la función que calcula la $\\tanh$, se tendrá:"
   ]
  },
  {
   "cell_type": "code",
   "execution_count": 22,
   "metadata": {
    "collapsed": false
   },
   "outputs": [
    {
     "data": {
      "text/plain": [
       "tanh1 (generic function with 1 method)"
      ]
     },
     "execution_count": 22,
     "metadata": {},
     "output_type": "execute_result"
    }
   ],
   "source": [
    "# Función tanh1: Determina la tanh para un Taylor\n",
    "function tanh1{T<:Real}(x::Taylor1{T}) # La función pide un Taylor\n",
    "    ap1 = exp(2.0*(x))\n",
    "    res1 = (ap1-1.0)/(ap1+1.0)\n",
    "    return res1\n",
    "end    "
   ]
  },
  {
   "cell_type": "markdown",
   "metadata": {},
   "source": [
    "Lo siguiente es definir la función que incluya las ecuaciones anteriores:"
   ]
  },
  {
   "cell_type": "code",
   "execution_count": 23,
   "metadata": {
    "collapsed": false
   },
   "outputs": [
    {
     "data": {
      "text/plain": [
       "ThalaFunCom (generic function with 1 method)"
      ]
     },
     "execution_count": 23,
     "metadata": {},
     "output_type": "execute_result"
    }
   ],
   "source": [
    "# Función ThalaFunCom: determina los coeficientes de la series de Taylor según las ecuaciones de las células\n",
    "# TH y RC.\n",
    "function ThalaFunCom{T<:Real}(vec::Array{T,1} , N::Int, σ, t) # La función pide un arreglo con los puntos alrededor\n",
    "    # de los cuales se obtendrán las series, el máximo coeficiente N del polinomio de Taylor y σ\n",
    "    x1T = Taylor1(vec[1], N)# Los primeros términos de la serie x0i, y0i y z0i\n",
    "    y1T = Taylor1(vec[2], N)\n",
    "    z1T = Taylor1(vec[3], N)\n",
    "    x2T = Taylor1(vec[4], N)\n",
    "    y2T = Taylor1(vec[5], N)\n",
    "    z2T = Taylor1(vec[6], N)\n",
    "    x3T = Taylor1(vec[7], N)\n",
    "    y3T = Taylor1(vec[8], N)\n",
    "    z3T = Taylor1(vec[9], N)\n",
    "    x4T = Taylor1(vec[10], N)# Los primeros términos de la serie x0i, y0i y z0i\n",
    "    y4T = Taylor1(vec[11], N)\n",
    "    z4T = Taylor1(vec[12], N)\n",
    "    x5T = Taylor1(vec[13], N)\n",
    "    y5T = Taylor1(vec[14], N)\n",
    "    z5T = Taylor1(vec[15], N)\n",
    "    x6T = Taylor1(vec[16], N)\n",
    "    y6T = Taylor1(vec[17], N)\n",
    "    z6T = Taylor1(vec[18], N)\n",
    "    x7T = Taylor1(vec[19], N)# Los primeros términos de la serie x0i, y0i y z0i\n",
    "    y7T = Taylor1(vec[20], N)\n",
    "    z7T = Taylor1(vec[21], N)\n",
    "    x8T = Taylor1(vec[22], N)\n",
    "    y8T = Taylor1(vec[23], N)\n",
    "    z8T = Taylor1(vec[24], N)\n",
    "    x9T = Taylor1(vec[25], N)\n",
    "    y9T = Taylor1(vec[26], N)\n",
    "    z9T = Taylor1(vec[27], N)\n",
    "    for k = 0:N-1\n",
    "        knext = k+1\n",
    "        # Las siguientes series contienen los coeficientes hasta k\n",
    "        # los cuales son necesarios en las ecuaciones de recurrencia\n",
    "        # para obtener el coeficiente k+1\n",
    "        x1Tt = Taylor1( x1T.coeffs[1:k+1], k)\n",
    "        y1Tt = Taylor1( y1T.coeffs[1:k+1], k)\n",
    "        z1Tt = Taylor1( z1T.coeffs[1:k+1], k)\n",
    "        x2Tt = Taylor1( x2T.coeffs[1:k+1], k)\n",
    "        y2Tt = Taylor1( y2T.coeffs[1:k+1], k)\n",
    "        z2Tt = Taylor1( z2T.coeffs[1:k+1], k)\n",
    "        x3Tt = Taylor1( x3T.coeffs[1:k+1], k)\n",
    "        y3Tt = Taylor1( y3T.coeffs[1:k+1], k)\n",
    "        z3Tt = Taylor1( z3T.coeffs[1:k+1], k)\n",
    "        x4Tt = Taylor1( x4T.coeffs[1:k+1], k)\n",
    "        y4Tt = Taylor1( y4T.coeffs[1:k+1], k)\n",
    "        z4Tt = Taylor1( z4T.coeffs[1:k+1], k)\n",
    "        x5Tt = Taylor1( x5T.coeffs[1:k+1], k)\n",
    "        y5Tt = Taylor1( y5T.coeffs[1:k+1], k)\n",
    "        z5Tt = Taylor1( z5T.coeffs[1:k+1], k)\n",
    "        x6Tt = Taylor1( x6T.coeffs[1:k+1], k)\n",
    "        y6Tt = Taylor1( y6T.coeffs[1:k+1], k)\n",
    "        z6Tt = Taylor1( z6T.coeffs[1:k+1], k)\n",
    "        x7Tt = Taylor1( x7T.coeffs[1:k+1], k)\n",
    "        y7Tt = Taylor1( y7T.coeffs[1:k+1], k)\n",
    "        z7Tt = Taylor1( z7T.coeffs[1:k+1], k)\n",
    "        x8Tt = Taylor1( x8T.coeffs[1:k+1], k)\n",
    "        y8Tt = Taylor1( y8T.coeffs[1:k+1], k)\n",
    "        z8Tt = Taylor1( z8T.coeffs[1:k+1], k)\n",
    "        x9Tt = Taylor1( x9T.coeffs[1:k+1], k)\n",
    "        y9Tt = Taylor1( y9T.coeffs[1:k+1], k)\n",
    "        z9Tt = Taylor1( z9T.coeffs[1:k+1], k)\n",
    "        # Las ecuaciones de movimiento, determinadas por (C), (D) y (E)\n",
    "        Lyi = (1.0/9.0)*(d(cos(y1Tt))+d(cos(y2Tt))+d(cos(y3Tt)))\n",
    "        Lyi = Lyi+(1.0/9.0)*(d(cos(y4Tt))+d(cos(y5Tt))+d(cos(y6Tt)))\n",
    "        Lyi = Lyi+(1.0/9.0)*(d(cos(y7Tt))+d(cos(y8Tt))+d(cos(y9Tt)))\n",
    "        Dx1 = 5.0*(1.0+cos(x1Tt)-d(cos(y1Tt))+σ[1])\n",
    "        Dy1 = 0.04*(1.0+cos(y1Tt)+tanh1(2.0*d(cos(x1Tt)-10.0*Lyi)))\n",
    "        Dz1 = 10.0*(0.1+cos(z1Tt)-d(cos(y1Tt)))\n",
    "        Dx2 = 5.0*(1.0+cos(x2Tt)-d(cos(y2Tt))+σ[2])\n",
    "        Dy2 = 0.04*(1.0+cos(y2Tt)+tanh1(2.0*d(cos(x2Tt)-10.0*Lyi)))\n",
    "        Dz2 = 10.0*(0.1+cos(z2Tt)-d(cos(y2Tt)))\n",
    "        Dx3 = 5.0*(1.0+cos(x3Tt)-d(cos(y3Tt))+σ[3])\n",
    "        Dy3 = 0.04*(1.0+cos(y3Tt)+tanh1(2.0*d(cos(x3Tt)-10.0*Lyi)))\n",
    "        Dz3 = 10.0*(0.1+cos(z3Tt)-d(cos(y3Tt)))\n",
    "        Dx4 = 5.0*(1.0+cos(x4Tt)-d(cos(y4Tt))+σ[4])\n",
    "        Dy4 = 0.04*(1.0+cos(y4Tt)+tanh1(2.0*d(cos(x4Tt)-10.0*Lyi)))\n",
    "        Dz4 = 10.0*(0.1+cos(z4Tt)-d(cos(y4Tt)))\n",
    "        Dx5 = 5.0*(1.0+cos(x5Tt)-d(cos(y5Tt))+σ[5])\n",
    "        Dy5 = 0.04*(1.0+cos(y5Tt)+tanh1(2.0*d(cos(x5Tt)-10.0*Lyi)))\n",
    "        Dz5 = 10.0*(0.1+cos(z5Tt)-d(cos(y5Tt)))\n",
    "        Dx6 = 5.0*(1.0+cos(x6Tt)-d(cos(y6Tt))+σ[6])\n",
    "        Dy6 = 0.04*(1.0+cos(y6Tt)+tanh1(2.0*d(cos(x6Tt)-10.0*Lyi)))\n",
    "        Dz6 = 10.0*(0.1+cos(z6Tt)-d(cos(y6Tt)))\n",
    "        Dx7 = 5.0*(1.0+cos(x7Tt)-d(cos(y7Tt))+σ[7])\n",
    "        Dy7 = 0.04*(1.0+cos(y7Tt)+tanh1(2.0*d(cos(x7Tt)-10.0*Lyi)))\n",
    "        Dz7 = 10.0*(0.1+cos(z7Tt)-d(cos(y7Tt)))\n",
    "        Dx8 = 5.0*(1.0+cos(x8Tt)-d(cos(y8Tt))+σ[8])\n",
    "        Dy8 = 0.04*(1.0+cos(y8Tt)+tanh1(2.0*d(cos(x8Tt)-10.0*Lyi)))\n",
    "        Dz8 = 10.0*(0.1+cos(z8Tt)-d(cos(y8Tt)))\n",
    "        Dx9 = 5.0*(1.0+cos(x9Tt)-d(cos(y9Tt))+σ[9])\n",
    "        Dy9 = 0.04*(1.0+cos(y9Tt)+tanh1(2.0*d(cos(x9Tt)-10.0*Lyi)))\n",
    "        Dz9 = 10.0*(0.1+cos(z9Tt)-d(cos(y9Tt)))\n",
    "        # Los términos k+1 están determinados por (1)\n",
    "        x1T.coeffs[knext+1]  = Dx1.coeffs[knext] / knext\n",
    "        y1T.coeffs[knext+1]  = Dy1.coeffs[knext] / knext\n",
    "        z1T.coeffs[knext+1]  = Dz1.coeffs[knext] / knext\n",
    "        x2T.coeffs[knext+1]  = Dx2.coeffs[knext] / knext\n",
    "        y2T.coeffs[knext+1]  = Dy2.coeffs[knext] / knext\n",
    "        z2T.coeffs[knext+1]  = Dz2.coeffs[knext] / knext\n",
    "        x3T.coeffs[knext+1]  = Dx3.coeffs[knext] / knext\n",
    "        y3T.coeffs[knext+1]  = Dy3.coeffs[knext] / knext\n",
    "        z3T.coeffs[knext+1]  = Dz3.coeffs[knext] / knext\n",
    "        x4T.coeffs[knext+1]  = Dx4.coeffs[knext] / knext\n",
    "        y4T.coeffs[knext+1]  = Dy4.coeffs[knext] / knext\n",
    "        z4T.coeffs[knext+1]  = Dz4.coeffs[knext] / knext\n",
    "        x5T.coeffs[knext+1]  = Dx5.coeffs[knext] / knext\n",
    "        y5T.coeffs[knext+1]  = Dy5.coeffs[knext] / knext\n",
    "        z5T.coeffs[knext+1]  = Dz5.coeffs[knext] / knext\n",
    "        x6T.coeffs[knext+1]  = Dx6.coeffs[knext] / knext\n",
    "        y6T.coeffs[knext+1]  = Dy6.coeffs[knext] / knext\n",
    "        z6T.coeffs[knext+1]  = Dz6.coeffs[knext] / knext\n",
    "        x7T.coeffs[knext+1]  = Dx7.coeffs[knext] / knext\n",
    "        y7T.coeffs[knext+1]  = Dy7.coeffs[knext] / knext\n",
    "        z7T.coeffs[knext+1]  = Dz7.coeffs[knext] / knext\n",
    "        x8T.coeffs[knext+1]  = Dx8.coeffs[knext] / knext\n",
    "        y8T.coeffs[knext+1]  = Dy8.coeffs[knext] / knext\n",
    "        z8T.coeffs[knext+1]  = Dz8.coeffs[knext] / knext\n",
    "        x9T.coeffs[knext+1]  = Dx9.coeffs[knext] / knext\n",
    "        y9T.coeffs[knext+1]  = Dy9.coeffs[knext] / knext\n",
    "        z9T.coeffs[knext+1]  = Dz9.coeffs[knext] / knext\n",
    "    end\n",
    "    # Se devuelven los resultados\n",
    "    return Taylor1[x1T,y1T,z1T,x2T,y2T,z2T,x3T,y3T,z3T,x4T,y4T,z4T,x5T,y5T,z5T,x6T,y6T,z6T,x7T,y7T,z7T,x8T,y8T,z8T,x9T,y9T,z9T]\n",
    "end"
   ]
  },
  {
   "cell_type": "markdown",
   "metadata": {},
   "source": [
    "Falta construir una función que realize la integración considerando los elementos anteriores:"
   ]
  },
  {
   "cell_type": "code",
   "execution_count": 24,
   "metadata": {
    "collapsed": false
   },
   "outputs": [
    {
     "data": {
      "text/plain": [
       "Integrador2 (generic function with 1 method)"
      ]
     },
     "execution_count": 24,
     "metadata": {},
     "output_type": "execute_result"
    }
   ],
   "source": [
    "# Función Integrador2: contiene las ecuaciones a resolver usando el método de integración de Taylor\n",
    "function Integrador2{T<:Real}( vec::Array{T,1}, t_max::Float64, Eqs::Function, epsilon::Float64, N::Int )\n",
    "    # Usará las funciones antes desarrolladas, este función pide un tiempo máximo de operación, las ecuaciones\n",
    "    # a resolver, el epsilón y el orden del polinomio de Taylor\n",
    "    t0 = 0.0# Iniciamos el tiempo\n",
    "    x10 = vec[1]\n",
    "    y10 = vec[2]\n",
    "    z10 = vec[3]\n",
    "    x20 = vec[4]\n",
    "    y20 = vec[5]\n",
    "    z20 = vec[6]\n",
    "    x30 = vec[7]\n",
    "    y30 = vec[8]\n",
    "    z30 = vec[9]\n",
    "    x40 = vec[10]\n",
    "    y40 = vec[11]\n",
    "    z40 = vec[12]\n",
    "    x50 = vec[13]\n",
    "    y50 = vec[14]\n",
    "    z50 = vec[15]\n",
    "    x60 = vec[16]\n",
    "    y60 = vec[17]\n",
    "    z60 = vec[18]\n",
    "    x70 = vec[19]\n",
    "    y70 = vec[20]\n",
    "    z70 = vec[21]\n",
    "    x80 = vec[22]\n",
    "    y80 = vec[23]\n",
    "    z80 = vec[24]\n",
    "    x90 = vec[25]\n",
    "    y90 = vec[26]\n",
    "    z90 = vec[27]\n",
    "    \n",
    "    σ = [0.1,0.0,0.0,0.0,0.0,0.0,0.0,0.0,0.0]\n",
    "    \n",
    "    tV, x1V, y1V, z1V = Float64[], Float64[], Float64[], Float64[]# Aquí se ubicarán los resultados\n",
    "    x2V, y2V, z2V = Float64[], Float64[], Float64[]# Aquí se ubicarán los resultados\n",
    "    x3V, y3V, z3V = Float64[], Float64[], Float64[]# Aquí se ubicarán los resultados\n",
    "    x4V, y4V, z4V = Float64[], Float64[], Float64[]# Aquí se ubicarán los resultados\n",
    "    x5V, y5V, z5V = Float64[], Float64[], Float64[]# Aquí se ubicarán los resultados\n",
    "    x6V, y6V, z6V = Float64[], Float64[], Float64[]# Aquí se ubicarán los resultados\n",
    "    x7V, y7V, z7V = Float64[], Float64[], Float64[]# Aquí se ubicarán los resultados\n",
    "    x8V, y8V, z8V = Float64[], Float64[], Float64[]# Aquí se ubicarán los resultados\n",
    "    x9V, y9V, z9V = Float64[], Float64[], Float64[]# Aquí se ubicarán los resultados\n",
    "    push!(tV, t0)\n",
    "    push!(x1V, x10)# COlocamos condiciones iniciales\n",
    "    push!(y1V, y10)\n",
    "    push!(z1V, z10)\n",
    "    push!(x2V, x20)# COlocamos condiciones iniciales\n",
    "    push!(y2V, y20)\n",
    "    push!(z2V, z20)\n",
    "    push!(x3V, x30)# COlocamos condiciones iniciales\n",
    "    push!(y3V, y30)\n",
    "    push!(z3V, z30)\n",
    "    push!(x4V, x40)# COlocamos condiciones iniciales\n",
    "    push!(y4V, y40)\n",
    "    push!(z4V, z40)\n",
    "    push!(x5V, x50)# COlocamos condiciones iniciales\n",
    "    push!(y5V, y50)\n",
    "    push!(z5V, z50)\n",
    "    push!(x6V, x60)# COlocamos condiciones iniciales\n",
    "    push!(y6V, y60)\n",
    "    push!(z6V, z60)\n",
    "    push!(x7V, x70)# COlocamos condiciones iniciales\n",
    "    push!(y7V, y70)\n",
    "    push!(z7V, z70)\n",
    "    push!(x8V, x80)# COlocamos condiciones iniciales\n",
    "    push!(y8V, y80)\n",
    "    push!(z8V, z80)\n",
    "    push!(x9V, x90)# COlocamos condiciones iniciales\n",
    "    push!(y9V, y90)\n",
    "    push!(z9V, z90)\n",
    "\n",
    "    # Resolvemos para cada tiempo\n",
    "    dt = 1.0# Paso inicial\n",
    "    while t0 < t_max && dt>1.0e-8# Condiciones de paro\n",
    "        if 600.0>t0 > 300.0\n",
    "            σ = [0.0,0.0,0.3,0.0,0.0,0.0,0.0,0.0,0.0]\n",
    "        end\n",
    "        if 900.0>t0 > 600.0\n",
    "            σ = [0.0,0.0,0.0,0.0,0.5,0.0,0.0,0.0,0.0]\n",
    "        end\n",
    "        if 1200.0>t0 > 900.0\n",
    "            σ = [0.0,0.0,0.0,0.0,0.0,0.0,0.7,0.0,0.0]\n",
    "        end\n",
    "        if 1500.0>t0 > 1200.0\n",
    "            σ = [0.0,0.0,0.0,0.0,0.0,0.0,0.0,0.0,0.9]\n",
    "        end\n",
    "        dt, res = evaluador(Eqs,[x10,y10,z10,x20,y20,z20,x30,y30,z30,x40,y40,z40,x50,y50,z50,x60,y60,z60,x70,y70,z70,x80,y80,z80,x90,y90,z90],N,epsilon,σ,t0)# Resolvemos\n",
    "        t0 += dt# A t0 se le suma el tamaño de paso\n",
    "        push!(tV,t0)\n",
    "        push!(x1V,res[1])# Los resultados se guardan\n",
    "        push!(y1V,res[2])\n",
    "        push!(z1V,res[3])\n",
    "        push!(x2V,res[4])# Los resultados se guardan\n",
    "        push!(y2V,res[5])\n",
    "        push!(z2V,res[6])\n",
    "        push!(x3V,res[7])# Los resultados se guardan\n",
    "        push!(y3V,res[8])\n",
    "        push!(z3V,res[9])\n",
    "        push!(x4V,res[10])# Los resultados se guardan\n",
    "        push!(y4V,res[11])\n",
    "        push!(z4V,res[12])\n",
    "        push!(x5V,res[13])# Los resultados se guardan\n",
    "        push!(y5V,res[14])\n",
    "        push!(z5V,res[15])\n",
    "        push!(x6V,res[16])# Los resultados se guardan\n",
    "        push!(y6V,res[17])\n",
    "        push!(z6V,res[18])\n",
    "        push!(x7V,res[19])# Los resultados se guardan\n",
    "        push!(y7V,res[20])\n",
    "        push!(z7V,res[21])\n",
    "        push!(x8V,res[22])# Los resultados se guardan\n",
    "        push!(y8V,res[23])\n",
    "        push!(z8V,res[24])\n",
    "        push!(x9V,res[25])# Los resultados se guardan\n",
    "        push!(y9V,res[26])\n",
    "        push!(z9V,res[27])\n",
    "        x10, y10, z10 = res[1], res[2], res[3]\n",
    "        x20, y20, z20 = res[4], res[5], res[6]# Nuevas condiciones iniciales\n",
    "        x30, y30, z30 = res[7], res[8], res[9]\n",
    "        x40, y40, z40 = res[10], res[11], res[12]\n",
    "        x50, y50, z50 = res[13], res[14], res[15]# Nuevas condiciones iniciales\n",
    "        x60, y60, z60 = res[16], res[17], res[18]\n",
    "        x70, y70, z70 = res[19], res[20], res[21]\n",
    "        x80, y80, z80 = res[22], res[23], res[24]# Nuevas condiciones iniciales\n",
    "        x90, y90, z90 = res[25], res[26], res[27]\n",
    "    end\n",
    "\n",
    "    return tV,x1V,y1V,z1V,x2V,y2V,z2V,x3V,y3V,z3V,x4V,y4V,z4V,x5V,y5V,z5V,x6V,y6V,z6V,x7V,y7V,z7V,x8V,y8V,z8V,x9V,y9V,z9V\n",
    "end"
   ]
  },
  {
   "cell_type": "markdown",
   "metadata": {},
   "source": [
    "Con eso es suficiente para obtener resultados, corremos la función anterior:"
   ]
  },
  {
   "cell_type": "code",
   "execution_count": 25,
   "metadata": {
    "collapsed": false
   },
   "outputs": [],
   "source": [
    "resT,resX1,resY1,resZ1,resX2,resY2,resZ2,resX3,resY3,resZ3,resX4,resY4,resZ4,resX5,resY5,resZ5,resX6,resY6,resZ6,resX7,resY7,resZ7,resX8,resY8,resZ8,resX9,resY9,resZ9 = Integrador2(CondTC2, 2200.0, ThalaFunCom, 10.0^(-10), 20);"
   ]
  },
  {
   "cell_type": "markdown",
   "metadata": {
    "collapsed": true
   },
   "source": [
    "Ya tenemos los resultados, sin embargo de estos solo nos interesa el coseno, entonces:"
   ]
  },
  {
   "cell_type": "code",
   "execution_count": 26,
   "metadata": {
    "collapsed": false
   },
   "outputs": [],
   "source": [
    "cosX1 = resX1\n",
    "cosY1 = resY1\n",
    "cosZ1 = resZ1\n",
    "cosX2 = resX2\n",
    "cosY2 = resY2\n",
    "cosZ2 = resZ2\n",
    "cosX3 = resX3\n",
    "cosY3 = resY3\n",
    "cosZ3 = resZ3\n",
    "cosX4 = resX4\n",
    "cosY4 = resY4\n",
    "cosZ4 = resZ4\n",
    "cosX5 = resX5\n",
    "cosY5 = resY5\n",
    "cosZ5 = resZ5\n",
    "cosX6 = resX6\n",
    "cosY6 = resY6\n",
    "cosZ6 = resZ6\n",
    "cosX7 = resX7\n",
    "cosY7 = resY7\n",
    "cosZ7 = resZ7\n",
    "cosX8 = resX8\n",
    "cosY8 = resY8\n",
    "cosZ8 = resZ8\n",
    "cosX9 = resX9\n",
    "cosY9 = resY9\n",
    "cosZ9 = resZ9\n",
    "for i in eachindex(resX1)\n",
    "    cosX1[i] = (cos(resX1[i]))/2.0\n",
    "    cosY1[i] = 10.0+(cos(resY1[i]))/2.0\n",
    "    cosZ1[i] = 20.0+(cos(resZ1[i]))/2.0\n",
    "    cosX2[i] = 1.0+(cos(resX2[i]))/2.0\n",
    "    cosY2[i] = 11.0+(cos(resY2[i]))/2.0\n",
    "    cosZ2[i] = 21.0+(cos(resZ2[i]))/2.0\n",
    "    cosX3[i] = 2.0+(cos(resX3[i]))/2.0\n",
    "    cosY3[i] = 12.0+(cos(resY3[i]))/2.0\n",
    "    cosZ3[i] = 22.0+(cos(resZ3[i]))/2.0\n",
    "    cosX4[i] = 3.0+(cos(resX4[i]))/2.0\n",
    "    cosY4[i] = 13.0+(cos(resY4[i]))/2.0\n",
    "    cosZ4[i] = 23.0+(cos(resZ4[i]))/2.0\n",
    "    cosX5[i] = 4.0+(cos(resX5[i]))/2.0\n",
    "    cosY5[i] = 14.0+(cos(resY5[i]))/2.0\n",
    "    cosZ5[i] = 24.0+(cos(resZ5[i]))/2.0\n",
    "    cosX6[i] = 5.0+(cos(resX6[i]))/2.0\n",
    "    cosY6[i] = 15.0+(cos(resY6[i]))/2.0\n",
    "    cosZ6[i] = 25.0+(cos(resZ6[i]))/2.0\n",
    "    cosX7[i] = 6.0+(cos(resX7[i]))/2.0\n",
    "    cosY7[i] = 16.0+(cos(resY7[i]))/2.0\n",
    "    cosZ7[i] = 26.0+(cos(resZ7[i]))/2.0\n",
    "    cosX8[i] = 7.0+(cos(resX8[i]))/2.0\n",
    "    cosY8[i] = 17.0+(cos(resY8[i]))/2.0\n",
    "    cosZ8[i] = 27.0+(cos(resZ8[i]))/2.0\n",
    "    cosX9[i] = 8.0+(cos(resX9[i]))/2.0\n",
    "    cosY9[i] = 18.0+(cos(resY9[i]))/2.0\n",
    "    cosZ9[i] = 28.0+(cos(resZ9[i]))/2.0\n",
    "end"
   ]
  },
  {
   "cell_type": "markdown",
   "metadata": {},
   "source": [
    "Veamos lo que se obtuvo:"
   ]
  },
  {
   "cell_type": "code",
   "execution_count": 27,
   "metadata": {
    "collapsed": false
   },
   "outputs": [
    {
     "data": {
      "image/png": "[encoded data removed]",
      "text/plain": [
       "PyPlot.Figure(PyObject <matplotlib.figure.Figure object at 0x87e1dd0c>)"
      ]
     },
     "metadata": {},
     "output_type": "display_data"
    }
   ],
   "source": [
    "plot(resT,cosX1,color=\"green\")\n",
    "plot(resT,cosX2,color=\"green\")\n",
    "plot(resT,cosX3,color=\"green\")\n",
    "plot(resT,cosX4,color=\"green\")\n",
    "plot(resT,cosX5,color=\"green\")\n",
    "plot(resT,cosX6,color=\"green\")\n",
    "plot(resT,cosX7,color=\"green\")\n",
    "plot(resT,cosX8,color=\"green\")\n",
    "plot(resT,cosX9,color=\"green\",label=L\"$\\cos(x_{i}(t))$\")\n",
    "plot(resT,cosY1,color=\"blue\")\n",
    "plot(resT,cosY2,color=\"blue\")\n",
    "plot(resT,cosY3,color=\"blue\")\n",
    "plot(resT,cosY4,color=\"blue\")\n",
    "plot(resT,cosY5,color=\"blue\")\n",
    "plot(resT,cosY6,color=\"blue\")\n",
    "plot(resT,cosY7,color=\"blue\")\n",
    "plot(resT,cosY8,color=\"blue\")\n",
    "plot(resT,cosY9,color=\"blue\",label=L\"$\\cos(y_{i}(t))$\")\n",
    "plot(resT,cosZ1,color=\"red\")\n",
    "plot(resT,cosZ2,color=\"red\")\n",
    "plot(resT,cosZ3,color=\"red\")\n",
    "plot(resT,cosZ4,color=\"red\")\n",
    "plot(resT,cosZ5,color=\"red\")\n",
    "plot(resT,cosZ6,color=\"red\")\n",
    "plot(resT,cosZ7,color=\"red\")\n",
    "plot(resT,cosZ8,color=\"red\")\n",
    "plot(resT,cosZ9,color=\"red\",label=L\"$\\cos(z_{i}(t))$\")\n",
    "legend(loc=2)\n",
    "xlabel(L\"$t$\")\n",
    "xlim([20.0,2200.0])\n",
    "ylim([-2.0,30.0])\n",
    "show()"
   ]
  },
  {
   "cell_type": "markdown",
   "metadata": {
    "collapsed": true
   },
   "source": [
    "En la gráfica anterior presentamos la simulación del modelo thalamocortical basado en una red de 9 canales. Las líneas en color verde representan el $\\cos_{+}x_{i}(t)$, las líneas en color azul son $\\cos_{+}y_{i}(t)$ y las de rojo son $\\cos_{+}z_{i}(t)$. En un momento inicial $t=0$ se aplica un estímulo $\\sigma_{1}=0.1$. Posteriormente, a un tiempo $t=200$ se aplica un estímulo de mayor frecuencia ($\\sigma_{3}=0.3$). Donde solo este último estímulo pasa a través de la neocorteza para tiempos mayores a 200. A un tiempo $t=400$, una frecuencia mayor es aplicada ($\\sigma_{5}=0.3$); a $t=600$ otro estímulo mayor es aplicado ($\\sigma_{3}=0.5$), etc. Podemos observar que en todos los casos solo los estímulos de mayor frecuencia son expresado en la neocorteza.\n",
    "\n",
    "Ésto último es una confirmación de lo antes mencionado: el cerebro enfoca la atención en los estímulos más persistentes, dejando de lado aquellos de menor amplitud. Nos referimos a la dinámica de la figura anterior como \"el ganador se lleva todo en el dominio de frecuencias\". Es decir, el canal con la frecuencia más alta de entrada al TH es el único que eventualmente domina la actividad NC, suprimiendo las otras señales."
   ]
  },
  {
   "cell_type": "markdown",
   "metadata": {},
   "source": [
    "## Hippocampus"
   ]
  },
  {
   "cell_type": "markdown",
   "metadata": {},
   "source": [
    "\n",
    "El Hipocampus es un sistema altamente complejo, y su funcionamiento es todavía desconocido, aunque este es intensamente estudiado por neurocientíficos y neuroingenieros. Experimentos de respuesta de estímulos están buscando descubrir su rol en la memoria. Lo cual nos impulsa a estudiar sistemas matemáticos análogos y sus respuestas a entradas similares. En particular, aquí nosotros formulamos una red que compara elementos de disparo en ritmos gamma (aproximadamente 40 Hz) pero que pueden ser arrastados en patrones de ritmos theta (aproximadamente 5-12 Hz) por medio de señales de entrada, en analogía con respuestas conocidas del Hippocampus a entradas del septum y de la corteza entorhinal.\n",
    "\n",
    "Dos de las frecuencias más observadas en la actividad neuronal son las frecuencias gamma y theta:\n",
    "\n",
    "   - Frecuencia Theta ($\\Theta$) (5-12 Hz);\n",
    "   - Frecuencia Gamma ($\\Gamma$) (40+ Hz).\n",
    "\n",
    "En lo siguiente estudiaremos los distintos patrones de ritmos gamma y theta en un modelo para el hippocampus.\n",
    "\n",
    "### Modelo de Segmentos del Hippocampus\n",
    "\n",
    "Una forma de describir la estructura del Hippocampus es imaginarlo con un eje largo y dos ejes perpendiculares a éste. Cada dos rebanadas perpendiculares a lo largo del eje contienen tres regiones principales, las cuales contienen neuronas excitatorias como inhibitorias. Evidencia experimental sugiere que estas rebanadas pueden sostener oscilaciones sin entradas externas, y las frecuencias naturales de estas oscilaciones están en el rango gamma (40-70 Hz). Como un primer paso para modelar ésto, supondremos que las interacciones entre poblaciones excitatorias e inhibitorias en las rebanadas forman un oscilador como en los casos anteriores. Es decir, modelaremos el hippocampus como una cadena de tales osciladores distribuidos a lo largo del eje mayor, como se presenta en la figura inferior."
   ]
  },
  {
   "cell_type": "code",
   "execution_count": 28,
   "metadata": {
    "collapsed": false
   },
   "outputs": [
    {
     "data": {
      "image/png": "[encoded data removed]",
      "text/plain": [
       "RGB Images.Image with:\n",
       "  data: 441x232 Array{ColorTypes.RGB{FixedPointNumbers.UfixedBase{UInt8,8}},2}\n",
       "  properties:\n",
       "    spatialorder:  x y\n",
       "    pixelspacing:  1 1\n",
       "    IMcs: sRGB"
      ]
     },
     "execution_count": 28,
     "metadata": {},
     "output_type": "execute_result"
    }
   ],
   "source": [
    "img = Images.imread(\"red2.png\")"
   ]
  },
  {
   "cell_type": "markdown",
   "metadata": {
    "collapsed": true
   },
   "source": [
    "Como se puede apreciar en la figura anterior, las dos entradas primarias al hippocampus están relacionadas a la corteza entorhinal (EC) y al medio septum (MS).\n",
    "\n",
    "Datos morfológicos y neurofisiológicos sugieren que ambas entradas distribuyen sus señales a lo largo de los osciladores hippocampales con apropiados retrasos en fase debido a las diferentes distancias de propagación con respecto a sus fuentes. Ambas entradas suministran estímulos de ritmos theta de baja frecuencia. En lo siguiente, mostraremos que el comportamiento del modelo depende de la desviación en tiempo entre las entradas MS y EC. Además, las frecuencias de las señales de entrada y sus relaciones de fase determinan que osciladores del modelo hippocampal reciben suficientes entradas y, como resultado, un patrón de ritmos theta y gamma en el arreglo de osciladores emergerá. \n",
    "\n",
    "Con base en la última figura, un modelo de osciladores del hippocampus considera $N$ osciladores que tienen entradas del medio septum (izquierda, en la figura) y de la cortaza entorhinal (derecha). Las señales en el MS y EC tiene fases $\\Theta t + \\phi_{S}$ y $\\Theta t + \\phi_{C}$, respectivamente. Las entradas al $i$-ésimo oscilador tiene fases $\\theta_{S}=\\Theta t + \\phi + (N-j)\\Delta \\Phi$ y $\\theta_{C}=\\Theta t + \\psi + j\\Delta \\Phi$, respectivamente, donde $\\Delta \\Phi$ es el lapso de tiempo para que la señal se propague de un segmento al siguiente."
   ]
  },
  {
   "cell_type": "markdown",
   "metadata": {
    "collapsed": true
   },
   "source": [
    "### Análisis del patrón del Modelo del Hippocampus\n",
    "\n",
    "Sea $\\theta$ la fase de un oscilador de segmento, y sean $\\theta_{C}$ y $\\theta_{S}$ las fases de entrada del EC y MS, respectivamente. El modelo de esta configuración es:\n",
    "\n",
    "$$\\dot{\\theta}=\\Gamma+K(\\cos(\\pi+\\theta-\\theta_{C})+\\cos(\\pi/2+\\theta-\\theta_{S}))\\cdot\\cdot\\cdot\\cdot\\cdot\\cdot\\cdot\\cdot\\cdot\\cdot\\cdot\\cdot\\cdot\\cdot\\cdot\\cdot(F)$$\n",
    "\n",
    "Aquí $\\Gamma$ es la frecuencia natural de un oscilador del hippocampus ($\\Gamma\\approx$ 40 Hz). Nosotros supondremos que las fases de las entradas EC y MS son:\n",
    "\n",
    "$$\\theta_{C}=\\Theta t +\\phi_{C},\\mbox{  }\\theta_{S}=\\Theta t + \\phi_{S}\\cdot\\cdot\\cdot\\cdot\\cdot\\cdot\\cdot\\cdot\\cdot\\cdot\\cdot\\cdot\\cdot\\cdot\\cdot\\cdot(G)$$\n",
    "\n",
    "respectivamente, donde $\\Theta\\approx$ 5 Hz es la frecuencia de un ritmo theta. Substituyendo la última fórmula obtenemos:\n",
    "\n",
    "$$\\dot{\\theta}=\\Gamma+2K\\sin(\\Theta t + \\bar{\\phi} - \\theta)\\cos(\\psi/2).$$\n",
    "\n",
    "donde $\\psi=\\phi_{C}-\\phi_{S}$ y $\\bar{\\phi}=(\\phi_{C}+\\phi_{S})/2$. Substituyendo $\\Phi=\\theta-\\Theta t -\\bar{\\phi}$, resulta en la ecuación:\n",
    "\n",
    "$$\\Phi=\\Gamma-\\Theta-2K\\sin\\Phi\\cos(\\psi/2).$$\n",
    "\n",
    "Este ecuación tendrá un punto estable, denotado por $\\Phi^{*}$, si la condición\n",
    "\n",
    "$$\\left| \\frac{\\Gamma-\\Theta}{2K\\cos(\\psi/2)} \\right|\\leq1\\cdot\\cdot\\cdot\\cdot\\cdot\\cdot\\cdot\\cdot\\cdot\\cdot\\cdot\\cdot\\cdot\\cdot\\cdot\\cdot(H)$$\n",
    "\n",
    "es satisfecha. De lo cual:\n",
    "\n",
    "$$\\Phi^{*}=\\sin^{-1}\\left( \\frac{\\Gamma-\\Theta}{2K\\cos(\\psi/2)} \\right)$$\n",
    "\n",
    "Si $\\Phi$ se aproxima al punto de equilibrio $\\Phi^{*}$, entonces tendremos que $\\theta/t=\\Theta+\\Phi/t+\\bar{\\phi}/t\\rightarrow\\Theta$ conforme $t\\rightarrow\\infty$. En este caso, el oscilador exhibirá un ritmo Theta. La condición para estabilidad depende de los tres parámetros $K$, $\\Gamma-\\Theta$, y $\\psi$.\n",
    "\n",
    "### Simulación\n",
    "\n",
    "El patrón espacio-temporal de la actividad neuronal depende de $\\psi$, el cual es una desviación de fase entre las dos entradas. Podemos comprobar este cálculo con una simulación computacional de la ecuación (F) usando la condición de estabilidad (H) como una guía para seleccionar los parámetros."
   ]
  },
  {
   "cell_type": "code",
   "execution_count": 29,
   "metadata": {
    "collapsed": false
   },
   "outputs": [],
   "source": [
    "# Definimos las constantes de interes\n",
    "\n",
    "# Las constantes:\n",
    "Γ = 40.0*2.0*π\n",
    "Θ = 5.0\n",
    "NN = 32\n",
    "K = 180.0;"
   ]
  },
  {
   "cell_type": "markdown",
   "metadata": {},
   "source": [
    "Con lo anterior se tiene la base para llevar a cabo la solución numérica, definimos la función que se integrará:"
   ]
  },
  {
   "cell_type": "code",
   "execution_count": 30,
   "metadata": {
    "collapsed": false
   },
   "outputs": [
    {
     "data": {
      "text/plain": [
       "Hippo (generic function with 1 method)"
      ]
     },
     "execution_count": 30,
     "metadata": {},
     "output_type": "execute_result"
    }
   ],
   "source": [
    "# Función Hippo: determina los coeficientes de la series de Taylor según la ecuación (F)\n",
    "function Hippo{T<:Real}(vec::Array{T,1} , N::Int, σ, t) # La función pide un arreglo con los puntos alrededor\n",
    "    # de los cuales se obtendrán las series, el máximo coeficiente N del polinomio de Taylor y σ\n",
    "    yT = Taylor1(vec[1], N)# Los primeros términos de la serie x0i, y0i y z0i\n",
    "    for k = 0:N-1\n",
    "        knext = k+1\n",
    "        # Las siguientes series contienen los coeficientes hasta k\n",
    "        # los cuales son necesarios en las ecuaciones de recurrencia\n",
    "        # para obtener el coeficiente k+1\n",
    "        yTt = Taylor1( yT.coeffs[1:k+1], k)\n",
    "        # Las ecuaciones de movimiento, determinadas por (F)\n",
    "        #even(n) = n == 0 ? true  :  odd(n-1)\n",
    "        #odd(n)  = n == 0 ? false : even(n-1)\n",
    "        #if  even(σ)==true\n",
    "        Dy = -yTt+Γ+2.0*K*cos(π*σ/NN)*sin(Θ*t - yTt)\n",
    "        #end\n",
    "        #if odd(σ)==true\n",
    "         #   Dy = -yTt+Γ+2.0*K*cos(π*σ/NN)*sin(Θ*t - yTt)\n",
    "        #end\n",
    "        # Los términos k+1 están determinados por (1)\n",
    "        yT.coeffs[knext+1]  = Dy.coeffs[knext] / knext\n",
    "    end\n",
    "    # Se devuelven los resultados\n",
    "    return Taylor1[yT]\n",
    "end"
   ]
  },
  {
   "cell_type": "markdown",
   "metadata": {},
   "source": [
    "Igual que en los casos anteriores se requiere un integrador, tendremos:"
   ]
  },
  {
   "cell_type": "code",
   "execution_count": 31,
   "metadata": {
    "collapsed": false
   },
   "outputs": [
    {
     "data": {
      "text/plain": [
       "Integrador3 (generic function with 1 method)"
      ]
     },
     "execution_count": 31,
     "metadata": {},
     "output_type": "execute_result"
    }
   ],
   "source": [
    "# Función Integrador3: contiene las ecuaciones a resolver usando el método de integración de Taylor\n",
    "function Integrador3{T<:Real}( vec::Array{T,1}, t_max::Float64, Eqs::Function, epsilon::Float64, N::Int )\n",
    "    # Usará las funciones antes desarrolladas, este función pide un tiempo máximo de operación, las ecuaciones\n",
    "    # a resolver, el epsilón y el orden del polinomio de Taylor\n",
    "    tVFin, yVFin = [], []# Aquí se ubicarán los resultados\n",
    "    for i=1:2*NN\n",
    "        σ = i\n",
    "        t0 = 0.0# Iniciamos el tiempo\n",
    "        y0 = vec[1]\n",
    "    \n",
    "        tV, yV = Float64[], Float64[]# Aquí se ubicarán los resultados\n",
    "    \n",
    "        push!(tV, t0)\n",
    "        push!(yV, y0)# COlocamos condiciones iniciales\n",
    "    \n",
    "        # Resolvemos para cada tiempo\n",
    "        dt = 1.0# Paso inicial\n",
    "        while t0 < t_max && dt>1.0e-8# Condiciones de paro\n",
    "            dt, res = evaluador(Eqs,[y0],N,epsilon,σ,t0)# Resolvemos\n",
    "            t0 += dt# A t0 se le suma el tamaño de paso\n",
    "            push!(tV,t0)\n",
    "            push!(yV,res[1])# Los resultados se guardan\n",
    "            y0 = res[1]\n",
    "        end\n",
    "        push!(tVFin,tV)\n",
    "        push!(yVFin,yV)\n",
    "    end\n",
    "    return tVFin, yVFin\n",
    "end"
   ]
  },
  {
   "cell_type": "code",
   "execution_count": 32,
   "metadata": {
    "collapsed": false
   },
   "outputs": [],
   "source": [
    "resTH, resθH = Integrador3([1.0], 10.0, Hippo, 10.0^(-15), 20);"
   ]
  },
  {
   "cell_type": "code",
   "execution_count": 33,
   "metadata": {
    "collapsed": false,
    "scrolled": true
   },
   "outputs": [],
   "source": [
    "resFIN = zeros(NN,1)\n",
    "dif = zeros(NN,1)\n",
    "for i=1:NN\n",
    "    (a,) = size(resθH[2*i])\n",
    "    resFIN[i] = 10.0*resθH[2*i][a]/(2.0*π*resTH[2*i][a])\n",
    "    dif[i] = i\n",
    "end"
   ]
  },
  {
   "cell_type": "code",
   "execution_count": 34,
   "metadata": {
    "collapsed": false,
    "scrolled": false
   },
   "outputs": [
    {
     "data": {
      "image/png": "[encoded data removed]",
      "text/plain": [
       "PyPlot.Figure(PyObject <matplotlib.figure.Figure object at 0x8698fa2c>)"
      ]
     },
     "metadata": {},
     "output_type": "display_data"
    }
   ],
   "source": [
    "plot(dif,resFIN,color=\"red\",label=L\"$\\cos(z_{i}(t))$\")\n",
    "xlim([-0.0,33.0])\n",
    "ylabel(\"Frecuencia (Hz)\")\n",
    "xlabel(\"Diferencia de fase\")\n",
    "show()"
   ]
  },
  {
   "cell_type": "markdown",
   "metadata": {},
   "source": [
    "Como se puede observar, en lo anterior se seleccionó: $\\Gamma=40$Hz, $\\Gamma=5$Hz, $K=180$, entonces para la condición de equilibrio (H), se tendrá:\n",
    "\n",
    "$$\\left| \\frac{\\Gamma-\\Theta}{2K\\cos(\\psi/2)} \\right|=\\frac{0.0972}{|\\cos(\\psi/2)|}$$\n",
    "\n",
    "Donde la diferencia de fase $\\psi$ se tomó de 1° a 32° y, por tanto, $\\cos(\\psi/2)\\approx1.0$, satisfaciendo la condición (H).\n",
    "\n",
    "Respecto a la gráfica anterior, podemos decir que el patrón de la actividad neuronal depende de $\\psi$, la cual es una desviación de fase entre dos entradas al hippocampus. Además, la gráfica anterior demuestra que la red neuronal oscila a ritmo theta para algunas desviaciones de fase $\\psi$, y este oscila cerca de un ritmo gamma para otras diferencias. En el caso anterior, todos los segmentos oscilatorios son idénticos excepto para aquellos que reciben las señales de entrada, las cuales difieren de sus vecinos por una cantidad $\\psi$, de tal forma que la figura anterior presentan el patrón que es observado a lo largo del eje mayor del modelo cuando se tienen 32 segmentos.\n",
    "\n",
    "En conclusión, podemos decir que el tiempo de las entradas a un oscilador puede llevar a un importante cambio en la frecuencia de disparo. En particular, varias combinaciones de tiempo pueden crear patrones de actividad de ritmo theta en el arreglo de osciladores. E igualmente, diferentes elecciones de $\\psi$ pueden crean otros patrones de ritmo gamma."
   ]
  },
  {
   "cell_type": "markdown",
   "metadata": {},
   "source": [
    "### Referencias:"
   ]
  },
  {
   "cell_type": "markdown",
   "metadata": {},
   "source": [
    "[1]F.C.Hoppensteadt, An Introduction to the mathematics of neurons, Cambridge University Press.\n",
    "\n",
    "[2]F.C.Hoppensteadt, C.S. Peskin, Methemathics in Medicine and the Life Sciences, Cambridge University Press."
   ]
  }
 ],
 "metadata": {
  "kernelspec": {
   "display_name": "Julia 0.4.0",
   "language": "julia",
   "name": "julia-0.4"
  },
  "language_info": {
   "file_extension": ".jl",
   "mimetype": "application/julia",
   "name": "julia",
   "version": "0.4.1"
  }
 },
 "nbformat": 4,
 "nbformat_minor": 0
}
