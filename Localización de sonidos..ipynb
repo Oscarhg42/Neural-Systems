{
 "cells": [
  {
   "cell_type": "markdown",
   "metadata": {},
   "source": [
    "#Localización del sonido por animales binaurales.\n",
    "\n",
    "T. N. Parks y E. W. Rubel sugirieron un mecanismo de cómo los pollos pueden localizar sonidos empleando una red neuronal simple. La red neuronal se muestra en la siguiente figura:\n",
    "\n",
    "![](https://raw.githubusercontent.com/Oscarhg42/Neural-Systems/Oscar/images/photo.JPG)\n",
    "\n",
    "Esta red describe caracterísitcas escenciales del núcleo auditivo de los pollos. En este modelo cada oído tiene varios axones que salen de él, y cada uno de estos axones llega a una direfente neurona central localizada en el tálamo. Cuando una de las neuronas centrales reciben simultaneamente estimulación de ambos lados, derecho e ixquierdo, ésta dispara un potencial de acción. Si solo un lado la excita, no hay disparo. La señal producida por una de estas neuronas centrales cuasa una respuesta muscular, y el pollo responde ubicando de donde proviene el sonido girando su cabeza.\n",
    "\n",
    "\n",
    "\n",
    "##Una red binaural\n",
    "\n",
    "Una onda acústica entrando en un oído causa que la membrana basilar vibre en una región que corresponde a la frecuencia de la onda acústica. Como respuesta pequeñas céluas de cabello en esa región exitan un axón de una neurona causando que ésta dispare un potencial de acción. \n",
    "Este proceso se modela con un VCON. La señal causada por un estímulo en el oído derecho llega a una neurona central que reacciona contrayendo algunos músculos haciendo rotar al pollo la cabeza hacia la derecha, lo mismo sucede cuando entra un estímulo de lado derecho. el sistema de ecuaciones es el siguiente (véase la refernecia [Frank C. Hoppensteadt]):\n",
    "\n",
    "$$\\dot{x}_0=\\omega _0+V(x_0) +L(t) $$\n",
    "\n",
    "$$\\ddot{x}_j+\\dot{x}_j=\\omega_j+V(x_j)+V(x_{j-1})$$\n",
    "\n",
    "$$\\ddot{y}_j+\\dot{y}_j=\\mu _j +V(y_j)+V(x_j)+V(z_j)$$\n",
    "\n",
    "$$\\dot{z}_j=\\omega _j + V(z_j)+V(z_{j-1})$$\n",
    "\n",
    "$$\\dot{z_0}=\\omega _0 +V(z_0)+R(t)$$\n",
    "\n",
    "para $j=1,..,N$ . Un pulso entrando por el lado derecho seguido de un entrando por el oído izquierdo produce pulsos moviéndose a lo largo de las respectivas cadenas de axones.\n",
    "\n",
    "Se necesita hacer un cambio de variables para pasar aun sistema de ecuaciones de primer orden:\n",
    "\n",
    "$$\\dot{x_j}=u_j \\  ; \\ \\dot{y}=v_j $$\n",
    "\n",
    "Con esto el sistema se transforma en:\n",
    "\n",
    "$$\\dot{x}_0=\\omega _0+V(x_0) +L(t) $$\n",
    "\n",
    "$$\\dot{x_j}=u_j$$\n",
    "\n",
    "$$\\dot{u}_j=\\omega_j+V(x_j)+V(x_{j-1})-\\dot{x}_j$$\n",
    "\n",
    "$$\\dot{y}=v_j$$\n",
    "\n",
    "$$\\dot{v}_j=\\mu _j +V(y_j)+V(x_j)+V(z_j)-\\dot{y}_j$$\n",
    "\n",
    "$$\\dot{z}_j=\\omega _j + V(z_j)+V(z_{j-1})$$\n",
    "\n",
    "$$\\dot{z_0}=\\omega _0 +V(z_0)+R(t)$$\n",
    "\n",
    "Sin embargo como ya se hizo notar en la parte de [modelos simples de neuronas](https://github.com/Oscarhg42/Neural-Systems/blob/Oscar/Modelos%20b%C3%A1sicos%20de%20redes..ipynb), no se lograron obtener resultados adecuados para ecuaciones difernciales de segundo orden.\n",
    "\n",
    "Debido a la cantidad ecuaciones diferenciales que deben resolverse para la red de la figura anterior, solo trabajaremos con 9 neuronas.\n",
    "\n",
    "Debido a que el tálamo es el encargado de procesar los estímulos sensoriales en el cerebro una buena idea para modelar esta red neuronal es partir de las ecuaciones  del modelo de atoll o modelo de [circuito talamocortical](PONER LINK!!!!!) pero haciendo unas pequeñas modificaciones.\n",
    "\n",
    "$$\\dot{r_{i}}=5(1+cos (r_{i})-\\cos_{+}(y_{i})+\\sigma_{R_i}(t)+10M_R(t))$$\n",
    "\n",
    "$$\\dot{y_{i}}=0.04( \\ 1+cos (y_{i})+\\tanh(2\\cos_{+}(r_{i})) \\ )$$\n",
    "\n",
    "$$\\dot{l_{i}}=10(0.1+cos (l_{i})-\\cos_{+}(y_{i})+\\sigma_{L_i}(t)+10M_L(t))$$\n",
    "\n",
    "donde $r_i$ son las fases de los potenciales de axión producidos en las neouronas que conducen los estímulos del oído **derecho** a las neuronas centrales localizadas en el tálamo, cuyas fases están dadas por $y_i$; y $l_i$ son las fases de los potenciales de las neuronas conductoras del lado **izquierdo**. \n",
    "$\\sigma_{R_i}$ y $\\sigma_{L_i}$ son los estímulos externos que entran por los oídos derecho e izquierdo, respectivamente, y $M(t)$ es una función que acopla a las neuronas conductoras del lado derecho y $M_L(t)$ acopla a las del lado derecho."
   ]
  },
  {
   "cell_type": "code",
   "execution_count": 1,
   "metadata": {
    "collapsed": false
   },
   "outputs": [
    {
     "name": "stderr",
     "output_type": "stream",
     "text": [
      "INFO: Loading help data...\n"
     ]
    },
    {
     "name": "stdout",
     "output_type": "stream",
     "text": [
      "0.3.11\n"
     ]
    }
   ],
   "source": [
    "using PyPlot\n",
    "using TaylorSeries\n",
    "println(VERSION)\n",
    "\n",
    "using Compat;"
   ]
  },
  {
   "cell_type": "code",
   "execution_count": 2,
   "metadata": {
    "collapsed": false
   },
   "outputs": [
    {
     "data": {
      "text/plain": [
       "step (generic function with 1 method)"
      ]
     },
     "execution_count": 2,
     "metadata": {},
     "output_type": "execute_result"
    }
   ],
   "source": [
    "function step{T<:Number}(x::Taylor1{T},eps::T)\n",
    "    orden=length(x.coeffs)\n",
    "    hs=Number[]\n",
    "    for i in 1:orden #esto lo hacemos para evitar problemas con los coeficientes de Taylor que \n",
    "        #son cero\n",
    "        if x.coeffs[i]!=0\n",
    "            push!(hs,x.coeffs[i])\n",
    "        end \n",
    "    end \n",
    "    orden=length(hs)\n",
    "    p1=1/orden\n",
    "    p2=1/(orden-1)\n",
    "    den1=hs[orden]\n",
    "    den2=hs[orden-1]\n",
    "    h1=(abs(eps/den1))^p1\n",
    "    h2=(abs(eps/den2))^p2\n",
    "    h=min(h1,h2)\n",
    "    #println(hs)\n",
    "\n",
    "    return h\n",
    "end \n",
    "    "
   ]
  },
  {
   "cell_type": "code",
   "execution_count": 3,
   "metadata": {
    "collapsed": false
   },
   "outputs": [
    {
     "data": {
      "text/plain": [
       "d (generic function with 1 method)"
      ]
     },
     "execution_count": 3,
     "metadata": {},
     "output_type": "execute_result"
    }
   ],
   "source": [
    "function d{T<:Real}(x::Taylor1{T}) # La función pide un Taylor\n",
    "    res=(x+((x^2)^0.5))/2.0\n",
    "    return res\n",
    "#end    \n",
    "#function positive{T<:Number}(x::Taylor1{T})\n",
    "#    obj=(x+(x^2)^0.5)/2\n",
    " #   return obj\n",
    "end "
   ]
  },
  {
   "cell_type": "code",
   "execution_count": 4,
   "metadata": {
    "collapsed": false
   },
   "outputs": [
    {
     "data": {
      "text/plain": [
       "tanh (generic function with 1 method)"
      ]
     },
     "execution_count": 4,
     "metadata": {},
     "output_type": "execute_result"
    }
   ],
   "source": [
    "function tanh(x::Taylor1)\n",
    "     ap1 = exp(2.0*(x))\n",
    "    res1 = (ap1-1.0)/(ap1+1.0)\n",
    "    return res1\n",
    "end "
   ]
  },
  {
   "cell_type": "code",
   "execution_count": null,
   "metadata": {
    "collapsed": true
   },
   "outputs": [],
   "source": []
  }
 ],
 "metadata": {
  "kernelspec": {
   "display_name": "Julia 0.3.11",
   "language": "julia",
   "name": "julia-0.3"
  },
  "language_info": {
   "file_extension": ".jl",
   "mimetype": "application/julia",
   "name": "julia",
   "version": "0.3.11"
  }
 },
 "nbformat": 4,
 "nbformat_minor": 0
}
