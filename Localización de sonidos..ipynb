{
 "cells": [
  {
   "cell_type": "markdown",
   "metadata": {},
   "source": [
    "#Localización del sonido por animales binaurales.\n",
    "\n",
    "T. N. Parks y E. W. Rubel sugirieron un mecanismo de cómo los pollos pueden localizar sonidos empleando una red neuronal simple. La red neuronal se muestra en la siguiente figura:\n",
    "\n",
    "[]\n",
    "\n",
    "Esta red describe caracterísitcas escenciales del núcleo auditivo de los pollos. En este modelo cada oído tiene varios axones que salen de él, y cada uno de estos axones llega a una direfente neurona central localizada en el HIPOTALAMO O ALGUN LUGAR DEL CEREBRO (BUSCAR). Cuando una de las neuronas centrales recibe simultaneamente estimulación de ambos lados, derecho e ixquierdo, ésta dispara un potencial de acción. Si solo un lado la excita, no hay disparo. La señal producida por una de estas neuronas centrales cuasa una respuesta muscular, y el pollo responde ubicando de donde proviene el sonido girando su cabeza.\n",
    "\n",
    "##Un modelo de axón.\n",
    "\n",
    "Toma tiempo para un potencial de acción recorrer todo un axón, y también hay un tiempo que tardan en realizarse las sinapsis entre dos neuronas. \n",
    "Existen varias maneras de modelar los axones como líneas de transmisión electricas. Y en [REFERENCIA DEL LIBRO] se modelan utilizando los ya introducidos osciladores controlados por voltaje (VCON). En este modelo para un axón, cada VCON actúa como un patch de membrana de axón, y el acoplamiento está modelado por filtros pasabajos:\n",
    "    $$ \\rightarrow FPB  \\rightarrow z_j \\rightarrow VCON \\rightarrow x_j $$\n",
    "    \n",
    "Entonces cada neurona de la red, se piensa como un VCON y se asume que son excitables. Un voljtae lo suficientemente alto introducido por un sonido por alguno de los dos lados del pollo, pasa a través del circuito y eventualmente acaba en el otro extremo. Cada VCON introduce una nueva desviación de fase o retraso temporal, pues al potencial de disparo le toma algún tiempo llegar al otro extremo.\n",
    "\n",
    "##Una red binaural\n",
    "\n",
    "Una onda acústica entrando en un oído causa que la membrana basilar vibre en una región que corresponde a la frecuencia de la onda acústica. Como respuesta pequeñas céluas de cabello en esa región exitan un axón de una neurona causando que ésta dispare un potencial de acción. \n",
    "Este proceso se modela con un VCON. La señal causada por un estímulo en el oído derecho llega a una neurona central que reacciona contrayendo algunos músculos haciendo rotar al pollo la cabeza hacia la derecha, lo mismo sucede cuando entra un estímulo de lado derecho. el sistema de ecuaciones es el siguiente:\n",
    "\n",
    "$$\\dot{x}_0=\\omega _0+V(x_0) +L(t) $$\n",
    "\n",
    "$$\\ddot{x}_j+\\dot{x}_j=\\omega_j+V(x_j)+V(x_{j-1}$$\n",
    "\n",
    "$$\\ddot{y}_j+\\dot{y}_j=\\mu _j +V(y_j)+V(x_j)+V(z_j)$$\n",
    "\n",
    "$$\\dot{z}_j=\\omega _j + V(z_j)+V(z_{j-1})$$\n",
    "\n",
    "$$\\dot{z_0}=\\omega _0 +V(z_0)+R(t)$$\n",
    "\n",
    "para $j=1,..,N$ . Un pulso entrando por el lado derecho seguido de un entrando por el oído izquierdo produce pulsos moviéndose a lo largo de las respectivas cadenas de axones."
   ]
  },
  {
   "cell_type": "code",
   "execution_count": null,
   "metadata": {
    "collapsed": true
   },
   "outputs": [],
   "source": []
  }
 ],
 "metadata": {
  "kernelspec": {
   "display_name": "Julia 0.3.11",
   "language": "julia",
   "name": "julia-0.3"
  },
  "language_info": {
   "file_extension": ".jl",
   "mimetype": "application/julia",
   "name": "julia",
   "version": "0.3.11"
  }
 },
 "nbformat": 4,
 "nbformat_minor": 0
}
