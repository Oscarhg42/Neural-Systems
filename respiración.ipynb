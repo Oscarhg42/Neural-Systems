{
 "cells": [
  {
   "cell_type": "markdown",
   "metadata": {},
   "source": [
    "La respiración en humanos es controlada por neuronas que excitan a los músculos del diafragma a que se contraigan.\n",
    "Hay músculos para la inspiración y la exhalación. Hay mecanoreceptores $MR$ que incluyen a los receptores de estiramiento pulmonar que se encargan de inhibir a las neuronas que controlan los músculos inspiratorios diafragma.\n",
    "\n",
    "El diafragma se modela como un sistema mecánico de un resorte  con una fuerza de fricción y una fuerza restutiva. Si $z$ denota la contracción del difragma y se parte del reposo, entonces $z$ satisface la ecuación:\n",
    "$$m\\frac{d^2z}{dt^2}+r\\frac{dz}{dt}+kz=F \\ \\ (1)$$\n",
    "donde $m$ es la masa del difragma, r es el coeficiente de resistencia, $k$ mide la fuerza restitutiva y $F$ es la fuerza externa aplicada al diafragma por músculos que reciben señales de las neuronas inspiratorias y expiratorias.\n",
    "El circuito mecánico equivalente a este sistema mecánico es un circuito $RCL$, donde la fuerza externa se reemplaza por una fuerza electromotriz. Se utilizan diodos rectificadores para simular la barrera de potencial que cuando es superada activa los músculos.\n",
    "\n",
    "Las relaciones entre los mecanorecptores, las neuronas inspiratorias, las neuronas expiratorias y el difragma puede ser modelada por medio de diafragma mediante el siguiente sistema de ecuaciones:\n",
    "\n",
    "$$\\frac{dx_{in}}{dt}=\\omega_0+ P[Acos(x_{in})+\\alpha-H \\ d(Acos(x_{MR})]$$\n",
    "\n",
    "$$\\frac{dx_{ex}}{dt}=\\omega_0+ Acos(x_{ex})+\\alpha-H \\ d(Acos(x_{in})$$\n",
    "\n",
    "$$ \\frac{dx_{MR}}{dt}=\\omega_0+ P[Acos(x_{MR})+H \\ d(z)]$$\n",
    "\n",
    "$$m\\frac{d^2z}{dt}+\\frac{dz}{dt}=-kz+B \\ d (A cos(x_{in}) - B \\ d(Acos(x_{ex}) \\ \\ (2)$$ \n",
    "\n",
    "donde $x_{ex}=fase \\ de \\ las \\ neuronas \\ inspiratorias$\n",
    "\n",
    "$x_{in}=fase \\ de \\ las \\ neuronas \\ expiratorias$\n",
    "\n",
    "$x_{MR}=fase \\ de \\ los \\ mecano-receptores$ \n",
    "\n",
    "$z=contracción \\ del\\ diafragma \\ partiendo \\ del \\ reposo$\n",
    "\n",
    "$\\omega_0=frecuencia \\ las \\ neuronas$\n",
    "\n",
    "$A=amplitud\\ de\\ la\\ señal\\ de\\ salida\\ de\\ las\\ neuronas$\n",
    "\n",
    "$B=transducción \\ característica$\n",
    "\n",
    "$H=sinapsys \\ efectiva$\n",
    "\n",
    "$\\alpha=excitación$\n",
    "\n",
    "\n",
    "La transducción de señal ocurre cuando una molécula de señalización extracelular activa un receptor de superficie de la célula. A su vez, este receptor altera moléculas intracelulares creando una respuesta. [1]\n",
    "\n",
    "La respiración mientras corremos.\n",
    "\n",
    "Correr causa una carga periódica sobre el diafragma, entonces podemos modelar la ecuación para $z$ de la siguiente manera: $$m\\frac{d^2z}{dt^2}+r\\frac{dz}{dt}+kz=F+p(t)$$\n",
    "\n",
    "Vamos a estudiar las atenuaciones como respuesta a una fuerza externa.\n",
    "\n",
    "El radio de cambio de respiración, es el radio entre el monto de oxígeno consumido $0_2$ y el dióxido de carbono $CO_2$ producido en una respiración. Típicamente los humanos inhalan más moléculas de oxígeno que las que exhalan de dióxido de carbono. [2]\n",
    "\n",
    " Un ciclo \"phase locked (PLL)\" es un sistema de control que genera una señal de salida cuya fase está relacionada con la fase de una señal de entrada. Como hay de diferentes tipos, es fácil visualizar un circuito electrónico que consiste de un oscilador de frecuencia variable y un detector. El oscilador  genera una señal periódica. El detector de fase compara la fase de dela señal de salida con la de entrada y ajusta al oscilador para mantener parejas las fases.\n",
    "Se le llama \"feedback loop\" a la comparación entre la señal de entrada y la de salida|  \n",
    "\n",
    "Mantener la señal de entrada y de salida en \"lock step\" implica que las frecuencias de entrada y de salida son las mismas. [3]\n",
    "\n",
    "Bramble y Carrier recolectaron datos en patrones de respiración para mamíferos corriendo, encontraron qeu cuando se mide el número de pasos por respiración, entonces ocurren combinaciones \"phase locked\" a varias velocidades.\n",
    "\n",
    "Los mamíferos sin entrenamiento sincronizan sus pasos con su respiración, los entrenados usan varios radios de respiración.\n",
    "\n",
    "El \"phase locking\" entre paso y respiración puede ser estudiado usando el sistema de ecuaciones (2) pero agregando una carga periódica en el diafragma.\n",
    "\n",
    "Introducimos coordenadas polares en la ecuación por $z$, \n",
    "\n",
    "\n",
    "$$\\frac{dz}{dt}=\\frac{1}{m}(u-z)$$\n",
    "\n",
    "$$\\frac{du}{dt}=-kz+F \\ \\ \\ (3)$$\n",
    "\n",
    "tomamos $z=Z$ y $u=\\frac{U}{\\sqrt{km}}$\n",
    "\n",
    "\n",
    "$$\\frac{dz}{dt}=\\frac{1}{m}(u-z)$$\n",
    "\n",
    "$$\\frac{du}{dt}=-kz+F \\ \\ \\ (4)$$\n",
    "\n",
    "\n",
    "El resultado es:\n",
    "\n",
    "\n",
    "\n",
    "\n",
    "\n",
    "$$\\frac{dZ}{dt}=\\omega U -\\frac{Z}{m}$$\n",
    "\n",
    "$$\\frac{dU}{dt}=-\\omega z+\\frac{F}{\\sqrt{km}}$$\n",
    "\n",
    "Ahora, tomamos $z=r\\cos(\\phi), U=r\\sin(\\phi)$, entonces:\n",
    "\n",
    "$$\\frac{dr}{dt}=-\\frac{1}{m}r\\cos(\\phi)+\\frac{F}{\\sqrt{km}}sin(\\phi)$$\n",
    "\n",
    "$$\\frac{d\\phi}{dt}=-\\omega+\\frac{F}{r \\sqrt{km}}cos(\\phi)-\\frac{1}{m}sin(\\phi)cos(\\phi) \\ \\ \\ (5)$$\n",
    "\n",
    "\n",
    "Para un impulso no lineal reemplazamos el término $kz$ por el término $k(z+z^3)$\n",
    "\n",
    "$$\\frac{dz}{dt}=\\frac{1}{m}(u-z)$$\n",
    "\n",
    "$$\\frac{du}{dt}=-k(z+z^3)+F \\ \\ \\ (6)$$\n",
    "Entonces:\n",
    "\n",
    "\n",
    "\n",
    "\n",
    "$$\\frac{dZ}{dt}=\\omega U -\\frac{Z}{m}$$\n",
    "\n",
    "$$\\frac{dU}{dt}=-\\omega (z+z^3) +\\frac{F}{\\sqrt{km}} \\ \\ (7)$$\n",
    "\n",
    "\n",
    "\n",
    "\n"
   ]
  },
  {
   "cell_type": "markdown",
   "metadata": {},
   "source": [
    "Ahora usaremos $SymPy$ para encontrar $\\frac{dr}{dt},\\frac{d\\phi}{dt}$ sustituyendo $Z$ y $U$."
   ]
  },
  {
   "cell_type": "code",
   "execution_count": 1,
   "metadata": {
    "collapsed": false
   },
   "outputs": [],
   "source": [
    "using PyCall\n"
   ]
  },
  {
   "cell_type": "code",
   "execution_count": 2,
   "metadata": {
    "collapsed": false
   },
   "outputs": [],
   "source": [
    "using SymPy"
   ]
  },
  {
   "cell_type": "code",
   "execution_count": 3,
   "metadata": {
    "collapsed": false
   },
   "outputs": [
    {
     "data": {
      "text/plain": [
       "(anonymous function)"
      ]
     },
     "execution_count": 3,
     "metadata": {},
     "output_type": "execute_result"
    }
   ],
   "source": [
    "\n",
    "F=Sym(\"F\")\n",
    "t=Sym(\"t\")\n",
    "ω=Sym(\"omega\")\n",
    "m=Sym(\"m\")\n",
    "k=Sym(\"k\")\n",
    "ϕ=SymFunction(\"phi\")\n",
    "r=SymFunction(\"r\")"
   ]
  },
  {
   "cell_type": "code",
   "execution_count": 4,
   "metadata": {
    "collapsed": false
   },
   "outputs": [
    {
     "data": {
      "text/latex": [
       "$$r{\\left (t \\right )}$$"
      ],
      "text/plain": [
       "r(t)"
      ]
     },
     "execution_count": 4,
     "metadata": {},
     "output_type": "execute_result"
    }
   ],
   "source": [
    "ϕ=ϕ(t)\n",
    "r=r(t)\n",
    "\n"
   ]
  },
  {
   "cell_type": "code",
   "execution_count": 5,
   "metadata": {
    "collapsed": false
   },
   "outputs": [
    {
     "data": {
      "text/latex": [
       "$$\\frac{d}{d t} \\phi{\\left (t \\right )}$$"
      ],
      "text/plain": [
       "d       \n",
       "──(φ(t))\n",
       "dt      "
      ]
     },
     "execution_count": 5,
     "metadata": {},
     "output_type": "execute_result"
    }
   ],
   "source": [
    "dotr=diff(r)\n",
    "dotϕ=diff(ϕ)"
   ]
  },
  {
   "cell_type": "code",
   "execution_count": 6,
   "metadata": {
    "collapsed": false
   },
   "outputs": [
    {
     "data": {
      "text/latex": [
       "$$\\omega r{\\left (t \\right )} \\sin{\\left (\\phi{\\left (t \\right )} \\right )} + r{\\left (t \\right )} \\sin{\\left (\\phi{\\left (t \\right )} \\right )} \\frac{d}{d t} \\phi{\\left (t \\right )} - \\cos{\\left (\\phi{\\left (t \\right )} \\right )} \\frac{d}{d t} r{\\left (t \\right )} - \\frac{1}{m} r{\\left (t \\right )} \\cos{\\left (\\phi{\\left (t \\right )} \\right )}$$"
      ],
      "text/plain": [
       "                                  d                    d          r(t)⋅cos(φ(t\n",
       "ω⋅r(t)⋅sin(φ(t)) + r(t)⋅sin(φ(t))⋅──(φ(t)) - cos(φ(t))⋅──(r(t)) - ────────────\n",
       "                                  dt                   dt               m     \n",
       "\n",
       "))\n",
       "──\n",
       "  "
      ]
     },
     "execution_count": 6,
     "metadata": {},
     "output_type": "execute_result"
    }
   ],
   "source": [
    "d_z=ω*r*sin(ϕ)-(1/m)*r*cos(ϕ)-dotr*cos(ϕ)+r*sin(ϕ)dotϕ"
   ]
  },
  {
   "cell_type": "code",
   "execution_count": 9,
   "metadata": {
    "collapsed": false
   },
   "outputs": [
    {
     "data": {
      "text/latex": [
       "$$\\frac{F}{\\sqrt{k m}} - \\omega \\left(r^{3}{\\left (t \\right )} \\cos^{3}{\\left (\\phi{\\left (t \\right )} \\right )} + r{\\left (t \\right )} \\cos{\\left (\\phi{\\left (t \\right )} \\right )}\\right) + r{\\left (t \\right )} \\cos{\\left (\\phi{\\left (t \\right )} \\right )} \\frac{d}{d t} \\phi{\\left (t \\right )} - \\sin{\\left (\\phi{\\left (t \\right )} \\right )} \\frac{d}{d t} r{\\left (t \\right )}$$"
      ],
      "text/plain": [
       "   F        ⎛ 3       3                       ⎞                  d            \n",
       "─────── - ω⋅⎝r (t)⋅cos (φ(t)) + r(t)⋅cos(φ(t))⎠ + r(t)⋅cos(φ(t))⋅──(φ(t)) - si\n",
       "  _____                                                          dt           \n",
       "╲╱ k⋅m                                                                        \n",
       "\n",
       "        d       \n",
       "n(φ(t))⋅──(r(t))\n",
       "        dt      \n",
       "                "
      ]
     },
     "execution_count": 9,
     "metadata": {},
     "output_type": "execute_result"
    }
   ],
   "source": [
    "d_u=-ω*(r*cos(ϕ)+(r*cos(ϕ))^3)+F/(sqrt(k*m))-dotr*sin(ϕ)+r*cos(ϕ)*dotϕ"
   ]
  },
  {
   "cell_type": "code",
   "execution_count": 11,
   "metadata": {
    "collapsed": false
   },
   "outputs": [
    {
     "data": {
      "text/latex": [
       "\\begin{equation*}\\begin{cases}\\frac{d}{d t} r{\\left (t \\right )} & \\text{=>} &\\frac{1}{m \\sqrt{k m} \\cos{\\left (2 \\phi{\\left (t \\right )} \\right )}} \\left(m \\left(- F + \\omega \\sqrt{k m} r^{3}{\\left (t \\right )} \\cos^{3}{\\left (\\phi{\\left (t \\right )} \\right )} + \\omega \\sqrt{k m} r{\\left (t \\right )} \\cos{\\left (\\phi{\\left (t \\right )} \\right )}\\right) \\sin{\\left (\\phi{\\left (t \\right )} \\right )} + \\frac{\\sqrt{k m}}{2} \\left(m \\omega \\sin{\\left (2 \\phi{\\left (t \\right )} \\right )} - \\cos{\\left (2 \\phi{\\left (t \\right )} \\right )} - 1\\right) r{\\left (t \\right )}\\right)\\\\\\frac{d}{d t} \\phi{\\left (t \\right )} & \\text{=>} &- \\frac{F \\cos{\\left (\\phi{\\left (t \\right )} \\right )}}{\\sqrt{k m} r{\\left (t \\right )} \\cos{\\left (2 \\phi{\\left (t \\right )} \\right )}} + \\frac{\\omega \\left(- \\cos{\\left (2 \\phi{\\left (t \\right )} \\right )} + 1\\right)^{2} r^{2}{\\left (t \\right )}}{4 \\cos{\\left (2 \\phi{\\left (t \\right )} \\right )}} + \\omega r^{2}{\\left (t \\right )} + \\frac{\\omega}{\\cos{\\left (2 \\phi{\\left (t \\right )} \\right )}} - \\frac{1}{2 m} \\tan{\\left (2 \\phi{\\left (t \\right )} \\right )}\\\\\\end{cases}\\end{equation*}"
      ],
      "text/plain": [
       "Dict{SymPy.Sym,SymPy.Sym} with 2 entries:\n",
       "  Derivative(r(t), t)   => (m*(-F + omega*sqrt(k*m)*r(t)^3*cos(phi(t))^3 + omeg…\n",
       "  Derivative(phi(t), t) => -F*cos(phi(t))/(sqrt(k*m)*r(t)*cos(2*phi(t))) + omeg…"
      ]
     },
     "execution_count": 11,
     "metadata": {},
     "output_type": "execute_result"
    }
   ],
   "source": [
    "dr,dϕ=solve([d_z,d_u], [dotr,dotϕ])"
   ]
  },
  {
   "cell_type": "markdown",
   "metadata": {
    "collapsed": true
   },
   "source": [
    "Biblografía:\n",
    "\n",
    "[1]https://es.wikipedia.org/wiki/Transducci%C3%B3n_de_se%C3%B1al\n",
    "\n",
    "[2] https://en.wikipedia.org/wiki/Respiratory_exchange_ratio\n",
    "\n",
    "[3]https://www.google.com.mx/url?sa=t&rct=j&q=&esrc=s&source=web&cd=3&cad=rja&uact=8&ved=0ahUKEwjav-fm1rTJAhUHWCYKHepVCsEQFggsMAI&url=https%3A%2F%2Fen.wikipedia.org%2Fwiki%2FPhase-locked_loop&usg=AFQjCNFoqJdVwjx2t5hNDUanbeKoMdZblw&sig2=SKKewfZFOKFbLvK7u1lEWA"
   ]
  },
  {
   "cell_type": "code",
   "execution_count": null,
   "metadata": {
    "collapsed": true
   },
   "outputs": [],
   "source": []
  }
 ],
 "metadata": {
  "kernelspec": {
   "display_name": "Julia 0.4.1",
   "language": "julia",
   "name": "julia-0.4"
  },
  "language_info": {
   "file_extension": ".jl",
   "mimetype": "application/julia",
   "name": "julia",
   "version": "0.4.1"
  }
 },
 "nbformat": 4,
 "nbformat_minor": 0
}
