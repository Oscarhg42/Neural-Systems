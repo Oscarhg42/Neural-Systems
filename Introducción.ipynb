{
 "cells": [
  {
   "cell_type": "markdown",
   "metadata": {},
   "source": [
    "# Sistemas Neuronales"
   ]
  },
  {
   "cell_type": "markdown",
   "metadata": {},
   "source": [
    "\n",
    "\n",
    "El estudio del cerebro ha sido una de las más activas e interesantes aventuras en la ciencia. Ingeniosos experimentos y exquisitos dispositivos experimentales se han desarrollado para entender como trabaja un cerebro. Por ejemplo, [A.L. Hodgkin](https://es.wikipedia.org/wiki/Alan_Lloyd_Hodgkin) (el paper original se puede encontrar en este [link](http://www.ncbi.nlm.nih.gov/pmc/articles/PMC1392160/)) en 1948 aplico un voltaje constante a través de una membrana neuronal. Él observó que a medida que el estímulo crecía, la medición de voltaje a través de la membrana empieza a oscilar debido a corrientes iónicas pasando por la membrana. Las oscilaciones fueron de dos tipos: en la primera (Clase 1), el voltaje en la membrana empieza a oscilar con una amplitud constante, pero con una frecuencia que se incrementa con el estímulo; en la segunda (Clase 2), el voltaje en la membrana comienza a oscilar con una amplitud pequeña que se incrementa con los estímulos, pero la frecuencia permanece constante.\n",
    "\n",
    "Existen dos modelos canónicos que describen tales fenómenos: en cada uno, hay un parámetro (correspondiente a la fuerza del estímulo), y en cada uno hay un límite del parámetro en el cual el sistema se activa, pasando del reposo a oscilar. El primero es conocido como modelo [*saddle-node on limit cycle bifurcation*](http://www.scholarpedia.org/article/Saddle-node_bifurcation). El segundo es conocido como el modelo [*Andronov-Hopf bifurcation*](http://www.scholarpedia.org/article/Andronov-Hopf_bifurcation). En la idea descrita por Hodgkin, las neuronas son osciladores que son controlados por un voltaje aplicado y, por tanto, se dice que ellos son osciladores controlados por voltaje.\n",
    "\n",
    "Hablando de forma general, en este trabajo se demostrará que el modelo canónico para neuronas de Clase 1 y el modelo matemático para un oscilador controlado con voltaje autoexcitado son el mismo, lo cual permitirá estudiar redes neuronales en diferentes ejemplos.\n",
    "Sin embargo, en este trabajo no se intenta modelar una neurona completa viviente; pues, una neurona típica incluye una estructura de entrada, un cuerpo de célula que mantiene el metabolismo de la célula y forma potenciales de acción, una estructura de transmisión, y una estructura de salida que comunica neutrotransmisiones químicas en respuesta a un potencial de acción proveniente de su axon. El modelo de oscilador controlado por voltaje puede ser relacionado a neuronas biológicas para describir la actividad eléctrica en la región [hillock](https://en.wikipedia.org/wiki/Axon_hillock), la cual se encuentra al final de un axon, donde los potenciales de acción son generados.\n",
    "\n",
    "Por tanto, en este trabajo sólo se busca describir una parte del comportamiento neuronal, los hechos claves de neurofisiología que serán usados en este modelo son:\n",
    "\n",
    "- Existen relaciones entre las frecuencias de entrada y salida de neuronas.\n",
    "    \n",
    "- El tiempo de disparo de la célula es importante en la comunicación entre neuronas.\n",
    "    \n",
    "- Las conexiones inhibitorias y excitatorias entre neuronas son importantes.\n",
    "    \n",
    "- Muchas escalas de tiempo pueden estar en vueltas en el disparo de las neuronas.\n",
    "\n"
   ]
  },
  {
   "cell_type": "markdown",
   "metadata": {},
   "source": [
    "## Modelo de Redes Neuronales"
   ]
  },
  {
   "cell_type": "markdown",
   "metadata": {},
   "source": [
    "En esta sección se inicia por introducir el modelo básico para describir una red neuronal, el cual después será generalizado para sistemas de mayor tamaño. A continuación se describe la notación de red y como se modelarán las redes usando la metodología antes descrita. La gráfica\n",
    "\n",
    "$$N_{1}\\rightarrow^{+}N_{2}$$\n",
    "\n",
    "Indica una red de dos neuronas en la cual $N_{1}$ tiene una sinapsis excitatoria sobre $N_{2}$. Si el modelo de potenciales de membrana de las células son $\\cos\\theta_{1}$ y $\\cos\\theta_{2}$, respectivamente, entonces la red es modelada por las ecuaciones diferenciales\n",
    "\n",
    "$$\\dot{\\theta_{1}}=\\omega+\\cos\\theta_{1}$$\n",
    "$$\\dot{\\theta_{2}}=\\omega+\\cos\\theta_{2}+A\\cos(\\theta_{1}+\\phi_{12}),$$\n",
    "\n",
    "donde la primera ecuación describe $N_{1}$ y la segunda $N_{2}$. $A$ $(>0)$ describe la fuerza de conexión, $\\phi_{12}$ describe el tiempo de retraso en la conexión y aquellos debido a fuentes externas.\n",
    "\n",
    "Por otro lado, la red\n",
    "\n",
    "$$N_{1}\\rightarrow^{-}N_{2}$$\n",
    "\n",
    "describe una sinapsis inhibitoria de $N_{1}$ a $N_{2}$. El modelo es el mismo como arriba, excepto que ahora $A$ es una constante negativa.\n",
    "\n",
    "Por último, para modelar una red de $M$ neuronas, se escribirá:\n",
    "\n",
    "$$\\dot{\\theta_{j}}=\\omega_{j}+\\cos\\theta_{j}+\\sum_{k=1}^{M}C_{k,j}\\cos(\\theta_{k}+\\phi_{k,j})+E_{j}$$\n",
    "\n",
    "para $j=1,.....,M$. El factor $C_{k,j}$ describe la fuerza de conexión del elemento de red $k$ a $j$, y $\\phi_{k,j}$ describe la fase de desviación debido a la conexión, los cuales podrían ser constantes o bien cambiar con el tiempo. El término $E_{j}$ describe una señal externa aplicada al sistema."
   ]
  }
 ],
 "metadata": {
  "kernelspec": {
   "display_name": "Julia 0.4.0",
   "language": "julia",
   "name": "julia-0.4"
  },
  "language_info": {
   "file_extension": ".jl",
   "mimetype": "application/julia",
   "name": "julia",
   "version": "0.4.1"
  }
 },
 "nbformat": 4,
 "nbformat_minor": 0
}
