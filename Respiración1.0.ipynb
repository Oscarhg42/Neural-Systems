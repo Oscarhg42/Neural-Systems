{
 "cells": [
  {
   "cell_type": "markdown",
   "metadata": {},
   "source": [
    "Primero que nada, la paquetería a emplear será:"
   ]
  },
  {
   "cell_type": "code",
   "execution_count": 2,
   "metadata": {
    "collapsed": false
   },
   "outputs": [],
   "source": [
    "using TaylorSeries"
   ]
  },
  {
   "cell_type": "code",
   "execution_count": 3,
   "metadata": {
    "collapsed": false
   },
   "outputs": [
    {
     "name": "stdout",
     "output_type": "stream",
     "text": [
      "0.4.1\n"
     ]
    }
   ],
   "source": [
    "println(VERSION)\n",
    "\n",
    "using Compat"
   ]
  },
  {
   "cell_type": "code",
   "execution_count": 4,
   "metadata": {
    "collapsed": true
   },
   "outputs": [],
   "source": [
    "using PyPlot"
   ]
  },
  {
   "cell_type": "markdown",
   "metadata": {},
   "source": [
    "Ahora bien, las ecuaciones que se emplearán (Aixa: Las primeras tres ecuaciones que voy a escribir son las mismas que anotaste tu, solo debes recordar algunas cosas del texto, abajo están anotadas):"
   ]
  },
  {
   "cell_type": "markdown",
   "metadata": {},
   "source": [
    "$$ x_{in}'=\\omega_{0}+P[A\\cos(x_{in})+\\alpha-Hd(A\\cos(x_{MR}))]$$\n",
    "\n",
    "$$ x_{ex}'=\\omega_{0}+(A\\cos(x_{ex})+\\alpha-Hd(A\\cos(x_{in}))$$\n",
    "\n",
    "$$ x_{ex}'=\\omega_{0}+P[A\\cos(x_{MR})+\\alpha-Hd(z)]$$"
   ]
  },
  {
   "cell_type": "markdown",
   "metadata": {},
   "source": [
    "Donde $P(y)=tanh(y)$. Además, se tendrá una ecuación para la deflección del diafragma desde el reposo, dada por:"
   ]
  },
  {
   "cell_type": "markdown",
   "metadata": {},
   "source": [
    "$$mz''+z'+kz=Bd(\\cos(x_{in}))-Bd(\\cos(x_{ex}))+p(t)$$"
   ]
  },
  {
   "cell_type": "markdown",
   "metadata": {},
   "source": [
    "Al ser una ecuación diferencial de segundo orden se requiere descomponer en dos ecuaciones diferenciales de primer orden, obtenemos (si tienes dudas con ésto, escríbeme y te mando la forma de resolverlo):\n",
    "\n",
    "$$z'=(u-z)/m$$\n",
    "\n",
    "$$u'=-kz+Bd(\\cos(x_{in}))-Bd(\\cos(x_{ex})+p(t)$$"
   ]
  },
  {
   "cell_type": "markdown",
   "metadata": {},
   "source": [
    "Siendo $u=z'$. Lo cual se puede reescribir como(me salte los pasos de las páginas 89 y 90 del libro):"
   ]
  },
  {
   "cell_type": "markdown",
   "metadata": {},
   "source": [
    "$$r'=-\\cos^{2}(\\phi)/m+\\sin(\\phi)(Bd(\\cos(x_{in}))-Bd(\\cos(x_{ex}))/\\sqrt{km}+\\sin(\\phi)p(t)/\\sqrt{km}$$\n",
    "\n",
    "$$\\phi'=-\\omega+\\cos(\\phi)(Bd(\\cos(x_{in}))-Bd(\\cos(x_{ex}))/(r\\sqrt{km})+\\cos(\\phi)p(t)/(r\\sqrt{km})-\\sin(\\phi)\\cos(\\phi)/m$$"
   ]
  },
  {
   "cell_type": "markdown",
   "metadata": {},
   "source": [
    "(Okey, creo que todo está claro hasta aquí, son las mismas ecuaciones que tu colocaste, ahora bien, debemos programarlas) Programando las ecuaciones:"
   ]
  },
  {
   "cell_type": "code",
   "execution_count": 39,
   "metadata": {
    "collapsed": false
   },
   "outputs": [
    {
     "data": {
      "text/plain": [
       "PerFun (generic function with 1 method)"
      ]
     },
     "execution_count": 39,
     "metadata": {},
     "output_type": "execute_result"
    }
   ],
   "source": [
    "function PerFun{T<:Real}(t::T) # La función pide un arreglo con los puntos alrededor\n",
    "    # de los cuales se obtendrán las series, el máximo coeficiente N del polinomio de Taylor\n",
    "    ω1=0.3\n",
    "    B = 50.0\n",
    "    return 0.0\n",
    "end"
   ]
  },
  {
   "cell_type": "code",
   "execution_count": 66,
   "metadata": {
    "collapsed": false
   },
   "outputs": [
    {
     "data": {
      "text/plain": [
       "Running (generic function with 1 method)"
      ]
     },
     "execution_count": 66,
     "metadata": {},
     "output_type": "execute_result"
    }
   ],
   "source": [
    "# Función Running: determina los coeficientes de la series de Taylor según las ecuaciones anteriores.\n",
    "function Running{T<:Real}(vec::Array{T,1} , N::Int, t::Float64) # La función pide un arreglo con los puntos alrededor\n",
    "    # de los cuales se obtendrán las series, el máximo coeficiente N del polinomio de Taylor\n",
    "    xinT = Taylor1(vec[1], N)# Los primeros términos de la serie x0 y y0 \n",
    "    xexT = Taylor1(vec[2], N)\n",
    "    xMRT = Taylor1(vec[3], N)    \n",
    "    rT = Taylor1(vec[4], N)\n",
    "    ϕT = Taylor1(vec[5], N)    \n",
    "\n",
    "    for k = 0:N-1\n",
    "        knext = k+1\n",
    "        # Las siguientes series contienen los coeficientes hasta k\n",
    "        # los cuales son necesarios en las ecuaciones de recurrencia\n",
    "        # para obtener el coeficiente k+1\n",
    "        xinTt = Taylor1( xinT.coeffs[1:k+1], k)\n",
    "        xexTt = Taylor1( xexT.coeffs[1:k+1], k)\n",
    "        xMRTt = Taylor1( xMRT.coeffs[1:k+1], k)\n",
    "        rTt = Taylor1( rT.coeffs[1:k+1], k)\n",
    "        ϕTt = Taylor1( ϕT.coeffs[1:k+1], k)\n",
    "        # Las ecuaciones de movimiento, determinadas\n",
    "        cxin = cos(xinTt)\n",
    "        cxex = cos(xexTt)\n",
    "        cxMR = cos(xMRTt)\n",
    "        z = rTt*cos(ϕTt)\n",
    "        ap1 = (((cxMR^2)^0.5)+cxMR)/2.0\n",
    "        ap2 = (((cxin^2)^0.5)+cxin)/2.0\n",
    "        ap3 = (((cxex^2)^0.5)+cxex)/2.0\n",
    "        ap4 = (((z^2)^0.5)+z)/2.0\n",
    "        Dxin = 0.8808+((exp(2.0*(cxin+1.0-5.0*ap1))-1.0)/((exp(2.0*(cxin+1.0-5.0*ap1))+1.0)))\n",
    "        Dxex = 0.8808+(cxex+1.0-5.0*ap2)\n",
    "        DxMR = 0.8808+((exp(2.0*(cxMR+5.0*ap4))-1.0)/((exp(2.0*(cxMR+5.0*ap4))+1.0)))\n",
    "        Dr = -((z^2)/(20.0*rTt))+sin(ϕTt)*50.0*(ap2-ap3)/((20.0)^0.5)\n",
    "        Dϕ = -0.2236+cos(ϕTt)*50.0*(ap2-ap3)/(rTt*((20.0)^0.5))-sin(ϕTt)*cos(ϕTt)/20.0\n",
    "        # Los términos k+1 están determinados por (1)\n",
    "        xinT.coeffs[knext+1]  = Dxin.coeffs[knext] / knext\n",
    "        xexT.coeffs[knext+1]  = Dxex.coeffs[knext] / knext\n",
    "        xMRT.coeffs[knext+1]  = DxMR.coeffs[knext] / knext\n",
    "        rT.coeffs[knext+1]  = Dr.coeffs[knext] / knext\n",
    "        ϕT.coeffs[knext+1]  = Dϕ.coeffs[knext] / knext\n",
    "    end\n",
    "    # Se devuelven los resultados\n",
    "    return Taylor1[xinT, xexT, xMRT, rT, ϕT]\n",
    "end"
   ]
  },
  {
   "cell_type": "markdown",
   "metadata": {},
   "source": [
    "Aixa:\n",
    "\n",
    "En la función anterior, la función $d(\\cos(x_{in}))$ que preguntabas es la función que toma solo los terminos negativos, si revisas [aquí](https://en.wikipedia.org/wiki/Positive_and_negative_parts) podrás encontrar como expresarla en términos de valor absoluto y de la función en si misma, ésto es:\n",
    "\n",
    "$$d(\\cos(x_{in}))=\\frac{|\\cos(x_{in})|+\\cos(x_{in})}{2}$$\n",
    "\n",
    "En la librería de Luis no esta definido el valor absoluto, sin embargo podemos expresarlo en términos de cuadrados y raíces (eso es claro, no?). Justo ésto es lo que hago en las cosas que dicen ap1, ap2, ap3, etc. Por otro lado, las constantes que aparecen en las ecuaciones las anoté explícitamente en la función anterior. Por ejemplo: $\\omega_{0}=(1+\\tanh(1))/2=0.8808$, compruébalo!!. El resto de valores numéricos que coloco son los mismos que aparecen en el libro..\n",
    "\n",
    "El resto de funciones son las mismas que ya he colocado antes."
   ]
  },
  {
   "cell_type": "code",
   "execution_count": 67,
   "metadata": {
    "collapsed": false
   },
   "outputs": [
    {
     "data": {
      "text/plain": [
       "paso (generic function with 1 method)"
      ]
     },
     "execution_count": 67,
     "metadata": {},
     "output_type": "execute_result"
    }
   ],
   "source": [
    "# Función paso: determina el tamaño de paso para la integración\n",
    "# por método de Taylor.\n",
    "function paso{T<:Real}(x::Taylor1{T}, epsilon::Float64)# Se introduce un polinomio de Taylor y el epsilon\n",
    "    k = x.order# Orden del polinomio\n",
    "    h = 1.0# Iniciamos h\n",
    "    for i in [k-1, k]# Iteramos solo para los dos primeros términos del polinomio\n",
    "        aux = abs( x.coeffs[i+1] )\n",
    "        h = min(h, (epsilon/aux)^(1.0/i))# Nos quedamos con el mínimo\n",
    "    end\n",
    "    return h # La función devuelve h\n",
    "end"
   ]
  },
  {
   "cell_type": "code",
   "execution_count": 68,
   "metadata": {
    "collapsed": false
   },
   "outputs": [
    {
     "data": {
      "text/plain": [
       "evaluador (generic function with 1 method)"
      ]
     },
     "execution_count": 68,
     "metadata": {},
     "output_type": "execute_result"
    }
   ],
   "source": [
    "# Función evaluador: Determina los coeficientes después de cada paso.\n",
    "function evaluador{T<:Real}( Eqs::Function, vec0::Array{T,1}, N::Int, epsilon::Float64, t::Float64)# La función solicita las ecuaciones\n",
    "    # a resolver, un arreglo de condiciones iniciales, N que indica el máximo coeficiente de expansión y la epsilón.\n",
    "    \n",
    "    n = length(vec0)# Definimos algunas cantidades de utilidad\n",
    "    vec1T = Eqs(vec0, N, t)# Resolvemos las ecuaciones con las condiciones iniciales\n",
    "    \n",
    "    # Obtenemos h para cada serie usando la función paso\n",
    "    hh = vec0\n",
    "    for i in eachindex(vec1T)\n",
    "        hh[i] = paso(vec1T[i], epsilon)\n",
    "    end\n",
    "    \n",
    "    # Tomamos el mínimo de los h's\n",
    "    hfin = hh[1]\n",
    "    for i in eachindex(hh)\n",
    "        hfin = min(hfin,hh[i])\n",
    "    end\n",
    "    \n",
    "    # Se determinan los valores del nuevo arreglo\n",
    "    for i=1:n\n",
    "        vec0[i] = evaluate(vec1T[i], hfin)\n",
    "    end\n",
    "    \n",
    "    return hfin, vec0# Devolvemos los resultados\n",
    "end"
   ]
  },
  {
   "cell_type": "code",
   "execution_count": 75,
   "metadata": {
    "collapsed": false
   },
   "outputs": [
    {
     "data": {
      "text/plain": [
       "Integrador1 (generic function with 1 method)"
      ]
     },
     "execution_count": 75,
     "metadata": {},
     "output_type": "execute_result"
    }
   ],
   "source": [
    "# Función Integrador1: contiene las ecuaciones a resolver usando el método de integración de Taylor\n",
    "function Integrador1(t_max::Float64, Eqs::Function, epsilon::Float64, N::Int)\n",
    "    # Usará las funciones antes desarrolladas, este función pide un tiempo máximo de operación, las ecuaciones\n",
    "    # a resolver, el epsilón y el orden del polinomio de Taylor\n",
    "    t0 = 0.0# Iniciamos el tiempo\n",
    "    xin0, xex0, xMR0, r0, ϕ0 = 2*π,2*π,2*π,1.0,0.0# Condiciones iniciales. AIXA: Te recomiendo que juegues con\n",
    "    # las condiciones iniciales, aquí debe de estar el truco para obtener las gráficas que queriamos.\n",
    "    \n",
    "    \n",
    "    tV, xinV, xexV, xMRV, rV, ϕV = Float64[], Float64[], Float64[], Float64[], Float64[], Float64[]# Aquí se ubicarán los resultados\n",
    "    push!(tV, t0)\n",
    "    push!(xinV, xin0)# COlocamos condiciones iniciales\n",
    "    push!(xexV, xex0)\n",
    "    push!(xMRV, xMR0)\n",
    "    push!(rV, r0)\n",
    "    push!(ϕV, ϕ0)\n",
    "\n",
    "    # Resolvemos para cada tiempo\n",
    "    dt = 1.0# Paso inicial\n",
    "    while t0 < t_max && dt>1.0e-8# Condiciones de paro\n",
    "        \n",
    "        dt, res = evaluador( Running, [xin0, xex0, xMR0, r0, ϕ0], N, epsilon, t0)# Resolvemos\n",
    "        t0 += dt# A t0 se le suma el tamaño de paso\n",
    "        push!(tV,t0)\n",
    "        push!(xinV,res[1])# Los resultados se guardan\n",
    "        push!(xexV,res[2])\n",
    "        push!(xMRV,res[3])# Los resultados se guardan\n",
    "        push!(rV,res[4])\n",
    "        push!(ϕV,res[5])\n",
    "        xin0, xex0, xMR0, r0, ϕ0 = res[1], res[2], res[3], res[4], res[5]# Nuevas condiciones iniciales\n",
    "    end\n",
    "\n",
    "    return tV, xinV, xexV, xMRV, rV, ϕV# Devuelve los resultados\n",
    "end"
   ]
  },
  {
   "cell_type": "markdown",
   "metadata": {},
   "source": [
    "#AIXA: En general todo el programa requiere revisión, todavía no repite los resultados del Libro; sin embargo, creo que no es difícil, si necesita ayuda avísame."
   ]
  },
  {
   "cell_type": "code",
   "execution_count": 70,
   "metadata": {
    "collapsed": false
   },
   "outputs": [],
   "source": [
    "rest, resxin, resxex, resxMR, resr, resϕ = Integrador1(500.0,Running,10.0^(-10),20);"
   ]
  },
  {
   "cell_type": "markdown",
   "metadata": {},
   "source": [
    "Okey, parece que funcionó, veamos que resultados nos entrega:"
   ]
  },
  {
   "cell_type": "code",
   "execution_count": 71,
   "metadata": {
    "collapsed": false
   },
   "outputs": [],
   "source": [
    "Z = resr\n",
    "for i in eachindex(resr)\n",
    "    Z[i] = resr[i]*cos(resϕ[i])\n",
    "end"
   ]
  },
  {
   "cell_type": "code",
   "execution_count": 74,
   "metadata": {
    "collapsed": false
   },
   "outputs": [
    {
     "data": {
      "image/png": "[encoded data removed]",
      "text/plain": [
       "PyPlot.Figure(PyObject <matplotlib.figure.Figure object at 0x86e2ac4c>)"
      ]
     },
     "metadata": {},
     "output_type": "display_data"
    }
   ],
   "source": [
    "plot(rest,Z)\n",
    "xlim([0.0,500.0])\n",
    "show()"
   ]
  },
  {
   "cell_type": "code",
   "execution_count": null,
   "metadata": {
    "collapsed": true
   },
   "outputs": [],
   "source": []
  }
 ],
 "metadata": {
  "kernelspec": {
   "display_name": "Julia 0.4.0",
   "language": "julia",
   "name": "julia-0.4"
  },
  "language_info": {
   "file_extension": ".jl",
   "mimetype": "application/julia",
   "name": "julia",
   "version": "0.4.1"
  }
 },
 "nbformat": 4,
 "nbformat_minor": 0
}
