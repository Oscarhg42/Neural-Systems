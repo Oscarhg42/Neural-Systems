{
 "cells": [
  {
   "cell_type": "markdown",
   "metadata": {
    "slideshow": {
     "slide_type": "-"
    }
   },
   "source": [
    "###Resumen y objetivos. \n",
    "\n",
    "El objetivo de este trabajo consiste en modelar la actividad neuronal presente distintas redes de neuronas mediante el uso de ecuaciones diferenciales. Estas ecuaciones diferenciales describen cómo las neuronas en las redes producen los llamados potenciales de acción caracterizándolos por medio de *fases* como si de funciones periódicas se tratasen. Se obtuvieron gráficas que muestran de manera cualitativa los potenciales de acción que se pruducen en tres redes neuronales debido a la respuesta de las neuronas ante ciertos estímulos externos y a la interacción entre ellas.\n",
    "La primera es una red formada entre  neuronas presentes en el *tálamo*, otras en el *complejo reticular*  y otras en la *corteza cerebral*. La segunda es una red de neuronas que controla el *diafragma* en la respiración humana en reposo y cuando se corre. Finalmente la tercer red de neuronas modela cómo algunos mamíferos binaurales localizan los sonidos que escuchan. \n",
    "\n",
    "El modelo base de estas ecuaciones diferenciales es el de *osciladores controlados por voltaje*, que en breves palabras es un modelo para la fase de una señal periódica que se ve modulada por retroalimentación ó voltajes debido a estímulos externos.\n"
   ]
  },
  {
   "cell_type": "markdown",
   "metadata": {},
   "source": [
    "# I. Breve introducción  a la fisiología de neuronas."
   ]
  },
  {
   "cell_type": "markdown",
   "metadata": {
    "collapsed": true
   },
   "source": [
    "El sistema nervioso está compuesto de neuronas, que producen impulsos electroquímicos y los conducen, y por células de sostén, que ayudan a las funciones de las neuronas. Las neuronas se clasifican desde los puntos de vista funcional y estructural; los diversos tipos de células de sostén desempeñan funciones especializadas.\n",
    "\n",
    "El sistema nervioso se divide en sistema nervioso central (CNS, del inglés central nervous system), el cual incluye el cerebro y la médula espinal, y el sistema nervioso periférico (PNS, del inglés peripheral nervous system), que comprende los pares craneales que surgen desde el cerebro y los nervios espinales que surgen a partir de la médula espinal.\n",
    "\n",
    "El sistema nervioso está compuesto de sólo dos tipos principales de células: neuronas y células de sostén. Las neuronas son las subunidades estructurales y funcionales básicas del sistema nervioso; están especializadas para responder a estímulos físicos y químicos, conducir impulsos electroquímicos, y liberar reguladores químicos. Por medio de estas actividades, las neuronas permiten la percepción de estímulos sensoriales, el aprendizaje, la memoria, y el control de músculos y glándulas.\n",
    "\n",
    "Aunque las neuronas varían considerablemente de tamaño y forma, por lo general tienen tres regiones principales: 1) un cuerpo celular, 2) dendritas y 3) un axón. \n",
    "El cuerpo celular es la porción agrandada de la neurona que contiene el núcleo.\n",
    "\n",
    "![](https://raw.githubusercontent.com/Oscarhg42/Neural-Systems/Oscar/images/neurona.jpg)\n",
    "\n",
    "Las dendritas (del griego dendron, “rama de árbol”) son prolongaciones delgadas y ramificadas que se extienden desde el citoplasma del cuerpo celular. Las dendritas proporcionan un área receptiva que transmite impulsos electroquímicos graduados hacia el cuerpo celular. El axón es una prolongación más larga que conduce impulsos, llamados potenciales de acción  desde el cuerpo celular hacia la periferia\n",
    "\n",
    "Las neuronas pueden clasificarse de acuerdo con su función o estructura. La **clasificación funcional** se basa en la dirección en la cual conducen impulsos. Las neuronas sensoriales, o aferentes, conducen impulsos desde receptores sensoriales hacia el CNS. Las neuronas motoras, o eferentes, conducen impulsos hacia afuera del CNS hacia órganos efectores (músculos y glándulas). Las neuronas de asociación, o interneuronas, están localizadas por completo dentro del CNS y desempeñan las funciones de asociación, o integración, del sistema nervioso.\n",
    "\n",
    "![](https://raw.githubusercontent.com/Oscarhg42/Neural-Systems/Oscar/images/funcional.jpg)\n",
    "\n",
    "La **clasificación estructural** de las neuronas se basa en el número de prolongaciones que extienden desde el cuerpo celular de la neurona\n",
    "\n",
    "![](https://raw.githubusercontent.com/Oscarhg42/Neural-Systems/Oscar/images/estructural.jpg)\n",
    "\n"
   ]
  },
  {
   "cell_type": "markdown",
   "metadata": {},
   "source": [
    "## I.1 Actividad eléctrica en los axones"
   ]
  },
  {
   "cell_type": "markdown",
   "metadata": {},
   "source": [
    "Debido a que  dentro y fuera de las células del cuerpo hay iones de distintos elementos y sustancias químicas, se puede pensar en la distribución de carga eléctrica que hay dentro y fuera de la célula. Resulta ser que esta distribución de iones no es uniforme y esto da lugar a la existencia de una diferencia de potencial entre el medio interior de la célula (medio intracelular o citoplasma) y el medio extracelular. La membrana celular atrapa dentro de la célula moléculas orgánicas  **grandes** con cargas negativas, y permite sólo difusión limitada de iones con carga positiva. En el caso particular de las neuronas, los iones que causan esta diferencia de potencial son pincipalmente iones de sodio $Na^+$ y iones de potasio $K^+$.La concentraciones de iones de sodio $Na^+$ es mayor en el exterior de las neuronas y en el interior de la celula la concentracion de los iones de potasio $K^+$ es la que domina. Cuando una neurona está en equilibrio y no está realizando ningún tipo de actividad el valor para esta diferncia de potencial es cercano a los $-70mV$. A este valor se le denomina **potencial de membrana en reposo (Rmp,de *resting membrane potential*)**.\n",
    "\n",
    "La **ecxitabilidad o irritabilidad** de una neurona es la capacidad que ésta tiene para cambiar las diferencias de potencial por medio de la difusión de iones a través de su mebrana como respuesta a estímulos externos. Si los estímulos externos causan un flujo de cargas positivas hacia el interior de la neurona, entonces la diferecia de potencial se hace menos negativa y a este proceso se le llama **despolarización** o también se dice que la neurona de **despolariza**. Si el estímulo causa que fluyan iones positivos del interior al exterior, entonces la dif. de potencial se hace más negativa y se denomina a este proceso como **hiperpolarización** o también se dice que la neurona se **hiperpolariza** (A los estímulos que producen despolarización se les llama **excitatorios** ya los que causan hperpolarización se les denomina **inhibitorios**). Un regreso de potencial al potencial de membrana en reposo se le llama **repolarización** o se dice que la neurona se repolarizó.\n",
    "\n",
    "###Compuertas de iones en los axones\n",
    "\n",
    "En los axones de las neuronas, los iones de sodio y potasio se difunden a través de pequeños canales de iones, a los que a veces se les denomina como *canales de compuerta*. Los canales de inoes para $Na^+$ y para $k^+$ son **específicos** para cada ion y se abren o se cierran en función de la diferencia de potencial entre la membrana del axón y el medio extracelular.\n",
    "Hay dos tipos de canalespara $K^+$. Un tipo tiene compuerta, y las compuertas están cerradas cuando la neurona está en el *Rmp*. El otro tipo de canal carece de compuerta, y se les denomina **canales de escape**. En contraste, para el $Na^+$, **todos los canales tienen compuerta** y tambien están cerrados en el *Rmp*.\n",
    "\n",
    "Debido a que los canales con copuerta se abren o se cierran dependiendo de la diferencia de porencial, se dice que estos canales de iones en la membrana del axón son ** *canales regulados por voltaje* **. \n",
    "\n",
    "Esto último es **muy importante** pues esta característica fisiológica de las neuronas produce los *potenciales de acción* (que se explicarán en la siguiente subsección) y así los potenciales de acción se pueden **regular por voltaje**. Gracias a esto **es posible plantear modelos matemáticos ** parecidos a los de algunos circuitos electrónicos que pretenden explicar y aclara cómo una neurona responde a diferentes estímulos. Más adelante se explotará esta idea para introducir el modelo matemático sobre el que se trabajará. \n",
    "\n",
    "![canales](https://raw.githubusercontent.com/Oscarhg42/Neural-Systems/Oscar/images/canales.jpg)"
   ]
  },
  {
   "cell_type": "markdown",
   "metadata": {},
   "source": [
    "## I.2 Potenciales de acción"
   ]
  },
  {
   "cell_type": "markdown",
   "metadata": {},
   "source": [
    "Cuando una neurona recibe un estímulo excitatorio, las compuertas de $Na^+$ se comiezan a abrir y por tanto la neurona se comienza a *despolarizar*  y este proceso contiúa hasta que la diferencia de potencial alcanza un valor especial denominado **potencial umbral**. Este umbral se caracteriza por que muchas compuertas de $Na^+$ se abren y la membrana se hace muy permeable al $Na^+$. Esto permite que entre $Na^+$ al axón que a su vez despolariza más a la neurona. Mas compuertas para los canales de sodio de la membrana al estar reguladas por voltaje, esta despolarización produce que se abran mas canales para sodio y cada vez la membrana se vuelva más permeable al sodio. Esto es un *bucle de retroalimentación positiva*, lo que provoca que la diferencia de potencial entre  el interior de la neurona y su exterior, se haga muy positivo de manera muy rápida y pasa de estar en un potencial *Rmp* a un valor de casi $+30mV$. En ese punto los canales de $Na^+$ se cierran y esto provoca que la membrana ráoidamente deje de ser permeable a los iones de sodio. Asimismo, pero de manera *desfasada*, los canales de $K^+$se abren y se difunde potasio con rapidez hacia afuera de la neurona.\n",
    "\n",
    "![](https://raw.githubusercontent.com/Oscarhg42/Neural-Systems/Oscar/images/pot1.jpg)\n",
    "\n"
   ]
  },
  {
   "cell_type": "markdown",
   "metadata": {},
   "source": [
    "Debido a que los iones de sodio salen, esto produce que la carga en la neurona se haga más negativa y por tanto la diferencia de potencial vuelve a disminuir hasta que la neruona se repolariza, esto es la diferencia de potencial vuelve a ser el *Rmp*. Esta serie de cambios en la diferencia de potencial que hay entre el interior y exterior  de la neurona es lo que se conoce como **potencial de acción, señal ó impulso nervioso**.\n",
    "\n",
    "![](https://raw.githubusercontent.com/Oscarhg42/Neural-Systems/Oscar/images/pot2.jpg)\n",
    "\n",
    "Una característica muy importante de los potenciales de acción es que **todos los estímulos** que logran producir potenciales de acción **tienen la misma amplitud**. Esto es **independiente** de la magnitud del estímulo. \n",
    "\n",
    "![](https://raw.githubusercontent.com/Oscarhg42/Neural-Systems/Oscar/images/pot3.jpg)\n",
    "\n",
    "Lo que sucede cuando se apliza un estímulo mayor, se producen más potenciales de acción por unidad de tiempo, es decir que los potenciales de accción se producen cada vez más con una frecuencia mayor. Esto se parece a las señales de frecuencia modulada (FM) y esta característica es también es muy **importante** y juega un papel centralen el modelo matemático que se planteará mas adelante.\n",
    "\n",
    "![](https://raw.githubusercontent.com/Oscarhg42/Neural-Systems/Oscar/images/pot4.jpg)\n",
    "\n",
    "Tabién vale la pena señalar que esto último es una observación experimental hecha en el estudio de neuronas.\n",
    "\n",
    "\n",
    "\n"
   ]
  },
  {
   "cell_type": "markdown",
   "metadata": {},
   "source": [
    "## I.3 Sinápsis entre neuronas \n",
    "Para finalizar con el breve repaso de fisiología de neuronas, de manera muy breve introduciremos el conepto de sinapsis.\n",
    "\n",
    "Una **sinápsis** es la conexión funcional entre una neurona y una segunda célula. En el CNS, esta otra célula también es una neurona; en el PNS, la otra célula puede ser una neurona o una célula efectora dentro de un músculo o una glándula.\n",
    "Las sinapsis entre neurona y neurona por lo general comprenden una conexión entre el axón de una neurona y las dendritas, el cuerpo celular o el axón de una segunda neurona.\n",
    "Las sinapsis pueden ser meramente trnasmisiones de impuslso eléctricos o se pueden dar por medio de la liberacion de neurotransmisores químicos desde las terminaciones del axón presinápticas. De hecho esta es el tipo de sinapsis que predomina en el sistema nervioso. La siguiente figura ilustra a grandes rasgos este proceso\n",
    "\n",
    "![](https://raw.githubusercontent.com/Oscarhg42/Neural-Systems/Oscar/images/sinapsisquimica.jpg)\n",
    "\n",
    "\n",
    "Por medio de las sinapsis los potenciales de acción pasan de una neurona a otra. Esto es lo que nos interesa para estudiar las redes neuronales. Cuando se tiene una red de varias neuronas, éstas forman sinapsis entre sí y logran transmitir los potenciales de acción y por medio del modelo matemático que se presenta a continuación se pretende ver cómo los potenciales de accion producidos en la red sobre algunas neuronas meidante ciertos estímulos, se transmiten a través de toda la red. Es decir que dada red queremos ver los potenciales de cada una de las neuronas."
   ]
  },
  {
   "cell_type": "markdown",
   "metadata": {},
   "source": [
    "# II Modelo matemático para las redes de neuronas"
   ]
  },
  {
   "cell_type": "markdown",
   "metadata": {},
   "source": [
    "Para modelar una red de neuronas primero introduciomos el concepto de *oscilador controlado por voltaje* (VCO por sus siglas en inglés, voltage controlled oscillator y \n",
    "cuando se aplica a neuronas el modelo se denota por las siglas **VCON**). Para esto recordemos que una señal periódica se puede modelar con una función $f$ que satisface:\n",
    "\n",
    "$$f(t)=f(t+T) \\ \\forall \\ t  \\ \\in D_f,$$\n",
    "siendo $T$ el periodo de la señal.\n",
    "\n",
    "Las funciones sinusoidales son por excelencia las funciones que se utilizan normalmente como forma explícita para $f$. Así la función\n",
    "\n",
    "$$f(t)=Asin(\\omega t +\\phi),$$\n",
    "\n",
    "con $\\omega=\\frac{2\\pi}{T}$ la frecuencia, $\\phi$ una fase inicial y $A$ una amplitud con la magnitud física correspondiente a la señal que desee ser modelada (voltaje, corriente, magnitud de campo eléctrico, etc.)\n",
    "\n",
    "\n",
    "Para manipular una señal por lo general se hacen dos cosas: \n",
    "1. Modular su amplitud $A$ (AM), ó \n",
    "2. Modular su frecuencia $\\omega$ (FM). \n",
    "\n",
    "En este caso estamos interesados en el segundo caso pues como se comento anteriormente, los potenciales de acción (señales, impulsos nerviosos) en las neuronas presentan la propiedad de que sus amplitudes son independientes del estimulo aplicado sobre la neurona y lo que cambia dependiendo del estímulo, es *la frecuencia* con la que se producen los potenciales de acción.\n",
    "\n",
    "Definimos la **fase** de la señal $f(t)$ como:\n",
    "\n",
    "$$\\theta=\\omega t +\\phi$$ \n",
    "\n",
    "cuyo cambio en el tiempo queda determinada por:\n",
    "\n",
    "$$\\dot{\\theta}=\\omega$$\n",
    "\n",
    "Entonces para modular la frecuencia sumamos una función a esta última ecuación diferencial:\n",
    "\n",
    "$$\\dot{\\theta}=\\omega + S(V)$$ \n",
    "\n",
    "donde $S(V)$ es una función que puede depender de parámetros como el tiempo $t$, y si y si se diseña un método de \"feedback\" también puede depender de la fase $\\theta$ que se obtiene en la salida ó de la misma frecuencia $\\omega$; así como  de muchos otros parámetros que le den sentido físico a la función $S(V)$.\n",
    "\n",
    "Entonces el modelo del **oscilador controlado por voltaje** es esta última ecuacion diferencial con: \n",
    "\n",
    "$$V(t,\\theta ,\\omega ,\\psi_1,...\\psi_N)$$ \n",
    "\n",
    "el voltaje que modula la frecuencia, y $\\psi_1,...\\psi_N$ una serie de parámetros de los que puede depender el voltaje y en este caso la función $S$ simplemente transforma las unidades de Volts a Hertz para que tenga sentido esta suma. \n",
    "\n",
    "Para hacer los ultimos coemntarios acerca de este modelo graficamos una señal sinusoidal de la forma $f(t)=Asin(\\omega t +\\phi)$ y a su derecha la parte psitiva.\n",
    "\n",
    "![](https://raw.githubusercontent.com/Oscarhg42/Neural-Systems/Oscar/images/se%C3%B1al.jpg)\n",
    "\n",
    "La parte positiva puede recordarnos una de las imagenes presentadas en la sección de potenciales de accion de las neuronas. Su forma no es la misma, pues los potenciales de acción se ven un poco más \"picudos\", y es aquí donde vale la pena comentar que el modelo VCON ayuda a ver la frecuencia de los potenciales de acción y no sus formas físicas exactas, por lo que la visualización de **los resultados de este modelo solo muestra el comportamiento de las fase  de las señales nerviosas**.\n",
    "\n",
    "Ahora, para modelar una red de neuronas a partir del VCON, lo que se hace es plantear un sistema de ecuaciones diferenciales acopladas, cyua forma general es de la forma:\n",
    "\n",
    "$$\\dot{\\theta_i}=\\omega_i + S(V_i) + F_i(\\theta_1,..\\theta_N) $$ \n",
    "\n",
    "en donde la función $F_i$ es la función que acopla a la neurona i-ésima con el resto y depende de las fases de todas las neuronas. Se puede decir que representa las sinapsis de esa neurona con las demás y cómo los potenciales de acción que se transmiten en estas sinapsis, **modulan también la frecuencia** con la que la neurona i-ésima está disparando sus potenciales de acción)."
   ]
  },
  {
   "cell_type": "markdown",
   "metadata": {},
   "source": [
    "Por ejemplo para modelar una red muy simple de dos neuronas excitatorias y/o inhibitorias se introduce una  notación de red y cómo podemos plantear un sistema de VCON´s.\n",
    "La gráfica:\n",
    "\n",
    "$$N_{1}\\rightarrow^{+}N_{2},$$\n",
    "\n",
    "indica una red de dos neuronas en la cual $N_{1}$ tiene una sinapsis excitatoria sobre $N_{2}$. Si en este modelo modulamos las fases $\\theta _1, \\theta_2$ de los potenciales de acción de  ambas neuronas, con los voltajes dados por $\\cos\\theta_{1}$ y $\\cos\\theta_{2}$, entonces la red puede se  modelada por las ecuaciones diferenciales\n",
    "\n",
    "$$\\dot{\\theta_{1}}=\\omega+\\cos\\theta_{1}$$\n",
    "$$\\dot{\\theta_{2}}=\\omega+\\cos\\theta_{2}+A\\cos(\\theta_{1}+\\phi_{12}),$$\n",
    "\n",
    "donde la primera ecuación describe $N_{1}$ y la segunda $N_{2}$. $A$ $(>0)$ describe la fuerza de conexión, $\\phi_{12}$ describe el tiempo de retraso en la conexión y aquellos debido a fuentes externas.\n",
    "\n",
    "Por otro lado, la red\n",
    "\n",
    "$$N_{1}\\rightarrow^{-}N_{2}$$\n",
    "\n",
    "describe una sinapsis inhibitoria de $N_{1}$ a $N_{2}$. El modelo es el mismo como arriba, excepto que ahora $A$ es una constante negativa."
   ]
  }
 ],
 "metadata": {
  "kernelspec": {
   "display_name": "Julia 0.3.11",
   "language": "julia",
   "name": "julia-0.3"
  },
  "language_info": {
   "file_extension": ".jl",
   "mimetype": "application/julia",
   "name": "julia",
   "version": "0.3.11"
  }
 },
 "nbformat": 4,
 "nbformat_minor": 0
}
