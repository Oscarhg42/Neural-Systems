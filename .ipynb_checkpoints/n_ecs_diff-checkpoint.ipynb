{
 "cells": [
  {
   "cell_type": "code",
   "execution_count": 16,
   "metadata": {
    "collapsed": false
   },
   "outputs": [],
   "source": [
    "using TaylorSeries"
   ]
  },
  {
   "cell_type": "code",
   "execution_count": 17,
   "metadata": {
    "collapsed": false
   },
   "outputs": [
    {
     "name": "stdout",
     "output_type": "stream",
     "text": [
      "0.4.1\n"
     ]
    }
   ],
   "source": [
    "println(VERSION)\n",
    "\n",
    "using Compat"
   ]
  },
  {
   "cell_type": "code",
   "execution_count": 18,
   "metadata": {
    "collapsed": true
   },
   "outputs": [],
   "source": [
    "using PyPlot"
   ]
  },
  {
   "cell_type": "markdown",
   "metadata": {},
   "source": [
    "El objetivo de este notebook es hacer un integrador de $n$ ecuaciones diferenciales."
   ]
  },
  {
   "cell_type": "code",
   "execution_count": 19,
   "metadata": {
    "collapsed": false
   },
   "outputs": [
    {
     "data": {
      "text/plain": [
       "paso (generic function with 1 method)"
      ]
     },
     "execution_count": 19,
     "metadata": {},
     "output_type": "execute_result"
    }
   ],
   "source": [
    "# Función paso: determina el tamaño de paso para la integración\n",
    "# por método de Taylor.\n",
    "function paso{T<:Real}(x::Taylor1{T}, epsilon::Float64)# Se introduce un polinomio de Taylor y el epsilon\n",
    "    k = x.order# Orden del polinomio\n",
    "    h = 1.0# Iniciamos h\n",
    "    for i in [k-1, k]# Iteramos solo para los dos primeros términos del polinomio\n",
    "        aux = abs( x.coeffs[i+1] )\n",
    "        h = min(h, (epsilon/aux)^(1.0/i))# Nos quedamos con el mínimo\n",
    "    end\n",
    "    return h # La función devuelve h\n",
    "end"
   ]
  },
  {
   "cell_type": "code",
   "execution_count": 50,
   "metadata": {
    "collapsed": false
   },
   "outputs": [
    {
     "data": {
      "text/plain": [
       "evaluador (generic function with 3 methods)"
      ]
     },
     "execution_count": 50,
     "metadata": {},
     "output_type": "execute_result"
    }
   ],
   "source": [
    "# Función evaluador: Determina los coeficientes después de cada paso.\n",
    "function evaluador( Eqs, vec0, N, epsilon, t)# La función solicita las ecuaciones\n",
    "    # a resolver, un arreglo de condiciones iniciales, N que indica el máximo coeficiente de expansión y la epsilón.\n",
    "    \n",
    "    n = length(vec0)# Definimos algunas cantidades de utilidad\n",
    "    vec1T = Eqs(vec0, N, t)# Resolvemos las ecuaciones con las condiciones iniciales\n",
    "    \n",
    "    # Obtenemos h para cada serie usando la función paso\n",
    "    hh = vec0\n",
    "    for i in eachindex(vec1T)\n",
    "        hh[i] = paso(vec1T[i], epsilon)\n",
    "    end\n",
    "    \n",
    "    # Tomamos el mínimo de los h's\n",
    "    hfin = hh[1]\n",
    "    for i in eachindex(hh)\n",
    "        hfin = min(hfin,hh[i])\n",
    "    end\n",
    "    \n",
    "    # Se determinan los valores del nuevo arreglo\n",
    "    for i=1:n\n",
    "        vec0[i] = evaluate(vec1T[i], hfin)\n",
    "    end\n",
    "    \n",
    "    return hfin, vec0# Devolvemos los resultados\n",
    "end"
   ]
  },
  {
   "cell_type": "markdown",
   "metadata": {},
   "source": [
    "Hice esta función con Vector{Float64}[[x0]] porque me pareció más fácil.. Tengo problemas con evaluador, así que sugerencias bienvenidas"
   ]
  },
  {
   "cell_type": "code",
   "execution_count": 69,
   "metadata": {
    "collapsed": false
   },
   "outputs": [
    {
     "data": {
      "text/plain": [
       "1-element Array{Array{Float64,1},1}:\n",
       " [2.0,2.0]"
      ]
     },
     "execution_count": 69,
     "metadata": {},
     "output_type": "execute_result"
    }
   ],
   "source": [
    "y_0=Vector{Float64}[[2,2]]"
   ]
  },
  {
   "cell_type": "code",
   "execution_count": 70,
   "metadata": {
    "collapsed": false
   },
   "outputs": [
    {
     "data": {
      "text/plain": [
       "2-element Array{Array{Float64,1},1}:\n",
       " [2.0,2.0]\n",
       " [1.0,2.0]"
      ]
     },
     "execution_count": 70,
     "metadata": {},
     "output_type": "execute_result"
    }
   ],
   "source": [
    "push!(y_0,[1,2])"
   ]
  },
  {
   "cell_type": "code",
   "execution_count": 71,
   "metadata": {
    "collapsed": false
   },
   "outputs": [
    {
     "data": {
      "text/plain": [
       "2x2 Array{Float64,2}:\n",
       " 2.0  1.0\n",
       " 2.0  2.0"
      ]
     },
     "execution_count": 71,
     "metadata": {},
     "output_type": "execute_result"
    }
   ],
   "source": [
    "hcat(y_0...)"
   ]
  },
  {
   "cell_type": "code",
   "execution_count": 72,
   "metadata": {
    "collapsed": false
   },
   "outputs": [
    {
     "data": {
      "text/plain": [
       "Integrador2 (generic function with 2 methods)"
      ]
     },
     "execution_count": 72,
     "metadata": {},
     "output_type": "execute_result"
    }
   ],
   "source": [
    "# Función Integrador2: contiene las ecuaciones a resolver usando el método de integración de Taylor para n ecuaciones diferenciales\n",
    "function Integrador2(t_max::Float64, Eqs::Function, epsilon::Float64, N::Int,x0,t0)\n",
    "    #x0 son las condiciones iniciales, en caso de n ecuaciones diferenciales x0 debe ser un vector de tamaño n\n",
    "    # Usará las funciones antes desarrolladas, este función pide un tiempo máximo de operación, las ecuaciones\n",
    "    # a resolver, el epsilón y el orden del polinomio de Taylor\n",
    "    #t0, tiempo inicial\n",
    "    x=Vector{Float64}[[x0]]# Aquí se ubicarán los resultados y colocamos condiciones iniciales\n",
    "    tV=Float64[]\n",
    "\n",
    "    # Resolvemos para cada tiempo\n",
    "    dt = 1.0# Paso inicial\n",
    "    while t0 < t_max && dt>1.0e-8# Condiciones de paro\n",
    "        \n",
    "        dt, res = evaluador(Eqs,x0, N, epsilon, t0)# Problemas con evaluador!!!\n",
    "        t0 += dt# A t0 se le suma el tamaño de paso\n",
    "        push!(tV,t0)\n",
    "        push!(x,res)\n",
    "        x0=res# Nuevas condiciones iniciales\n",
    "    end\n",
    "\n",
    "    return t,hcat(x...)'# Devuelve los resultados \n",
    "end"
   ]
  },
  {
   "cell_type": "markdown",
   "metadata": {},
   "source": [
    "Como no funciona veamos qué pasa, simularemos los primeros dos pasos del while"
   ]
  },
  {
   "cell_type": "code",
   "execution_count": 92,
   "metadata": {
    "collapsed": false
   },
   "outputs": [
    {
     "data": {
      "text/plain": [
       "1-element Array{Array{Float64,1},1}:\n",
       " [6.283185307179586,6.283185307179586,6.283185307179586,1.0,0.0]"
      ]
     },
     "execution_count": 92,
     "metadata": {},
     "output_type": "execute_result"
    }
   ],
   "source": [
    "x_0=[2*π,2*π,2*π,1.0,0.0]\n",
    "x=Vector{Float64}[[x_0]]"
   ]
  },
  {
   "cell_type": "code",
   "execution_count": 93,
   "metadata": {
    "collapsed": false
   },
   "outputs": [
    {
     "data": {
      "text/plain": [
       "3-element Array{Array{Float64,1},1}:\n",
       " [6.283185307179586,6.283185307179586,6.283185307179586,1.0,0.0]                                \n",
       " [6.251019500604196,5.6462203497812915,6.831959957111089,0.9975115654504034,0.14611150573561069]\n",
       " [6.251019500604196,5.6462203497812915,6.831959957111089,0.9975115654504034,0.14611150573561069]"
      ]
     },
     "execution_count": 93,
     "metadata": {},
     "output_type": "execute_result"
    }
   ],
   "source": [
    "\n",
    "dt, res = evaluador( Running,x_0, 20,1e-10, 0.0)\n",
    "push!(x,res)\n",
    "x_0=res\n",
    "dt, res = evaluador( Running,x_0, 20,1e-10, 0.0)\n",
    "push!(x,res)\n"
   ]
  },
  {
   "cell_type": "markdown",
   "metadata": {},
   "source": [
    "Al evaluar 2 veces $x_0$ el resultado es constante, pero no debería!"
   ]
  },
  {
   "cell_type": "code",
   "execution_count": null,
   "metadata": {
    "collapsed": true
   },
   "outputs": [],
   "source": []
  }
 ],
 "metadata": {
  "kernelspec": {
   "display_name": "Julia 0.4.1",
   "language": "julia",
   "name": "julia-0.4"
  },
  "language_info": {
   "file_extension": ".jl",
   "mimetype": "application/julia",
   "name": "julia",
   "version": "0.4.1"
  }
 },
 "nbformat": 4,
 "nbformat_minor": 0
}
